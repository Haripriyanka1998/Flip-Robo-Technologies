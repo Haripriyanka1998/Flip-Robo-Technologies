{
 "cells": [
  {
   "cell_type": "markdown",
   "metadata": {},
   "source": [
    "### Q1: Write a python program to scrape data for “Data Scientist” Job position in “Bangalore” location. You have to scrape the job-title, job-location, company_name, experience_required. You have to scrape first 10 jobs data.\n"
   ]
  },
  {
   "cell_type": "code",
   "execution_count": 2,
   "metadata": {},
   "outputs": [
    {
     "name": "stdout",
     "output_type": "stream",
     "text": [
      "Requirement already satisfied: selenium in c:\\programdata\\anaconda3\\lib\\site-packages (3.141.0)\n",
      "Requirement already satisfied: urllib3 in c:\\programdata\\anaconda3\\lib\\site-packages (from selenium) (1.25.11)\n"
     ]
    }
   ],
   "source": [
    "!pip install selenium"
   ]
  },
  {
   "cell_type": "code",
   "execution_count": 3,
   "metadata": {},
   "outputs": [],
   "source": [
    "#Let's now import all the required documents\n",
    "import selenium\n",
    "import pandas as pd\n",
    "from selenium import webdriver"
   ]
  },
  {
   "cell_type": "code",
   "execution_count": 77,
   "metadata": {},
   "outputs": [],
   "source": [
    "#lets first connect to web driver\n",
    "driver=webdriver.Chrome(\"chromedriver.exe\")"
   ]
  },
  {
   "cell_type": "code",
   "execution_count": 78,
   "metadata": {},
   "outputs": [],
   "source": [
    "url='https://www.naukri.com'\n",
    "driver.get(url)"
   ]
  },
  {
   "cell_type": "code",
   "execution_count": 79,
   "metadata": {},
   "outputs": [
    {
     "data": {
      "text/plain": [
       "<selenium.webdriver.remote.webelement.WebElement (session=\"2f80f9868d7f861a744116d61aa78580\", element=\"bec68a14-00d9-4a3c-97f7-b7f259559ce4\")>"
      ]
     },
     "execution_count": 79,
     "metadata": {},
     "output_type": "execute_result"
    }
   ],
   "source": [
    "search_job=driver.find_element_by_xpath('//input[@class=\"sugInp\"]')\n",
    "search_job"
   ]
  },
  {
   "cell_type": "code",
   "execution_count": 80,
   "metadata": {},
   "outputs": [],
   "source": [
    "#write on search bar\n",
    "search_job.send_keys(\"Data Scientist, Machine learning\")"
   ]
  },
  {
   "cell_type": "code",
   "execution_count": 81,
   "metadata": {},
   "outputs": [
    {
     "data": {
      "text/plain": [
       "<selenium.webdriver.remote.webelement.WebElement (session=\"2f80f9868d7f861a744116d61aa78580\", element=\"bec68a14-00d9-4a3c-97f7-b7f259559ce4\")>"
      ]
     },
     "execution_count": 81,
     "metadata": {},
     "output_type": "execute_result"
    }
   ],
   "source": [
    "search_job=driver.find_element_by_id(\"qsb-keyword-sugg\")\n",
    "search_job\n",
    "search_job=driver.find_element_by_id(\"qsb-keyword-sugg\")\n",
    "search_job"
   ]
  },
  {
   "cell_type": "code",
   "execution_count": 82,
   "metadata": {},
   "outputs": [],
   "source": [
    "#finding element for job location bar\n",
    "search_loc=driver.find_element_by_id(\"qsb-location-sugg\")\n",
    "search_loc.send_keys(\"Bangalore\")"
   ]
  },
  {
   "cell_type": "code",
   "execution_count": 83,
   "metadata": {},
   "outputs": [],
   "source": [
    "#do click using xpath function\n",
    "search_btn=driver.find_element_by_xpath(\"//button[@class='btn']\")\n",
    "search_btn.click()\n"
   ]
  },
  {
   "cell_type": "code",
   "execution_count": 73,
   "metadata": {},
   "outputs": [
    {
     "ename": "AttributeError",
     "evalue": "'list' object has no attribute 'click'",
     "output_type": "error",
     "traceback": [
      "\u001b[1;31m---------------------------------------------------------------------------\u001b[0m",
      "\u001b[1;31mAttributeError\u001b[0m                            Traceback (most recent call last)",
      "\u001b[1;32m<ipython-input-73-af81a85d3211>\u001b[0m in \u001b[0;36m<module>\u001b[1;34m\u001b[0m\n\u001b[0;32m      1\u001b[0m \u001b[1;31m#do click using class_name function\u001b[0m\u001b[1;33m\u001b[0m\u001b[1;33m\u001b[0m\u001b[1;33m\u001b[0m\u001b[0m\n\u001b[0;32m      2\u001b[0m \u001b[0msearch_btn\u001b[0m \u001b[1;33m=\u001b[0m \u001b[0mdriver\u001b[0m\u001b[1;33m.\u001b[0m\u001b[0mfind_elements_by_class_name\u001b[0m\u001b[1;33m(\u001b[0m\u001b[1;34m'btn'\u001b[0m\u001b[1;33m)\u001b[0m\u001b[1;33m\u001b[0m\u001b[1;33m\u001b[0m\u001b[0m\n\u001b[1;32m----> 3\u001b[1;33m \u001b[0msearch_btn\u001b[0m\u001b[1;33m.\u001b[0m\u001b[0mclick\u001b[0m\u001b[1;33m(\u001b[0m\u001b[1;33m)\u001b[0m\u001b[1;33m\u001b[0m\u001b[1;33m\u001b[0m\u001b[0m\n\u001b[0m",
      "\u001b[1;31mAttributeError\u001b[0m: 'list' object has no attribute 'click'"
     ]
    }
   ],
   "source": [
    "#do click using class_name function\n",
    "search_btn = driver.find_elements_by_class_name('btn')\n",
    "search_btn.click()"
   ]
  },
  {
   "cell_type": "code",
   "execution_count": 74,
   "metadata": {},
   "outputs": [
    {
     "data": {
      "text/plain": [
       "[<selenium.webdriver.remote.webelement.WebElement (session=\"181604a05eb29343ac80bcf5f038db84\", element=\"0e88e84d-c616-4ffc-9994-1e957f7014b2\")>,\n",
       " <selenium.webdriver.remote.webelement.WebElement (session=\"181604a05eb29343ac80bcf5f038db84\", element=\"7c3e954e-403e-4e43-8083-cabc3781b305\")>,\n",
       " <selenium.webdriver.remote.webelement.WebElement (session=\"181604a05eb29343ac80bcf5f038db84\", element=\"4da8408c-f028-49a8-a3b8-5e3d34834213\")>,\n",
       " <selenium.webdriver.remote.webelement.WebElement (session=\"181604a05eb29343ac80bcf5f038db84\", element=\"5ea3c63b-5eed-4111-bd6e-9519f475daaa\")>,\n",
       " <selenium.webdriver.remote.webelement.WebElement (session=\"181604a05eb29343ac80bcf5f038db84\", element=\"6e080851-63f7-42d0-990f-a180472a6722\")>,\n",
       " <selenium.webdriver.remote.webelement.WebElement (session=\"181604a05eb29343ac80bcf5f038db84\", element=\"0defc562-5f28-4b0c-8eda-096afba15d6a\")>,\n",
       " <selenium.webdriver.remote.webelement.WebElement (session=\"181604a05eb29343ac80bcf5f038db84\", element=\"8e02627d-e053-4434-b7e1-c263124f9206\")>,\n",
       " <selenium.webdriver.remote.webelement.WebElement (session=\"181604a05eb29343ac80bcf5f038db84\", element=\"c1085731-3cb4-4bad-9a1f-2fa55fe240cf\")>,\n",
       " <selenium.webdriver.remote.webelement.WebElement (session=\"181604a05eb29343ac80bcf5f038db84\", element=\"e0c463a7-ae02-4c88-b66f-e035c7a6c694\")>,\n",
       " <selenium.webdriver.remote.webelement.WebElement (session=\"181604a05eb29343ac80bcf5f038db84\", element=\"25728c8b-b488-4456-b861-e91651b2dcc2\")>,\n",
       " <selenium.webdriver.remote.webelement.WebElement (session=\"181604a05eb29343ac80bcf5f038db84\", element=\"6df3e9a7-6635-4833-a94e-9ec3c0b9e41f\")>,\n",
       " <selenium.webdriver.remote.webelement.WebElement (session=\"181604a05eb29343ac80bcf5f038db84\", element=\"794ae02e-d2dd-4a99-8330-ae2e75f841d3\")>,\n",
       " <selenium.webdriver.remote.webelement.WebElement (session=\"181604a05eb29343ac80bcf5f038db84\", element=\"b073e9ba-491f-4bce-836f-e8d6d8662b5e\")>,\n",
       " <selenium.webdriver.remote.webelement.WebElement (session=\"181604a05eb29343ac80bcf5f038db84\", element=\"b452899b-d54f-437a-b451-c25a05babc0a\")>,\n",
       " <selenium.webdriver.remote.webelement.WebElement (session=\"181604a05eb29343ac80bcf5f038db84\", element=\"c9dd564b-662d-4d5c-a460-585313e4deb9\")>,\n",
       " <selenium.webdriver.remote.webelement.WebElement (session=\"181604a05eb29343ac80bcf5f038db84\", element=\"2c0b021c-3924-4c97-b9df-4fcb2872d73f\")>,\n",
       " <selenium.webdriver.remote.webelement.WebElement (session=\"181604a05eb29343ac80bcf5f038db84\", element=\"38ac3740-73a0-458f-bff1-9ca01d3d594f\")>,\n",
       " <selenium.webdriver.remote.webelement.WebElement (session=\"181604a05eb29343ac80bcf5f038db84\", element=\"a4e82408-ac8f-4d8d-9e04-a4643e396f93\")>,\n",
       " <selenium.webdriver.remote.webelement.WebElement (session=\"181604a05eb29343ac80bcf5f038db84\", element=\"84daedaa-c317-4369-86e9-35491f4fd3ea\")>,\n",
       " <selenium.webdriver.remote.webelement.WebElement (session=\"181604a05eb29343ac80bcf5f038db84\", element=\"da25f793-e8d1-4736-ba04-f946de80f03b\")>]"
      ]
     },
     "execution_count": 74,
     "metadata": {},
     "output_type": "execute_result"
    }
   ],
   "source": [
    "#so lets extract all the tags having the job titles\n",
    "titles_tags=driver.find_elements_by_xpath(\"//a[@class='title fw500 ellipsis']\")\n",
    "titles_tags"
   ]
  },
  {
   "cell_type": "markdown",
   "metadata": {},
   "source": [
    "Now we have all the tags in which there are the job titles\n",
    "\n",
    "now we will extract the text from these tags one by one by looping over these tags"
   ]
  },
  {
   "cell_type": "code",
   "execution_count": 75,
   "metadata": {},
   "outputs": [
    {
     "data": {
      "text/plain": [
       "['Data Scientist',\n",
       " 'Data Scientist / Data Analyst -Business Analyst',\n",
       " 'Data Scientist: Advanced Analytics',\n",
       " 'Data Scientist',\n",
       " 'Senior Data Scientist',\n",
       " 'EXL - Senior Data Scientist, 5+ yrs, Mumbai / PUNE / BLR / Chennai',\n",
       " 'Senior Data Scientist',\n",
       " 'Sr Data Scientist',\n",
       " 'Senior Data Scientist',\n",
       " 'Data Scientist',\n",
       " 'Senior Data Scientist/ Tech Lead - SQL/ Python/ Big Data',\n",
       " 'Data Scientist',\n",
       " 'Data Scientist',\n",
       " 'Data Scientist',\n",
       " 'Hiring Data Scientist',\n",
       " 'Data scientist',\n",
       " 'Principal Data Scientist',\n",
       " 'Data science , data scientist',\n",
       " 'DHS _ Hiring For Data Scientist - India',\n",
       " 'Data Scientist']"
      ]
     },
     "execution_count": 75,
     "metadata": {},
     "output_type": "execute_result"
    }
   ],
   "source": [
    "#Now the text of the job title is inside the tags extracted above\n",
    "#so we will run a loop to iterate over the tags extracted above and extract the text inside them\n",
    "job_titles=[]\n",
    "for i in titles_tags:\n",
    "    job_titles.append(i.text)\n",
    "job_titles"
   ]
  },
  {
   "cell_type": "code",
   "execution_count": 34,
   "metadata": {},
   "outputs": [
    {
     "data": {
      "text/plain": [
       "[<selenium.webdriver.remote.webelement.WebElement (session=\"35145d092cddc4f7a74df342359e01df\", element=\"7086e168-e397-49b0-ad87-ed4a86b81bfc\")>,\n",
       " <selenium.webdriver.remote.webelement.WebElement (session=\"35145d092cddc4f7a74df342359e01df\", element=\"876612c8-5946-4a29-833d-c10e55b79aa5\")>,\n",
       " <selenium.webdriver.remote.webelement.WebElement (session=\"35145d092cddc4f7a74df342359e01df\", element=\"4136bdae-c6f8-436b-ae3c-a0dff37265a1\")>,\n",
       " <selenium.webdriver.remote.webelement.WebElement (session=\"35145d092cddc4f7a74df342359e01df\", element=\"41129fc4-54ac-4649-95c9-ec217795886f\")>,\n",
       " <selenium.webdriver.remote.webelement.WebElement (session=\"35145d092cddc4f7a74df342359e01df\", element=\"c8b22fd4-01c8-4a81-958e-ac29137bb36b\")>,\n",
       " <selenium.webdriver.remote.webelement.WebElement (session=\"35145d092cddc4f7a74df342359e01df\", element=\"a67ed08a-9fd0-441f-8c4f-ec643f123ce5\")>,\n",
       " <selenium.webdriver.remote.webelement.WebElement (session=\"35145d092cddc4f7a74df342359e01df\", element=\"96959696-aa46-4c7d-9ca8-28b6be16ab5b\")>,\n",
       " <selenium.webdriver.remote.webelement.WebElement (session=\"35145d092cddc4f7a74df342359e01df\", element=\"7cbeabe4-5e0f-473e-a0cf-dff5e5444d3e\")>,\n",
       " <selenium.webdriver.remote.webelement.WebElement (session=\"35145d092cddc4f7a74df342359e01df\", element=\"94790db4-686a-494d-86ff-4acc1db73303\")>,\n",
       " <selenium.webdriver.remote.webelement.WebElement (session=\"35145d092cddc4f7a74df342359e01df\", element=\"4b514abc-847c-4203-8889-b8344b5c2f28\")>,\n",
       " <selenium.webdriver.remote.webelement.WebElement (session=\"35145d092cddc4f7a74df342359e01df\", element=\"e43704b1-26c0-4022-8c9d-bb7441e4b59a\")>,\n",
       " <selenium.webdriver.remote.webelement.WebElement (session=\"35145d092cddc4f7a74df342359e01df\", element=\"27d637ee-4d35-4ddf-bfe0-a5fabc30635d\")>,\n",
       " <selenium.webdriver.remote.webelement.WebElement (session=\"35145d092cddc4f7a74df342359e01df\", element=\"72b296e9-84ee-45fa-9eca-6e6c1e35141b\")>,\n",
       " <selenium.webdriver.remote.webelement.WebElement (session=\"35145d092cddc4f7a74df342359e01df\", element=\"8a5802bd-e72c-49f2-89af-7b64c1d8fe89\")>,\n",
       " <selenium.webdriver.remote.webelement.WebElement (session=\"35145d092cddc4f7a74df342359e01df\", element=\"a90ea4d2-e1e9-4b1c-941b-bf5da97bccf2\")>,\n",
       " <selenium.webdriver.remote.webelement.WebElement (session=\"35145d092cddc4f7a74df342359e01df\", element=\"88e7034d-d028-4705-a22a-b893130c176c\")>,\n",
       " <selenium.webdriver.remote.webelement.WebElement (session=\"35145d092cddc4f7a74df342359e01df\", element=\"e95499b5-77f7-416a-8442-03cbaaf405db\")>,\n",
       " <selenium.webdriver.remote.webelement.WebElement (session=\"35145d092cddc4f7a74df342359e01df\", element=\"71e2dbf6-b97c-45f2-8e5e-75f4572c9536\")>,\n",
       " <selenium.webdriver.remote.webelement.WebElement (session=\"35145d092cddc4f7a74df342359e01df\", element=\"3f0106f8-a427-443f-a9ad-e1d592a8cf53\")>,\n",
       " <selenium.webdriver.remote.webelement.WebElement (session=\"35145d092cddc4f7a74df342359e01df\", element=\"d4229b0c-d3bc-4c98-9838-1dea6fa931a6\")>]"
      ]
     },
     "execution_count": 34,
     "metadata": {},
     "output_type": "execute_result"
    }
   ],
   "source": [
    "# lets extract all the tags having the company names\n",
    "companies_tags=driver.find_elements_by_xpath(\"//a[@class='subTitle ellipsis fleft']\")\n",
    "companies_tags"
   ]
  },
  {
   "cell_type": "markdown",
   "metadata": {},
   "source": [
    "Now we have all the tags in which there are the company names\n",
    "\n",
    "now we will extract the text from these tags one by one by looping over these tags"
   ]
  },
  {
   "cell_type": "code",
   "execution_count": 35,
   "metadata": {},
   "outputs": [
    {
     "data": {
      "text/plain": [
       "['Flipkart Internet Private Limited',\n",
       " 'Inflexion Analytix Private Limited',\n",
       " 'IBM India Pvt. Limited',\n",
       " 'IBM India Pvt. Limited',\n",
       " 'EXL Service',\n",
       " 'Superior Group',\n",
       " 'FabHotel Aay Kay Model Town',\n",
       " 'Baker Hughes Incorporated',\n",
       " 'Baker Hughes - The Network',\n",
       " 'ORMAE (Operations Research Machine learning & Analytics Experts LLP)',\n",
       " 'ALTEN CALSOFT LABS (INDIA) PRIVATE LIMITED',\n",
       " 'Exploro Solutions',\n",
       " 'Center for Study of Science, Technology and Policy',\n",
       " 'CHUBB BUSINESS SERVICES INDIA LLP',\n",
       " 'FabHotel Aay Kay Model Town',\n",
       " 'Vision Beyond Resources India Private Limited',\n",
       " 'Blue Ocean Catalyst Private Limited',\n",
       " 'Scaleorg',\n",
       " 'Superior Group',\n",
       " 'Superior Group']"
      ]
     },
     "execution_count": 35,
     "metadata": {},
     "output_type": "execute_result"
    }
   ],
   "source": [
    "companies_names=[]\n",
    "for i in companies_tags:\n",
    "    companies_names.append(i.text)\n",
    "companies_names\n"
   ]
  },
  {
   "cell_type": "markdown",
   "metadata": {},
   "source": [
    "Now we will extract all the html tags where we have the experience required data. let me first show you in which tags this data is put on the webpage "
   ]
  },
  {
   "cell_type": "code",
   "execution_count": 36,
   "metadata": {
    "scrolled": false
   },
   "outputs": [
    {
     "data": {
      "text/plain": [
       "[<selenium.webdriver.remote.webelement.WebElement (session=\"35145d092cddc4f7a74df342359e01df\", element=\"bd7b14c5-2a86-4dca-8f19-cb26eb8c356d\")>,\n",
       " <selenium.webdriver.remote.webelement.WebElement (session=\"35145d092cddc4f7a74df342359e01df\", element=\"28e84978-d45c-4536-a3c9-9a66fbd0aa5e\")>,\n",
       " <selenium.webdriver.remote.webelement.WebElement (session=\"35145d092cddc4f7a74df342359e01df\", element=\"04dd6ef9-dfa7-495e-9f19-1233027e9924\")>,\n",
       " <selenium.webdriver.remote.webelement.WebElement (session=\"35145d092cddc4f7a74df342359e01df\", element=\"8f3908e9-05bb-4fb1-ad15-341e9ca194d3\")>,\n",
       " <selenium.webdriver.remote.webelement.WebElement (session=\"35145d092cddc4f7a74df342359e01df\", element=\"6b9e7708-cb09-4db4-8318-c0976e033253\")>,\n",
       " <selenium.webdriver.remote.webelement.WebElement (session=\"35145d092cddc4f7a74df342359e01df\", element=\"eaf00176-6ec1-4e39-843b-f290aedc2509\")>,\n",
       " <selenium.webdriver.remote.webelement.WebElement (session=\"35145d092cddc4f7a74df342359e01df\", element=\"97c10cf0-66c6-42c6-b65a-f8db01ea635e\")>,\n",
       " <selenium.webdriver.remote.webelement.WebElement (session=\"35145d092cddc4f7a74df342359e01df\", element=\"7c158ff2-9c2b-4dea-bcf6-7ba26020f813\")>,\n",
       " <selenium.webdriver.remote.webelement.WebElement (session=\"35145d092cddc4f7a74df342359e01df\", element=\"36ef46e3-4605-44b1-99e9-06dc7a848959\")>,\n",
       " <selenium.webdriver.remote.webelement.WebElement (session=\"35145d092cddc4f7a74df342359e01df\", element=\"75e86ddf-52e6-4d39-9d11-9dcc19b69708\")>,\n",
       " <selenium.webdriver.remote.webelement.WebElement (session=\"35145d092cddc4f7a74df342359e01df\", element=\"53a7572e-75f0-4c24-bef0-3329ebc68f44\")>,\n",
       " <selenium.webdriver.remote.webelement.WebElement (session=\"35145d092cddc4f7a74df342359e01df\", element=\"c52db49e-b711-4ab1-b69f-eff2ff52c1cd\")>,\n",
       " <selenium.webdriver.remote.webelement.WebElement (session=\"35145d092cddc4f7a74df342359e01df\", element=\"b7f246cf-7988-45d4-894b-dbf42e0bbcc7\")>,\n",
       " <selenium.webdriver.remote.webelement.WebElement (session=\"35145d092cddc4f7a74df342359e01df\", element=\"04cc9907-83e5-4c09-b8ef-efe4c299be73\")>,\n",
       " <selenium.webdriver.remote.webelement.WebElement (session=\"35145d092cddc4f7a74df342359e01df\", element=\"7d1d9c62-9f92-4620-a601-bdb6fbf89e69\")>,\n",
       " <selenium.webdriver.remote.webelement.WebElement (session=\"35145d092cddc4f7a74df342359e01df\", element=\"7417b1f4-d71d-49bb-89e4-c8f0e389c7db\")>,\n",
       " <selenium.webdriver.remote.webelement.WebElement (session=\"35145d092cddc4f7a74df342359e01df\", element=\"eec34233-74c0-495a-94b8-d5981f946605\")>,\n",
       " <selenium.webdriver.remote.webelement.WebElement (session=\"35145d092cddc4f7a74df342359e01df\", element=\"458906a0-6b04-4366-9fdc-cdd8209b06f1\")>,\n",
       " <selenium.webdriver.remote.webelement.WebElement (session=\"35145d092cddc4f7a74df342359e01df\", element=\"98e35100-f4ed-4af8-bdec-24edefe6c025\")>,\n",
       " <selenium.webdriver.remote.webelement.WebElement (session=\"35145d092cddc4f7a74df342359e01df\", element=\"e7cee1ae-6ae2-4cfa-ba79-60c0df251bd9\")>]"
      ]
     },
     "execution_count": 36,
     "metadata": {},
     "output_type": "execute_result"
    }
   ],
   "source": [
    "# lets extract all the tags having the experience required data\n",
    "experience_tags=driver.find_elements_by_xpath(\"//li[@class='fleft grey-text br2 placeHolderLi experience']//span\")\n",
    "experience_tags"
   ]
  },
  {
   "cell_type": "markdown",
   "metadata": {},
   "source": [
    "Now we have all the tags in which there are the experience tags\n",
    "\n",
    "now we will extract the text from these tags one by one by looping over these tags"
   ]
  },
  {
   "cell_type": "code",
   "execution_count": 37,
   "metadata": {},
   "outputs": [
    {
     "data": {
      "text/plain": [
       "['0-5 Yrs',\n",
       " '0-3 Yrs',\n",
       " '5-10 Yrs',\n",
       " '3-6 Yrs',\n",
       " '5-10 Yrs',\n",
       " '4-9 Yrs',\n",
       " '2-5 Yrs',\n",
       " '3-7 Yrs',\n",
       " '4-8 Yrs',\n",
       " '5-10 Yrs',\n",
       " '10-13 Yrs',\n",
       " '5-10 Yrs',\n",
       " '2-4 Yrs',\n",
       " '3-8 Yrs',\n",
       " '1-4 Yrs',\n",
       " '10-19 Yrs',\n",
       " '2-6 Yrs',\n",
       " '3-8 Yrs',\n",
       " '3-8 Yrs',\n",
       " '3-10 Yrs']"
      ]
     },
     "execution_count": 37,
     "metadata": {},
     "output_type": "execute_result"
    }
   ],
   "source": [
    "experience_list=[]\n",
    "for i in experience_tags:\n",
    "    experience_list.append(i.text)\n",
    "experience_list"
   ]
  },
  {
   "cell_type": "code",
   "execution_count": 38,
   "metadata": {},
   "outputs": [
    {
     "data": {
      "text/plain": [
       "[<selenium.webdriver.remote.webelement.WebElement (session=\"35145d092cddc4f7a74df342359e01df\", element=\"b359684a-6b8b-4e12-83db-cdf457c68ba8\")>,\n",
       " <selenium.webdriver.remote.webelement.WebElement (session=\"35145d092cddc4f7a74df342359e01df\", element=\"7ecdd7e3-5085-49aa-aad1-97012d07d325\")>,\n",
       " <selenium.webdriver.remote.webelement.WebElement (session=\"35145d092cddc4f7a74df342359e01df\", element=\"2cd59550-f102-4628-a754-5a734879b7af\")>,\n",
       " <selenium.webdriver.remote.webelement.WebElement (session=\"35145d092cddc4f7a74df342359e01df\", element=\"f627d54c-e616-48ca-8b73-8ac6a744a9d4\")>,\n",
       " <selenium.webdriver.remote.webelement.WebElement (session=\"35145d092cddc4f7a74df342359e01df\", element=\"d5428176-d793-4802-a008-01e7f9659966\")>,\n",
       " <selenium.webdriver.remote.webelement.WebElement (session=\"35145d092cddc4f7a74df342359e01df\", element=\"f867d920-5db0-474e-b7c9-58bf1d84de3f\")>,\n",
       " <selenium.webdriver.remote.webelement.WebElement (session=\"35145d092cddc4f7a74df342359e01df\", element=\"654d5352-5394-45d4-a713-4af0e356dbe2\")>,\n",
       " <selenium.webdriver.remote.webelement.WebElement (session=\"35145d092cddc4f7a74df342359e01df\", element=\"11d886f2-251c-4ddd-b022-ce500f4783c1\")>,\n",
       " <selenium.webdriver.remote.webelement.WebElement (session=\"35145d092cddc4f7a74df342359e01df\", element=\"93766272-013e-45c3-9d03-d40b291cfc11\")>,\n",
       " <selenium.webdriver.remote.webelement.WebElement (session=\"35145d092cddc4f7a74df342359e01df\", element=\"e93fa682-d4eb-44e7-9630-ad5eaaf45901\")>,\n",
       " <selenium.webdriver.remote.webelement.WebElement (session=\"35145d092cddc4f7a74df342359e01df\", element=\"93a09096-b516-4bd4-bb78-9d26d66fadd0\")>,\n",
       " <selenium.webdriver.remote.webelement.WebElement (session=\"35145d092cddc4f7a74df342359e01df\", element=\"fc296dc4-70e7-4863-9cf5-d09c2ad96a73\")>,\n",
       " <selenium.webdriver.remote.webelement.WebElement (session=\"35145d092cddc4f7a74df342359e01df\", element=\"d6fe6f90-8fcc-40ec-bed8-f07eb55b3e61\")>,\n",
       " <selenium.webdriver.remote.webelement.WebElement (session=\"35145d092cddc4f7a74df342359e01df\", element=\"d16a0424-9844-47f0-867d-e8ca0e575668\")>,\n",
       " <selenium.webdriver.remote.webelement.WebElement (session=\"35145d092cddc4f7a74df342359e01df\", element=\"02958aac-b630-43ec-9ead-ae5a2014f187\")>,\n",
       " <selenium.webdriver.remote.webelement.WebElement (session=\"35145d092cddc4f7a74df342359e01df\", element=\"20005176-eaf7-45f6-a8cf-d95fe7c98318\")>,\n",
       " <selenium.webdriver.remote.webelement.WebElement (session=\"35145d092cddc4f7a74df342359e01df\", element=\"b99ee4e9-e1f4-4250-84f8-6879df5c0da8\")>,\n",
       " <selenium.webdriver.remote.webelement.WebElement (session=\"35145d092cddc4f7a74df342359e01df\", element=\"e53671e4-90fd-47e7-9fe8-e021aed524e3\")>,\n",
       " <selenium.webdriver.remote.webelement.WebElement (session=\"35145d092cddc4f7a74df342359e01df\", element=\"26a9a766-2a9c-426c-8f7d-0b85fb82eb52\")>,\n",
       " <selenium.webdriver.remote.webelement.WebElement (session=\"35145d092cddc4f7a74df342359e01df\", element=\"e2e611d0-6a3b-490f-b148-1649f5394045\")>,\n",
       " <selenium.webdriver.remote.webelement.WebElement (session=\"35145d092cddc4f7a74df342359e01df\", element=\"ac703cef-7cb3-4328-bb3a-41866e997cc0\")>]"
      ]
     },
     "execution_count": 38,
     "metadata": {},
     "output_type": "execute_result"
    }
   ],
   "source": [
    "# lets extract all the tags having the company names\n",
    "locations_tags=driver.find_elements_by_xpath(\"//li[@class='fleft grey-text br2 placeHolderLi location']/span\")\n",
    "locations_tags"
   ]
  },
  {
   "cell_type": "code",
   "execution_count": 39,
   "metadata": {},
   "outputs": [
    {
     "data": {
      "text/plain": [
       "['Bangalore/Bengaluru',\n",
       " 'Hyderabad/Secunderabad, Chennai, Bangalore/Bengaluru',\n",
       " 'Bangalore/Bengaluru',\n",
       " 'Bangalore/Bengaluru',\n",
       " 'Pune, Chennai, Bangalore/Bengaluru, Delhi / NCR',\n",
       " 'Bangalore/Bengaluru',\n",
       " 'Bangalore/Bengaluru',\n",
       " 'Bangalore/Bengaluru',\n",
       " 'Bangalore/Bengaluru',\n",
       " 'Bangalore/Bengaluru',\n",
       " 'Bangalore/Bengaluru(Dairy Circle)',\n",
       " 'Pune, Chennai, Bangalore/Bengaluru',\n",
       " 'Bangalore/Bengaluru',\n",
       " 'Bangalore/Bengaluru',\n",
       " '(WFH during Covid)',\n",
       " 'Bangalore/Bengaluru',\n",
       " 'Bangalore/Bengaluru, Mumbai (All Areas)',\n",
       " 'Bangalore/Bengaluru',\n",
       " 'Chennai, Bangalore/Bengaluru',\n",
       " 'Bangalore/Bengaluru',\n",
       " 'Bangalore/Bengaluru']"
      ]
     },
     "execution_count": 39,
     "metadata": {},
     "output_type": "execute_result"
    }
   ],
   "source": [
    "locations_list=[]\n",
    "for i in locations_tags:\n",
    "    locations_list.append(i.text)\n",
    "locations_list"
   ]
  },
  {
   "cell_type": "markdown",
   "metadata": {},
   "source": [
    "so, now we have extracted the data required from the webpage and stored them in 4 lists mentioned above. now before creating a data frame from these lists. because if the length of all of the lists are not equal, then a datafram cannoy be fomed"
   ]
  },
  {
   "cell_type": "code",
   "execution_count": 40,
   "metadata": {},
   "outputs": [
    {
     "name": "stdout",
     "output_type": "stream",
     "text": [
      "20 20 20 21\n"
     ]
    }
   ],
   "source": [
    "print(len(job_titles),len(companies_names),len(experience_list),len(locations_list))"
   ]
  },
  {
   "cell_type": "code",
   "execution_count": 133,
   "metadata": {},
   "outputs": [
    {
     "data": {
      "text/html": [
       "<div>\n",
       "<style scoped>\n",
       "    .dataframe tbody tr th:only-of-type {\n",
       "        vertical-align: middle;\n",
       "    }\n",
       "\n",
       "    .dataframe tbody tr th {\n",
       "        vertical-align: top;\n",
       "    }\n",
       "\n",
       "    .dataframe thead th {\n",
       "        text-align: right;\n",
       "    }\n",
       "</style>\n",
       "<table border=\"1\" class=\"dataframe\">\n",
       "  <thead>\n",
       "    <tr style=\"text-align: right;\">\n",
       "      <th></th>\n",
       "      <th>title</th>\n",
       "      <th>company</th>\n",
       "      <th>experience_required</th>\n",
       "      <th>location</th>\n",
       "    </tr>\n",
       "  </thead>\n",
       "  <tbody>\n",
       "    <tr>\n",
       "      <th>0</th>\n",
       "      <td>Data Scientist/Data Analyst /Business Analyst</td>\n",
       "      <td>Inflexion Analytix Private Limited</td>\n",
       "      <td>0-3 Yrs</td>\n",
       "      <td>Pune, Delhi / NCR, Mumbai (All Areas)</td>\n",
       "    </tr>\n",
       "    <tr>\n",
       "      <th>1</th>\n",
       "      <td>HCL Hiring Data Scientist For Noida Location</td>\n",
       "      <td>HCL Technologies Limited</td>\n",
       "      <td>4-9 Yrs</td>\n",
       "      <td>Noida, Chennai</td>\n",
       "    </tr>\n",
       "    <tr>\n",
       "      <th>2</th>\n",
       "      <td>Data Scientist/ Sr Data Scientist</td>\n",
       "      <td>Gartner</td>\n",
       "      <td>4-8 Yrs</td>\n",
       "      <td>Gurgaon/Gurugram</td>\n",
       "    </tr>\n",
       "    <tr>\n",
       "      <th>3</th>\n",
       "      <td>Senior Data Scientist - Adv ML</td>\n",
       "      <td>Optum Global Solutions (India) Private Limited</td>\n",
       "      <td>6-11 Yrs</td>\n",
       "      <td>Noida</td>\n",
       "    </tr>\n",
       "    <tr>\n",
       "      <th>4</th>\n",
       "      <td>Senior Manager- Data Scientist</td>\n",
       "      <td>Sunshine Teahouse Pvt. Ltd.</td>\n",
       "      <td>6-8 Yrs</td>\n",
       "      <td>Delhi / NCR</td>\n",
       "    </tr>\n",
       "    <tr>\n",
       "      <th>5</th>\n",
       "      <td>Co-Founder &amp; Principal Data Scientist/Senior S...</td>\n",
       "      <td>Benovymed Healthcare</td>\n",
       "      <td>5-10 Yrs</td>\n",
       "      <td>Gurgaon/Gurugram, Delhi / NCR</td>\n",
       "    </tr>\n",
       "    <tr>\n",
       "      <th>6</th>\n",
       "      <td>Co-Founder - Principal Data Scientist/Senior D...</td>\n",
       "      <td>Benovymed Healthcare Private Limited</td>\n",
       "      <td>2-7 Yrs</td>\n",
       "      <td>Gurgaon/Gurugram, Delhi / NCR</td>\n",
       "    </tr>\n",
       "    <tr>\n",
       "      <th>7</th>\n",
       "      <td>Data Scientist</td>\n",
       "      <td>Oracle India Pvt. Ltd.</td>\n",
       "      <td>5-9 Yrs</td>\n",
       "      <td>Noida, Bangalore/Bengaluru</td>\n",
       "    </tr>\n",
       "    <tr>\n",
       "      <th>8</th>\n",
       "      <td>Senior Data Scientist</td>\n",
       "      <td>Fractal Analytics</td>\n",
       "      <td>4-8 Yrs</td>\n",
       "      <td>Mumbai, Gurgaon/Gurugram, Bangalore/Bengaluru</td>\n",
       "    </tr>\n",
       "    <tr>\n",
       "      <th>9</th>\n",
       "      <td>Developers Data Scientist</td>\n",
       "      <td>Agreeya</td>\n",
       "      <td>3-5 Yrs</td>\n",
       "      <td>Noida</td>\n",
       "    </tr>\n",
       "    <tr>\n",
       "      <th>10</th>\n",
       "      <td>Data Scientist - Noida</td>\n",
       "      <td>Agreeya</td>\n",
       "      <td>3-7 Yrs</td>\n",
       "      <td>Noida</td>\n",
       "    </tr>\n",
       "    <tr>\n",
       "      <th>11</th>\n",
       "      <td>Data Scientist</td>\n",
       "      <td>Agreeya</td>\n",
       "      <td>3-7 Yrs</td>\n",
       "      <td>Noida</td>\n",
       "    </tr>\n",
       "    <tr>\n",
       "      <th>12</th>\n",
       "      <td>Data Scientist - Insurance</td>\n",
       "      <td>Huquo Consulting Pvt. Ltd</td>\n",
       "      <td>2-7 Yrs</td>\n",
       "      <td>Noida, Gurgaon/Gurugram</td>\n",
       "    </tr>\n",
       "    <tr>\n",
       "      <th>13</th>\n",
       "      <td>Only Fresher / Data Scientist / Data Analyst /...</td>\n",
       "      <td>GABA Consultancy services</td>\n",
       "      <td>0-0 Yrs</td>\n",
       "      <td>Noida, Greater Noida, Delhi / NCR</td>\n",
       "    </tr>\n",
       "    <tr>\n",
       "      <th>14</th>\n",
       "      <td>Python Data Scientist</td>\n",
       "      <td>NIFTEL COMMUNICATIONS PRIVATE LIMITED</td>\n",
       "      <td>3-8 Yrs</td>\n",
       "      <td>Pune, Gurgaon/Gurugram, Bangalore/Bengaluru</td>\n",
       "    </tr>\n",
       "    <tr>\n",
       "      <th>15</th>\n",
       "      <td>Python Data Scientist</td>\n",
       "      <td>NIFTEL COMMUNICATIONS PRIVATE LIMITED</td>\n",
       "      <td>3-8 Yrs</td>\n",
       "      <td>Pune, Gurgaon/Gurugram, Bangalore/Bengaluru</td>\n",
       "    </tr>\n",
       "    <tr>\n",
       "      <th>16</th>\n",
       "      <td>Data Scientist / Data Analyst - ( BFSI Industr...</td>\n",
       "      <td>Reckon HR consulting</td>\n",
       "      <td>2-5 Yrs</td>\n",
       "      <td>New Delhi</td>\n",
       "    </tr>\n",
       "    <tr>\n",
       "      <th>17</th>\n",
       "      <td>Data Scientist</td>\n",
       "      <td>POPxo</td>\n",
       "      <td>2-4 Yrs</td>\n",
       "      <td>Mumbai, New Delhi</td>\n",
       "    </tr>\n",
       "    <tr>\n",
       "      <th>18</th>\n",
       "      <td>Data Scientist</td>\n",
       "      <td>Replicon Software</td>\n",
       "      <td>5-10 Yrs</td>\n",
       "      <td>Kolkata, Hyderabad/Secunderabad, Pune, Ahmedab...</td>\n",
       "    </tr>\n",
       "    <tr>\n",
       "      <th>19</th>\n",
       "      <td>Data Analyst/Scientist- (Counterparty Credit r...</td>\n",
       "      <td>GENPACT India Private Limited</td>\n",
       "      <td>4-9 Yrs</td>\n",
       "      <td>Hyderabad/Secunderabad, Ahmedabad, Bangalore/B...</td>\n",
       "    </tr>\n",
       "  </tbody>\n",
       "</table>\n",
       "</div>"
      ],
      "text/plain": [
       "                                                title  \\\n",
       "0       Data Scientist/Data Analyst /Business Analyst   \n",
       "1        HCL Hiring Data Scientist For Noida Location   \n",
       "2                   Data Scientist/ Sr Data Scientist   \n",
       "3                      Senior Data Scientist - Adv ML   \n",
       "4                      Senior Manager- Data Scientist   \n",
       "5   Co-Founder & Principal Data Scientist/Senior S...   \n",
       "6   Co-Founder - Principal Data Scientist/Senior D...   \n",
       "7                                      Data Scientist   \n",
       "8                               Senior Data Scientist   \n",
       "9                           Developers Data Scientist   \n",
       "10                             Data Scientist - Noida   \n",
       "11                                     Data Scientist   \n",
       "12                         Data Scientist - Insurance   \n",
       "13  Only Fresher / Data Scientist / Data Analyst /...   \n",
       "14                              Python Data Scientist   \n",
       "15                              Python Data Scientist   \n",
       "16  Data Scientist / Data Analyst - ( BFSI Industr...   \n",
       "17                                     Data Scientist   \n",
       "18                                     Data Scientist   \n",
       "19  Data Analyst/Scientist- (Counterparty Credit r...   \n",
       "\n",
       "                                           company experience_required  \\\n",
       "0               Inflexion Analytix Private Limited             0-3 Yrs   \n",
       "1                         HCL Technologies Limited             4-9 Yrs   \n",
       "2                                          Gartner             4-8 Yrs   \n",
       "3   Optum Global Solutions (India) Private Limited            6-11 Yrs   \n",
       "4                      Sunshine Teahouse Pvt. Ltd.             6-8 Yrs   \n",
       "5                             Benovymed Healthcare            5-10 Yrs   \n",
       "6             Benovymed Healthcare Private Limited             2-7 Yrs   \n",
       "7                           Oracle India Pvt. Ltd.             5-9 Yrs   \n",
       "8                                Fractal Analytics             4-8 Yrs   \n",
       "9                                          Agreeya             3-5 Yrs   \n",
       "10                                         Agreeya             3-7 Yrs   \n",
       "11                                         Agreeya             3-7 Yrs   \n",
       "12                       Huquo Consulting Pvt. Ltd             2-7 Yrs   \n",
       "13                       GABA Consultancy services             0-0 Yrs   \n",
       "14           NIFTEL COMMUNICATIONS PRIVATE LIMITED             3-8 Yrs   \n",
       "15           NIFTEL COMMUNICATIONS PRIVATE LIMITED             3-8 Yrs   \n",
       "16                            Reckon HR consulting             2-5 Yrs   \n",
       "17                                           POPxo             2-4 Yrs   \n",
       "18                               Replicon Software            5-10 Yrs   \n",
       "19                   GENPACT India Private Limited             4-9 Yrs   \n",
       "\n",
       "                                             location  \n",
       "0               Pune, Delhi / NCR, Mumbai (All Areas)  \n",
       "1                                      Noida, Chennai  \n",
       "2                                    Gurgaon/Gurugram  \n",
       "3                                               Noida  \n",
       "4                                         Delhi / NCR  \n",
       "5                       Gurgaon/Gurugram, Delhi / NCR  \n",
       "6                       Gurgaon/Gurugram, Delhi / NCR  \n",
       "7                          Noida, Bangalore/Bengaluru  \n",
       "8       Mumbai, Gurgaon/Gurugram, Bangalore/Bengaluru  \n",
       "9                                               Noida  \n",
       "10                                              Noida  \n",
       "11                                              Noida  \n",
       "12                            Noida, Gurgaon/Gurugram  \n",
       "13                  Noida, Greater Noida, Delhi / NCR  \n",
       "14        Pune, Gurgaon/Gurugram, Bangalore/Bengaluru  \n",
       "15        Pune, Gurgaon/Gurugram, Bangalore/Bengaluru  \n",
       "16                                          New Delhi  \n",
       "17                                  Mumbai, New Delhi  \n",
       "18  Kolkata, Hyderabad/Secunderabad, Pune, Ahmedab...  \n",
       "19  Hyderabad/Secunderabad, Ahmedabad, Bangalore/B...  "
      ]
     },
     "execution_count": 133,
     "metadata": {},
     "output_type": "execute_result"
    }
   ],
   "source": [
    "jobs"
   ]
  },
  {
   "cell_type": "code",
   "execution_count": 134,
   "metadata": {},
   "outputs": [
    {
     "data": {
      "text/plain": [
       "['https://www.naukri.com/job-listings-data-scientist-data-analyst-business-analyst-inflexion-analytix-private-limited-pune-delhi-ncr-mumbai-all-areas-0-to-3-years-040721000317?src=jobsearchDesk&sid=16256850685524834&xp=1&px=1',\n",
       " 'https://www.naukri.com/job-listings-hcl-hiring-data-scientist-for-noida-location-hcl-technologies-limited-noida-chennai-4-to-9-years-230221006348?src=jobsearchDesk&sid=16256850685524834&xp=2&px=1',\n",
       " 'https://www.naukri.com/job-listings-data-scientist-sr-data-scientist-gartner-india-research-advisory-services-pvt-ltd-gurgaon-gurugram-4-to-8-years-070721500162?src=jobsearchDesk&sid=16256850685524834&xp=3&px=1',\n",
       " 'https://www.naukri.com/job-listings-senior-data-scientist-adv-ml-optum-global-solutions-india-private-limited-noida-6-to-11-years-050721905996?src=jobsearchDesk&sid=16256850685524834&xp=4&px=1',\n",
       " 'https://www.naukri.com/job-listings-senior-manager-data-scientist-sunshine-teahouse-pvt-ltd-delhi-ncr-6-to-8-years-050721004831?src=jobsearchDesk&sid=16256850685524834&xp=5&px=1',\n",
       " 'https://www.naukri.com/job-listings-co-founder-principal-data-scientist-senior-scientist-benovymed-healthcare-gurgaon-gurugram-delhi-ncr-5-to-10-years-010721906105?src=jobsearchDesk&sid=16256850685524834&xp=6&px=1',\n",
       " 'https://www.naukri.com/job-listings-co-founder-principal-data-scientist-senior-data-scientist-benovymed-healthcare-private-limited-gurgaon-gurugram-delhi-ncr-2-to-7-years-300621907284?src=jobsearchDesk&sid=16256850685524834&xp=7&px=1',\n",
       " 'https://www.naukri.com/job-listings-data-scientist-oracle-india-pvt-ltd-noida-bangalore-bengaluru-5-to-9-years-010621004567?src=jobsearchDesk&sid=16256850685524834&xp=8&px=1',\n",
       " 'https://www.naukri.com/job-listings-senior-data-scientist-fractal-analytics-ltd-mumbai-gurgaon-gurugram-bangalore-bengaluru-4-to-8-years-290621500776?src=jobsearchDesk&sid=16256850685524834&xp=9&px=1',\n",
       " 'https://www.naukri.com/job-listings-developers-data-scientist-agreeya-solutions-india-private-limited-noida-3-to-5-years-070721501154?src=jobsearchDesk&sid=16256850685524834&xp=10&px=1',\n",
       " 'https://www.naukri.com/job-listings-data-scientist-noida-agreeya-solutions-india-private-limited-noida-3-to-7-years-170521001696?src=jobsearchDesk&sid=16256850685524834&xp=11&px=1',\n",
       " 'https://www.naukri.com/job-listings-data-scientist-agreeya-solutions-india-private-limited-noida-3-to-7-years-050721501318?src=jobsearchDesk&sid=16256850685524834&xp=12&px=1',\n",
       " 'https://www.naukri.com/job-listings-data-scientist-insurance-huquo-consulting-pvt-ltd-noida-gurgaon-gurugram-2-to-7-years-060721902641?src=jobsearchDesk&sid=16256850685524834&xp=13&px=1',\n",
       " 'https://www.naukri.com/job-listings-only-fresher-data-scientist-data-analyst-analytics-mnc-jobs-gaba-consultancy-services-noida-greater-noida-delhi-ncr-0-to-0-years-050721000317?src=jobsearchDesk&sid=16256850685524834&xp=14&px=1',\n",
       " 'https://www.naukri.com/job-listings-python-data-scientist-niftel-communications-private-limited-pune-gurgaon-gurugram-bangalore-bengaluru-3-to-8-years-050721607107?src=jobsearchDesk&sid=16256850685524834&xp=15&px=1',\n",
       " 'https://www.naukri.com/job-listings-python-data-scientist-niftel-communications-private-limited-pune-gurgaon-gurugram-bangalore-bengaluru-3-to-8-years-050721007106?src=jobsearchDesk&sid=16256850685524834&xp=16&px=1',\n",
       " 'https://www.naukri.com/job-listings-data-scientist-data-analyst-bfsi-industry-new-delhi-reckon-hr-consulting-new-delhi-2-to-5-years-030721600644?src=jobsearchDesk&sid=16256850685524834&xp=17&px=1',\n",
       " 'https://www.naukri.com/job-listings-data-scientist-popxo-mumbai-new-delhi-2-to-4-years-300621500263?src=jobsearchDesk&sid=16256850685524834&xp=18&px=1',\n",
       " 'https://www.naukri.com/job-listings-data-scientist-replicon-software-kolkata-hyderabad-secunderabad-pune-ahmedabad-chennai-bangalore-bengaluru-delhi-ncr-mumbai-all-areas-5-to-10-years-260621603052?src=jobsearchDesk&sid=16256850685524834&xp=19&px=1',\n",
       " 'https://www.naukri.com/job-listings-data-analyst-scientist-counterparty-credit-risk-genpact-india-private-limited-hyderabad-secunderabad-ahmedabad-bangalore-bengaluru-delhi-ncr-mumbai-all-areas-4-to-9-years-230621007989?src=jobsearchDesk&sid=16256850685524834&xp=20&px=1']"
      ]
     },
     "execution_count": 134,
     "metadata": {},
     "output_type": "execute_result"
    }
   ],
   "source": [
    "#scrap data from job openings\n",
    "job_openings_urls=[]\n",
    "url=driver.find_elements_by_xpath('//a[@class=\"title fw500 ellipsis\"]')\n",
    "for i in url:\n",
    "    job_openings_urls.append(i.get_attribute('href'))\n",
    "job_openings_urls    \n",
    "\n"
   ]
  },
  {
   "cell_type": "code",
   "execution_count": 135,
   "metadata": {},
   "outputs": [
    {
     "data": {
      "text/plain": [
       "['Data Scientist/Data Analyst /Business Analyst',\n",
       " 'HCL Hiring Data Scientist For Noida Location',\n",
       " 'Data Scientist/ Sr Data Scientist',\n",
       " 'Senior Data Scientist - Adv ML',\n",
       " 'Senior Manager- Data Scientist',\n",
       " 'Co-Founder & Principal Data Scientist/Senior Scientist',\n",
       " 'Co-Founder - Principal Data Scientist/Senior Data Scientist',\n",
       " 'Data Scientist',\n",
       " 'Senior Data Scientist',\n",
       " 'Developers Data Scientist',\n",
       " 'Data Scientist - Noida',\n",
       " 'Data Scientist',\n",
       " 'Data Scientist - Insurance',\n",
       " 'Only Fresher / Data Scientist / Data Analyst / Analytics - MNC Jobs',\n",
       " 'Python Data Scientist',\n",
       " 'Python Data Scientist',\n",
       " 'Data Scientist / Data Analyst - ( BFSI Industry ) - New Delhi',\n",
       " 'Data Scientist',\n",
       " 'Data Scientist',\n",
       " 'Data Analyst/Scientist- (Counterparty Credit risk)']"
      ]
     },
     "execution_count": 135,
     "metadata": {},
     "output_type": "execute_result"
    }
   ],
   "source": [
    "job_title =[]\n",
    "for i in job_openings_urls:\n",
    "    driver.get(i)\n",
    "    job_title=driver.find_elements_by_xpath('h1[@class=\"jd-header-title\"]')\n",
    "    for j in job_title:\n",
    "        job_title.append(i.text)\n",
    "job_titles"
   ]
  },
  {
   "cell_type": "code",
   "execution_count": 137,
   "metadata": {},
   "outputs": [
    {
     "data": {
      "text/plain": [
       "['https://www.naukri.com/data-scientist-jobs-in-delhi',\n",
       " 'https://www.naukri.com/data-scientist-jobs-in-delhi-2',\n",
       " 'https://www.naukri.com/data-scientist-jobs-in-delhi-3',\n",
       " 'https://www.naukri.com/data-scientist-jobs-in-delhi-4',\n",
       " 'https://www.naukri.com/data-scientist-jobs-in-delhi-5',\n",
       " 'https://www.naukri.com/data-scientist-jobs-in-delhi-6',\n",
       " 'https://www.naukri.com/data-scientist-jobs-in-delhi-7',\n",
       " 'https://www.naukri.com/data-scientist-jobs-in-delhi-8',\n",
       " 'https://www.naukri.com/data-scientist-jobs-in-delhi-9',\n",
       " 'https://www.naukri.com/data-scientist-jobs-in-delhi-10']"
      ]
     },
     "execution_count": 137,
     "metadata": {},
     "output_type": "execute_result"
    }
   ],
   "source": [
    "page_url=[]\n",
    "url=driver.find_elements_by_xpath(\"//div[@class='fleft pages']//a\")\n",
    "for i in url:\n",
    "    page_url.append(i.get_attribute(\"href\"))\n",
    "page_url"
   ]
  },
  {
   "cell_type": "code",
   "execution_count": 140,
   "metadata": {},
   "outputs": [
    {
     "data": {
      "text/plain": [
       "['Data Scientist - Manufacturing Domain (SCM aspect) Location Open',\n",
       " 'Data Scientist - Machine Learning/ NLP',\n",
       " 'Advanced Analytics -Data Scientist',\n",
       " 'Data Scientist',\n",
       " 'Manager- Data Scientist',\n",
       " 'Data Scientist (Hadoop/ Redshift/ BigQuery)',\n",
       " 'Data Scientist (Machine Learning & Python)',\n",
       " 'Data Scientist- Academic Operations- Pune, Chennai, Bangalore',\n",
       " 'Data Scientist: Machine Learning',\n",
       " 'Data Scientist -Python, ML',\n",
       " 'Data Scientist (Early Joiner)',\n",
       " 'Data Scientist / Data Analyst - ( BFSI Industry ) - New Delhi',\n",
       " 'Data Scientist',\n",
       " 'Senior Data Scientist',\n",
       " 'Data Scientist- Analytics& Insights Team- Food Services Firm- IIT/IIM',\n",
       " 'Data Scientist - Machine Learning - Ecommerce',\n",
       " 'MNC Hiring For \" Director- Data Scientist\" - Gurgaon',\n",
       " 'Lead Data Scientist',\n",
       " 'Data Scientist',\n",
       " 'Data analytics / Data scientist intern (work from Home)',\n",
       " 'Data Engineer/Data Scientist/Data Analysis',\n",
       " 'Data Engineer/Data Scientist/Data Analysis',\n",
       " 'Lead Data Scientist',\n",
       " 'NLP - Data Scientist',\n",
       " 'Chaayos is Looking For Data Scientist',\n",
       " 'Data Scientist - Machine Learning/ NLP',\n",
       " 'Data Scientist',\n",
       " 'Data Scientist (Time Series)',\n",
       " 'Data Scientist (NLP)',\n",
       " 'Data Scientist -Delhi',\n",
       " 'Jr. Data Scientist, Gurgaon',\n",
       " 'ML Engineer / Data Scientist',\n",
       " 'Senior Data Scientist',\n",
       " 'Senior Data Scientist',\n",
       " 'Senior Data Scientist',\n",
       " 'Senior Data Scientist',\n",
       " 'Sr. Data Scientist',\n",
       " 'Senior Deep Learning Data Scientist',\n",
       " 'Senior data scientist',\n",
       " 'Senior Data Scientist - Mobile Application',\n",
       " 'Data Scientist',\n",
       " 'DATA Scientist - New Delhi - Leading MNC',\n",
       " 'Lead Data Scientist',\n",
       " 'Data Scientist',\n",
       " 'Data Scientist',\n",
       " 'CBTS is hiring Data Scientist',\n",
       " 'Data Scientist',\n",
       " 'Data Scientist',\n",
       " 'DATA SCIENTIST (Analytics Technology)',\n",
       " 'Data Scientist',\n",
       " 'Senior Manager - Data Scientist - Banking Domain - IIT/NIT/BITS',\n",
       " 'Machine Learning Engineer/ Data Scientist',\n",
       " 'Machine Learning Engineer / Data Scientist',\n",
       " 'Machine Learning Engineer / Data Scientist',\n",
       " 'Sr Data Analyst/Data Scientist',\n",
       " 'Data Scientist',\n",
       " 'Data Scientist',\n",
       " 'Associate Data Scientist',\n",
       " 'Associate Data Scientist',\n",
       " 'Data Scientist - KPO - IIT/NIT/BITS',\n",
       " 'Data Scientist - KPO - IIT/NIT/BITS',\n",
       " 'Big Data Scientist',\n",
       " 'Data Scientist - SAS/SQL/SPSS',\n",
       " 'MNC Hiring For \" Director- Data Scientist\" - Gurgaon',\n",
       " 'Data Scientist',\n",
       " 'Data Scientist',\n",
       " 'Data Scientist',\n",
       " 'Data Scientist',\n",
       " 'DATA SCIENTIST',\n",
       " 'Data Scientist',\n",
       " 'Data Scientist',\n",
       " 'Data Scientist - Noida',\n",
       " 'Data Scientist',\n",
       " 'DATA SCIENTIST',\n",
       " 'Data Scientist',\n",
       " 'Data Scientist',\n",
       " 'Data Scientist',\n",
       " 'Data Scientist',\n",
       " 'Data Scientist',\n",
       " 'Data Scientist',\n",
       " 'Data Scientist',\n",
       " 'Data Scientist',\n",
       " 'DATA ARCHITECT/DATA SCIENTIST',\n",
       " 'Data Scientist',\n",
       " 'Data Scientist',\n",
       " 'Data Scientist - Text NLP | Noida',\n",
       " 'data scientist - biotechnology Jobs',\n",
       " 'Driveline Data Scientist',\n",
       " 'Data Scientist',\n",
       " 'Data Scientist - Machine Learning',\n",
       " 'Data Scientist',\n",
       " 'Manager Data Scientist',\n",
       " 'Data Scientist',\n",
       " 'Specialist data scientist',\n",
       " 'Data Scientist',\n",
       " 'Data Scientist',\n",
       " 'Data Engineers /Data Scientist - CES IT LTD - CMMI LVL 5',\n",
       " 'Sr. Data Scientist',\n",
       " 'Data Analyst/Scientist',\n",
       " 'Data Scientist',\n",
       " 'Data Scientist - Insurance - IIM/ IIT/ NIT',\n",
       " 'Data Scientist - Insurance - IIM/IIT/NIT',\n",
       " 'Data Scientist - Process Excellence & Analytics',\n",
       " 'Team Lead/ Sr. Scientist- Analytics & Data Science',\n",
       " 'Data Scientist - BFSI',\n",
       " 'Data Scientist - IT',\n",
       " 'Lead - Data Scientist - Banking Domain - IIT/ NIT/ BITS',\n",
       " 'Data Scientist - KPO',\n",
       " 'Data Scientist - Python - BFS - IIT/DSE/IIM/NIT',\n",
       " 'Data Scientist - Machine Learning/NLP',\n",
       " 'Data Scientist - Machine Learning',\n",
       " 'Data Scientist - KPO',\n",
       " 'Manager - Data Scientist/Python - KPO',\n",
       " 'Python Data Scientist - Banking/Retail Domain - IIT/IIM/ISI/DSE',\n",
       " 'Data Scientist - BFSI',\n",
       " 'Data Scientist - Machine Learning/NLP',\n",
       " 'Sr.Data Scientist',\n",
       " 'Acon / Con - Data Scientist',\n",
       " 'Data Scientist - SAS/ SQL/ SPSS',\n",
       " 'Data Scientist',\n",
       " 'Data Scientist For an AI Product (Work from Home)',\n",
       " 'Data Scientist',\n",
       " 'Data Scientist',\n",
       " 'NLP - Data Scientist',\n",
       " 'Data Scientist - Machine Learning/NLP',\n",
       " 'Data Scientist (NLP + AWS)',\n",
       " 'Data Scientist (NLP + AWS)',\n",
       " 'SAVP Data Scientist',\n",
       " 'Data Analyst / Data Scientist - Gurgaon',\n",
       " 'Data Scientist',\n",
       " 'Data Scientist',\n",
       " 'Data Scientist',\n",
       " 'Data Scientist',\n",
       " 'Data Scientist',\n",
       " 'Data Scientist',\n",
       " 'Data Scientist',\n",
       " 'Data Scientist',\n",
       " 'Data Scientist',\n",
       " 'Data Scientist',\n",
       " 'Data Scientist']"
      ]
     },
     "execution_count": 140,
     "metadata": {},
     "output_type": "execute_result"
    }
   ],
   "source": [
    "job_titles=[]\n",
    "for i in page_url:\n",
    "    driver.get(i)\n",
    "    titles_tags=driver.find_elements_by_xpath(\"//a[@class='title fw500 ellipsis']\")\n",
    "    for i in titles_tags:\n",
    "        job_titles.append(i.text)\n",
    "job_titles\n",
    "    \n"
   ]
  },
  {
   "cell_type": "markdown",
   "metadata": {},
   "source": [
    "#### Q2: Write a python program to scrape data for “Data Scientist” Job position in “Bangalore” location. You have to scrape the job-title, job-location,company_name, full job-description. You have to scrape first 10 jobs data.\n"
   ]
  },
  {
   "cell_type": "code",
   "execution_count": 287,
   "metadata": {},
   "outputs": [],
   "source": [
    "#Let's now import all the required documents\n",
    "import selenium\n",
    "import pandas as pd\n",
    "from selenium import webdriver"
   ]
  },
  {
   "cell_type": "code",
   "execution_count": 288,
   "metadata": {},
   "outputs": [],
   "source": [
    "#lets first connect to web driver\n",
    "driver=webdriver.Chrome(\"chromedriver.exe\")"
   ]
  },
  {
   "cell_type": "code",
   "execution_count": 289,
   "metadata": {},
   "outputs": [],
   "source": [
    "url='https://www.naukri.com'\n",
    "driver.get(url)"
   ]
  },
  {
   "cell_type": "code",
   "execution_count": 290,
   "metadata": {},
   "outputs": [
    {
     "data": {
      "text/plain": [
       "<selenium.webdriver.remote.webelement.WebElement (session=\"8134ee9c5e79fb6dfdb367df415b3cae\", element=\"32cefea1-909b-45e5-a161-e330417ee2fd\")>"
      ]
     },
     "execution_count": 290,
     "metadata": {},
     "output_type": "execute_result"
    }
   ],
   "source": [
    "search_job=driver.find_element_by_xpath('//input[@class=\"sugInp\"]')\n",
    "search_job"
   ]
  },
  {
   "cell_type": "code",
   "execution_count": 291,
   "metadata": {},
   "outputs": [],
   "source": [
    "#write on search bar\n",
    "search_job.send_keys(\"Data Scientist\")"
   ]
  },
  {
   "cell_type": "code",
   "execution_count": 292,
   "metadata": {},
   "outputs": [
    {
     "data": {
      "text/plain": [
       "<selenium.webdriver.remote.webelement.WebElement (session=\"8134ee9c5e79fb6dfdb367df415b3cae\", element=\"32cefea1-909b-45e5-a161-e330417ee2fd\")>"
      ]
     },
     "execution_count": 292,
     "metadata": {},
     "output_type": "execute_result"
    }
   ],
   "source": [
    "search_job=driver.find_element_by_id(\"qsb-keyword-sugg\")\n",
    "search_job"
   ]
  },
  {
   "cell_type": "code",
   "execution_count": 293,
   "metadata": {},
   "outputs": [
    {
     "data": {
      "text/plain": [
       "<selenium.webdriver.remote.webelement.WebElement (session=\"8134ee9c5e79fb6dfdb367df415b3cae\", element=\"32cefea1-909b-45e5-a161-e330417ee2fd\")>"
      ]
     },
     "execution_count": 293,
     "metadata": {},
     "output_type": "execute_result"
    }
   ],
   "source": [
    "search_job=driver.find_element_by_id(\"qsb-keyword-sugg\")\n",
    "search_jobsearch_job=driver.find_element_by_id(\"qsb-keyword-sugg\")\n",
    "search_job"
   ]
  },
  {
   "cell_type": "code",
   "execution_count": 294,
   "metadata": {},
   "outputs": [],
   "source": [
    "#finding element for job location bar\n",
    "search_loc=driver.find_element_by_id(\"qsb-location-sugg\")\n",
    "search_loc.send_keys(\"Bangalore\")"
   ]
  },
  {
   "cell_type": "code",
   "execution_count": 295,
   "metadata": {},
   "outputs": [],
   "source": [
    "#do click using xpath function\n",
    "search_btn=driver.find_element_by_xpath(\"//button[@class='btn']\")\n",
    "search_btn.click()"
   ]
  },
  {
   "cell_type": "code",
   "execution_count": 296,
   "metadata": {},
   "outputs": [
    {
     "data": {
      "text/plain": [
       "[<selenium.webdriver.remote.webelement.WebElement (session=\"8134ee9c5e79fb6dfdb367df415b3cae\", element=\"01d972cc-6499-4241-b84b-eb19f7e3858b\")>,\n",
       " <selenium.webdriver.remote.webelement.WebElement (session=\"8134ee9c5e79fb6dfdb367df415b3cae\", element=\"cb4eead7-16b3-4269-a0f8-df0021c54cee\")>,\n",
       " <selenium.webdriver.remote.webelement.WebElement (session=\"8134ee9c5e79fb6dfdb367df415b3cae\", element=\"022ce5bd-5883-4dee-b140-1ecd9395400f\")>,\n",
       " <selenium.webdriver.remote.webelement.WebElement (session=\"8134ee9c5e79fb6dfdb367df415b3cae\", element=\"84490388-a420-42bd-92de-1bd412730837\")>,\n",
       " <selenium.webdriver.remote.webelement.WebElement (session=\"8134ee9c5e79fb6dfdb367df415b3cae\", element=\"98301dc4-7d1b-4f3a-8a0f-9d5ab100b00d\")>,\n",
       " <selenium.webdriver.remote.webelement.WebElement (session=\"8134ee9c5e79fb6dfdb367df415b3cae\", element=\"04833793-1ac6-4d3e-8fce-2354fa552f63\")>,\n",
       " <selenium.webdriver.remote.webelement.WebElement (session=\"8134ee9c5e79fb6dfdb367df415b3cae\", element=\"aaea65ea-5cee-42fe-97fc-cce9f5ef4b12\")>,\n",
       " <selenium.webdriver.remote.webelement.WebElement (session=\"8134ee9c5e79fb6dfdb367df415b3cae\", element=\"c22513b5-7467-4c7e-ba59-27cb7fd94d61\")>,\n",
       " <selenium.webdriver.remote.webelement.WebElement (session=\"8134ee9c5e79fb6dfdb367df415b3cae\", element=\"688bc82f-16d6-4a74-8d99-114db6c9b215\")>,\n",
       " <selenium.webdriver.remote.webelement.WebElement (session=\"8134ee9c5e79fb6dfdb367df415b3cae\", element=\"233f6e48-bb13-49c4-bf84-3475230edd86\")>,\n",
       " <selenium.webdriver.remote.webelement.WebElement (session=\"8134ee9c5e79fb6dfdb367df415b3cae\", element=\"f1049049-cdff-4bce-8b9c-96920614fdf1\")>,\n",
       " <selenium.webdriver.remote.webelement.WebElement (session=\"8134ee9c5e79fb6dfdb367df415b3cae\", element=\"3dbc1510-6f52-491f-82b0-10ec8891bdd6\")>,\n",
       " <selenium.webdriver.remote.webelement.WebElement (session=\"8134ee9c5e79fb6dfdb367df415b3cae\", element=\"b263d66c-c4e9-4f2f-8a3e-f37b58fc5145\")>,\n",
       " <selenium.webdriver.remote.webelement.WebElement (session=\"8134ee9c5e79fb6dfdb367df415b3cae\", element=\"42959b76-c135-48f6-b640-70d960a5f57d\")>,\n",
       " <selenium.webdriver.remote.webelement.WebElement (session=\"8134ee9c5e79fb6dfdb367df415b3cae\", element=\"dfe6dc1f-0219-479d-ac3a-3fa7b262a701\")>,\n",
       " <selenium.webdriver.remote.webelement.WebElement (session=\"8134ee9c5e79fb6dfdb367df415b3cae\", element=\"d1dc0169-4218-4a32-835d-bdc7e709c1f8\")>,\n",
       " <selenium.webdriver.remote.webelement.WebElement (session=\"8134ee9c5e79fb6dfdb367df415b3cae\", element=\"fdde20d7-ba68-47f2-9ec6-67b1cee3b8f8\")>,\n",
       " <selenium.webdriver.remote.webelement.WebElement (session=\"8134ee9c5e79fb6dfdb367df415b3cae\", element=\"68cabe0b-ebfe-490d-b89f-e888b05ef4a3\")>,\n",
       " <selenium.webdriver.remote.webelement.WebElement (session=\"8134ee9c5e79fb6dfdb367df415b3cae\", element=\"dfc2b9df-e993-4ab5-8260-d596defaee88\")>,\n",
       " <selenium.webdriver.remote.webelement.WebElement (session=\"8134ee9c5e79fb6dfdb367df415b3cae\", element=\"126df30b-59df-4f1a-98c3-5f1ac68ea69c\")>]"
      ]
     },
     "execution_count": 296,
     "metadata": {},
     "output_type": "execute_result"
    }
   ],
   "source": [
    "#so lets extract all the tags having the job titles\n",
    "titles_tags=driver.find_elements_by_xpath(\"//a[@class='title fw500 ellipsis']\")\n",
    "titles_tags"
   ]
  },
  {
   "cell_type": "code",
   "execution_count": 297,
   "metadata": {},
   "outputs": [
    {
     "data": {
      "text/plain": [
       "['Senior Data Scientist',\n",
       " 'Lead Data Scientist',\n",
       " 'Data Scientist / Data Analyst -Business Analyst',\n",
       " 'Data Scientist',\n",
       " 'Data Scientist',\n",
       " 'Data Scientist: Advanced Analytics',\n",
       " 'Senior Data Scientist',\n",
       " 'Data Scientist',\n",
       " 'Data Scientist 2',\n",
       " 'Data Scientist 2',\n",
       " 'Hiring Data Scientist',\n",
       " 'Data Scientist',\n",
       " 'Data Scientist',\n",
       " 'Data Scientist - Python/Machine Learning',\n",
       " 'Data Scientist - SQL/R/Python',\n",
       " 'Senior Data Scientist',\n",
       " 'EXL - Senior Data Scientist, 5+ yrs, Mumbai / PUNE / BLR / Chennai',\n",
       " 'Senior Data Scientist',\n",
       " 'Sr Data Scientist',\n",
       " 'Sr Data Scientist']"
      ]
     },
     "execution_count": 297,
     "metadata": {},
     "output_type": "execute_result"
    }
   ],
   "source": [
    "#Now the text of the job title is inside the tags extracted above\n",
    "#so we will run a loop to iterate over the tags extracted above and extract the text inside them\n",
    "job_titles=[]\n",
    "for i in titles_tags:\n",
    "    job_titles.append(i.text)\n",
    "job_titles"
   ]
  },
  {
   "cell_type": "code",
   "execution_count": 298,
   "metadata": {},
   "outputs": [
    {
     "data": {
      "text/plain": [
       "[<selenium.webdriver.remote.webelement.WebElement (session=\"8134ee9c5e79fb6dfdb367df415b3cae\", element=\"29bcc992-7836-4469-80bd-e25c0296b4dc\")>,\n",
       " <selenium.webdriver.remote.webelement.WebElement (session=\"8134ee9c5e79fb6dfdb367df415b3cae\", element=\"137a9dbc-48c5-417c-ad3a-e35a66f173ee\")>,\n",
       " <selenium.webdriver.remote.webelement.WebElement (session=\"8134ee9c5e79fb6dfdb367df415b3cae\", element=\"824300bc-a49f-4234-a213-dbca0ef7f360\")>,\n",
       " <selenium.webdriver.remote.webelement.WebElement (session=\"8134ee9c5e79fb6dfdb367df415b3cae\", element=\"031fe29e-f526-4ec0-94fa-650084cd97a7\")>,\n",
       " <selenium.webdriver.remote.webelement.WebElement (session=\"8134ee9c5e79fb6dfdb367df415b3cae\", element=\"2899c67b-acd1-4eab-8808-7cf913dea612\")>,\n",
       " <selenium.webdriver.remote.webelement.WebElement (session=\"8134ee9c5e79fb6dfdb367df415b3cae\", element=\"16d3915d-a0a4-4780-abf7-6af010278a34\")>,\n",
       " <selenium.webdriver.remote.webelement.WebElement (session=\"8134ee9c5e79fb6dfdb367df415b3cae\", element=\"97cac275-1a8b-4dbf-8c4d-bb9e51c8f416\")>,\n",
       " <selenium.webdriver.remote.webelement.WebElement (session=\"8134ee9c5e79fb6dfdb367df415b3cae\", element=\"20818d68-96f3-4fd6-b2e5-c33303fcd45d\")>,\n",
       " <selenium.webdriver.remote.webelement.WebElement (session=\"8134ee9c5e79fb6dfdb367df415b3cae\", element=\"9ca2b932-7abe-4955-90de-cdc943494e3d\")>,\n",
       " <selenium.webdriver.remote.webelement.WebElement (session=\"8134ee9c5e79fb6dfdb367df415b3cae\", element=\"86c6b696-30cb-4e56-893e-7b6c5ccbcf97\")>,\n",
       " <selenium.webdriver.remote.webelement.WebElement (session=\"8134ee9c5e79fb6dfdb367df415b3cae\", element=\"d162c409-830b-445b-9ca8-6c801e1d86a4\")>,\n",
       " <selenium.webdriver.remote.webelement.WebElement (session=\"8134ee9c5e79fb6dfdb367df415b3cae\", element=\"35ce3125-26f6-4301-b155-708b522e4115\")>,\n",
       " <selenium.webdriver.remote.webelement.WebElement (session=\"8134ee9c5e79fb6dfdb367df415b3cae\", element=\"6c60f6b1-2b92-48b5-8bd1-379f249d5d6f\")>,\n",
       " <selenium.webdriver.remote.webelement.WebElement (session=\"8134ee9c5e79fb6dfdb367df415b3cae\", element=\"cf6916de-fcc4-4ff6-8a02-332917a3ad97\")>,\n",
       " <selenium.webdriver.remote.webelement.WebElement (session=\"8134ee9c5e79fb6dfdb367df415b3cae\", element=\"396440f0-f07f-4cb6-9b81-665cbe52c0dc\")>,\n",
       " <selenium.webdriver.remote.webelement.WebElement (session=\"8134ee9c5e79fb6dfdb367df415b3cae\", element=\"f1237ba8-00b2-44e3-afef-165850702c6c\")>,\n",
       " <selenium.webdriver.remote.webelement.WebElement (session=\"8134ee9c5e79fb6dfdb367df415b3cae\", element=\"6b0c987b-f097-41a8-be70-3cf72d0bdbc7\")>,\n",
       " <selenium.webdriver.remote.webelement.WebElement (session=\"8134ee9c5e79fb6dfdb367df415b3cae\", element=\"4856485c-2bfe-4670-865d-51d2cfc63f6f\")>,\n",
       " <selenium.webdriver.remote.webelement.WebElement (session=\"8134ee9c5e79fb6dfdb367df415b3cae\", element=\"ed874919-a14e-4943-b7a0-292b89e37f85\")>,\n",
       " <selenium.webdriver.remote.webelement.WebElement (session=\"8134ee9c5e79fb6dfdb367df415b3cae\", element=\"5e08a2a8-6fb7-4ce7-9036-309c22762cc9\")>]"
      ]
     },
     "execution_count": 298,
     "metadata": {},
     "output_type": "execute_result"
    }
   ],
   "source": [
    "# lets extract all the tags having the company names\n",
    "companies_tags=driver.find_elements_by_xpath(\"//a[@class='subTitle ellipsis fleft']\")\n",
    "companies_tags"
   ]
  },
  {
   "cell_type": "code",
   "execution_count": 299,
   "metadata": {
    "scrolled": true
   },
   "outputs": [
    {
     "data": {
      "text/plain": [
       "['Flipkart Internet Private Limited',\n",
       " 'bd',\n",
       " 'Inflexion Analytix Private Limited',\n",
       " 'Flipkart Internet Private Limited',\n",
       " 'Oracle India Pvt. Ltd.',\n",
       " 'IBM India Pvt. Limited',\n",
       " 'inVentiv International Pharma Services Pvt. Ltd.',\n",
       " 'Applied Materials',\n",
       " 'Gojek Tech',\n",
       " 'GO-JEK India',\n",
       " 'IHX private limited',\n",
       " 'IBM India Pvt. Limited',\n",
       " 'IBM India Pvt. Limited',\n",
       " 'Exploro Solutions',\n",
       " 'iMindYourBusiness',\n",
       " '24/7 Customer',\n",
       " 'EXL Service',\n",
       " 'Superior Group',\n",
       " 'FabHotel Aay Kay Model Town',\n",
       " 'Baker Hughes Incorporated']"
      ]
     },
     "execution_count": 299,
     "metadata": {},
     "output_type": "execute_result"
    }
   ],
   "source": [
    "companies_names=[]\n",
    "for i in companies_tags:\n",
    "    companies_names.append(i.text)\n",
    "companies_names\n"
   ]
  },
  {
   "cell_type": "code",
   "execution_count": 300,
   "metadata": {},
   "outputs": [
    {
     "data": {
      "text/plain": [
       "[<selenium.webdriver.remote.webelement.WebElement (session=\"8134ee9c5e79fb6dfdb367df415b3cae\", element=\"581e90e5-8139-4746-85f4-55d041f0ddc1\")>,\n",
       " <selenium.webdriver.remote.webelement.WebElement (session=\"8134ee9c5e79fb6dfdb367df415b3cae\", element=\"e2c7379e-b973-450a-969f-78b2eaf08b3a\")>,\n",
       " <selenium.webdriver.remote.webelement.WebElement (session=\"8134ee9c5e79fb6dfdb367df415b3cae\", element=\"be42cda4-aedf-4661-b5cc-08a239a9a701\")>,\n",
       " <selenium.webdriver.remote.webelement.WebElement (session=\"8134ee9c5e79fb6dfdb367df415b3cae\", element=\"7a193e6e-7db6-4831-8203-f2fff39bd978\")>,\n",
       " <selenium.webdriver.remote.webelement.WebElement (session=\"8134ee9c5e79fb6dfdb367df415b3cae\", element=\"8e7e1be8-0e5d-4dcc-9740-0f5f55fcde6c\")>,\n",
       " <selenium.webdriver.remote.webelement.WebElement (session=\"8134ee9c5e79fb6dfdb367df415b3cae\", element=\"034da2d7-fffe-44a1-9cba-b53ffc9063be\")>,\n",
       " <selenium.webdriver.remote.webelement.WebElement (session=\"8134ee9c5e79fb6dfdb367df415b3cae\", element=\"be9f9a9a-12e4-41ba-b3ed-78409c3702a1\")>,\n",
       " <selenium.webdriver.remote.webelement.WebElement (session=\"8134ee9c5e79fb6dfdb367df415b3cae\", element=\"c91bbaf1-21f6-4d1e-92ca-53ac67715aa2\")>,\n",
       " <selenium.webdriver.remote.webelement.WebElement (session=\"8134ee9c5e79fb6dfdb367df415b3cae\", element=\"a52c91ff-d91c-4089-93eb-26b9142afe7d\")>,\n",
       " <selenium.webdriver.remote.webelement.WebElement (session=\"8134ee9c5e79fb6dfdb367df415b3cae\", element=\"b7bd173c-9b49-47db-a3fd-ca4176f0eb61\")>,\n",
       " <selenium.webdriver.remote.webelement.WebElement (session=\"8134ee9c5e79fb6dfdb367df415b3cae\", element=\"830990a6-6574-48a5-b6db-f36fb696c28a\")>,\n",
       " <selenium.webdriver.remote.webelement.WebElement (session=\"8134ee9c5e79fb6dfdb367df415b3cae\", element=\"99f96eae-7bdf-4027-ab43-295fc0b3b328\")>,\n",
       " <selenium.webdriver.remote.webelement.WebElement (session=\"8134ee9c5e79fb6dfdb367df415b3cae\", element=\"f4c24f9b-1d7f-43e2-9929-9b24ffae386b\")>,\n",
       " <selenium.webdriver.remote.webelement.WebElement (session=\"8134ee9c5e79fb6dfdb367df415b3cae\", element=\"ec2d3a15-b0e4-4aea-81c9-a8e763365625\")>,\n",
       " <selenium.webdriver.remote.webelement.WebElement (session=\"8134ee9c5e79fb6dfdb367df415b3cae\", element=\"24d28e65-217c-4e61-8b9a-f730a10ef4ee\")>,\n",
       " <selenium.webdriver.remote.webelement.WebElement (session=\"8134ee9c5e79fb6dfdb367df415b3cae\", element=\"4600aef9-5671-434d-bae0-1159e0c7eed7\")>,\n",
       " <selenium.webdriver.remote.webelement.WebElement (session=\"8134ee9c5e79fb6dfdb367df415b3cae\", element=\"9c8fdeeb-6e72-4189-a717-4575cd5f4265\")>,\n",
       " <selenium.webdriver.remote.webelement.WebElement (session=\"8134ee9c5e79fb6dfdb367df415b3cae\", element=\"50c4ac1b-b20f-4c01-ac30-5384b6596b0c\")>,\n",
       " <selenium.webdriver.remote.webelement.WebElement (session=\"8134ee9c5e79fb6dfdb367df415b3cae\", element=\"7f41fdbe-37c4-40f5-a0ae-d6647f8388a6\")>,\n",
       " <selenium.webdriver.remote.webelement.WebElement (session=\"8134ee9c5e79fb6dfdb367df415b3cae\", element=\"09c6bb4b-db33-4c8e-b2e9-c68cabc76f98\")>]"
      ]
     },
     "execution_count": 300,
     "metadata": {},
     "output_type": "execute_result"
    }
   ],
   "source": [
    "#so lets extract all the tags having the job location\n",
    "job_location=driver.find_elements_by_xpath(\"//li[@class='fleft grey-text br2 placeHolderLi location']\")\n",
    "job_location"
   ]
  },
  {
   "cell_type": "code",
   "execution_count": 301,
   "metadata": {},
   "outputs": [
    {
     "data": {
      "text/plain": [
       "['Bangalore/Bengaluru',\n",
       " 'Bangalore/Bengaluru',\n",
       " 'Hyderabad/Secunderabad, Chennai, Bangalore/Bengaluru',\n",
       " 'Bangalore/Bengaluru',\n",
       " 'Noida, Bangalore/Bengaluru',\n",
       " 'Bangalore/Bengaluru',\n",
       " 'Hyderabad/Secunderabad, Gurgaon/Gurugram, Bangalore/Bengaluru',\n",
       " 'Bangalore/Bengaluru',\n",
       " 'Bangalore/Bengaluru',\n",
       " 'Bangalore/Bengaluru',\n",
       " 'Bangalore/Bengaluru(5th block Koramangala)',\n",
       " 'Bangalore/Bengaluru',\n",
       " 'Bangalore/Bengaluru',\n",
       " 'Bangalore/Bengaluru',\n",
       " 'Bangalore/Bengaluru',\n",
       " 'Bangalore/Bengaluru',\n",
       " 'Pune, Chennai, Bangalore/Bengaluru, Delhi / NCR',\n",
       " 'Bangalore/Bengaluru',\n",
       " 'Bangalore/Bengaluru',\n",
       " 'Bangalore/Bengaluru']"
      ]
     },
     "execution_count": 301,
     "metadata": {},
     "output_type": "execute_result"
    }
   ],
   "source": [
    "Job_Location=[]\n",
    "for i in job_location:\n",
    "    Job_Location.append(i.text)\n",
    "Job_Location"
   ]
  },
  {
   "cell_type": "code",
   "execution_count": 302,
   "metadata": {
    "scrolled": true
   },
   "outputs": [
    {
     "data": {
      "text/plain": [
       "['https://www.naukri.com/job-listings-senior-data-scientist-flipkart-internet-private-limited-bangalore-bengaluru-5-to-10-years-090721908235?src=jobsearchDesk&sid=1625993955470698&xp=1&px=1',\n",
       " 'https://www.naukri.com/job-listings-lead-data-scientist-bd-bangalore-bengaluru-2-to-7-years-090721501722?src=jobsearchDesk&sid=1625993955470698&xp=2&px=1',\n",
       " 'https://www.naukri.com/job-listings-data-scientist-data-analyst-business-analyst-inflexion-analytix-private-limited-hyderabad-secunderabad-chennai-bangalore-bengaluru-0-to-3-years-020721003625?src=jobsearchDesk&sid=1625993955470698&xp=3&px=1',\n",
       " 'https://www.naukri.com/job-listings-data-scientist-flipkart-internet-private-limited-bangalore-bengaluru-0-to-5-years-080721904425?src=jobsearchDesk&sid=1625993955470698&xp=4&px=1',\n",
       " 'https://www.naukri.com/job-listings-data-scientist-oracle-india-pvt-ltd-noida-bangalore-bengaluru-5-to-9-years-010621004567?src=jobsearchDesk&sid=1625993955470698&xp=5&px=1',\n",
       " 'https://www.naukri.com/job-listings-data-scientist-advanced-analytics-ibm-india-pvt-limited-bangalore-bengaluru-5-to-10-years-090721906161?src=jobsearchDesk&sid=1625993955470698&xp=6&px=1',\n",
       " 'https://www.naukri.com/job-listings-senior-data-scientist-inventiv-international-pharma-services-pvt-ltd-hyderabad-secunderabad-gurgaon-gurugram-bangalore-bengaluru-3-to-6-years-090721000064?src=jobsearchDesk&sid=1625993955470698&xp=7&px=1',\n",
       " 'https://www.naukri.com/job-listings-data-scientist-applied-materials-india-private-limited-bangalore-bengaluru-5-to-10-years-090721902434?src=jobsearchDesk&sid=1625993955470698&xp=8&px=1',\n",
       " 'https://www.naukri.com/job-listings-data-scientist-2-gojek-tech-bangalore-bengaluru-4-to-8-years-090721501896?src=jobsearchDesk&sid=1625993955470698&xp=9&px=1',\n",
       " 'https://www.naukri.com/job-listings-data-scientist-2-go-jek-india-bangalore-bengaluru-6-to-11-years-090721501884?src=jobsearchDesk&sid=1625993955470698&xp=10&px=1',\n",
       " 'https://www.naukri.com/job-listings-hiring-data-scientist-ihx-private-limited-bangalore-bengaluru-4-to-6-years-090721002695?src=jobsearchDesk&sid=1625993955470698&xp=11&px=1',\n",
       " 'https://www.naukri.com/job-listings-data-scientist-ibm-india-pvt-limited-bangalore-bengaluru-3-to-6-years-080721906014?src=jobsearchDesk&sid=1625993955470698&xp=12&px=1',\n",
       " 'https://www.naukri.com/job-listings-data-scientist-ibm-india-pvt-limited-bangalore-bengaluru-6-to-10-years-090721905332?src=jobsearchDesk&sid=1625993955470698&xp=13&px=1',\n",
       " 'https://www.naukri.com/job-listings-data-scientist-python-machine-learning-exploro-solutions-bangalore-bengaluru-5-to-10-years-100721901978?src=jobsearchDesk&sid=1625993955470698&xp=14&px=1',\n",
       " 'https://www.naukri.com/job-listings-data-scientist-sql-r-python-imindyourbusiness-bangalore-bengaluru-4-to-8-years-100721901754?src=jobsearchDesk&sid=1625993955470698&xp=15&px=1',\n",
       " 'https://www.naukri.com/job-listings-senior-data-scientist-24-7-customer-private-ltd-bangalore-bengaluru-5-to-10-years-280621501037?src=jobsearchDesk&sid=1625993955470698&xp=16&px=1',\n",
       " 'https://www.naukri.com/job-listings-exl-senior-data-scientist-5-yrs-mumbai-pune-blr-chennai-exl-service-pune-chennai-bangalore-bengaluru-delhi-ncr-5-to-10-years-080721005255?src=jobsearchDesk&sid=1625993955470698&xp=17&px=1',\n",
       " 'https://www.naukri.com/job-listings-senior-data-scientist-superior-group-bangalore-bengaluru-4-to-9-years-070721500778?src=jobsearchDesk&sid=1625993955470698&xp=18&px=1',\n",
       " 'https://www.naukri.com/job-listings-sr-data-scientist-fabhotel-aay-kay-model-town-bangalore-bengaluru-2-to-5-years-070721500535?src=jobsearchDesk&sid=1625993955470698&xp=19&px=1',\n",
       " 'https://www.naukri.com/job-listings-sr-data-scientist-baker-hughes-incorporated-bangalore-bengaluru-3-to-7-years-060721500843?src=jobsearchDesk&sid=1625993955470698&xp=20&px=1']"
      ]
     },
     "execution_count": 302,
     "metadata": {},
     "output_type": "execute_result"
    }
   ],
   "source": [
    "# lets extract all the tags having the job description data\n",
    "#scrap data from job openings\n",
    "job_openings_urls=[]\n",
    "url=driver.find_elements_by_xpath('//a[@class=\"title fw500 ellipsis\"]')\n",
    "for i in url:\n",
    "    job_openings_urls.append(i.get_attribute('href'))\n",
    "job_openings_urls "
   ]
  },
  {
   "cell_type": "code",
   "execution_count": null,
   "metadata": {},
   "outputs": [],
   "source": []
  },
  {
   "cell_type": "code",
   "execution_count": 282,
   "metadata": {},
   "outputs": [
    {
     "data": {
      "text/plain": [
       "[]"
      ]
     },
     "execution_count": 282,
     "metadata": {},
     "output_type": "execute_result"
    }
   ],
   "source": [
    "job_description_list=[]\n",
    "for i in job_description:\n",
    "    job_description_list.append(i.text)\n",
    "job_description_list"
   ]
  },
  {
   "cell_type": "code",
   "execution_count": 304,
   "metadata": {},
   "outputs": [
    {
     "data": {
      "text/plain": [
       "['Senior Data Scientist',\n",
       " 'Lead Data Scientist',\n",
       " 'Data Scientist / Data Analyst -Business Analyst',\n",
       " 'Data Scientist',\n",
       " 'Data Scientist',\n",
       " 'Data Scientist: Advanced Analytics',\n",
       " 'Senior Data Scientist',\n",
       " 'Data Scientist',\n",
       " 'Data Scientist 2',\n",
       " 'Data Scientist 2',\n",
       " 'Hiring Data Scientist',\n",
       " 'Data Scientist',\n",
       " 'Data Scientist',\n",
       " 'Data Scientist - Python/Machine Learning',\n",
       " 'Data Scientist - SQL/R/Python',\n",
       " 'Senior Data Scientist',\n",
       " 'EXL - Senior Data Scientist, 5+ yrs, Mumbai / PUNE / BLR / Chennai',\n",
       " 'Senior Data Scientist',\n",
       " 'Sr Data Scientist',\n",
       " 'Sr Data Scientist']"
      ]
     },
     "execution_count": 304,
     "metadata": {},
     "output_type": "execute_result"
    }
   ],
   "source": [
    "job_title =[]\n",
    "for i in job_openings_urls:\n",
    "    driver.get(i)\n",
    "    job_title=driver.find_elements_by_xpath('h1[@class=\"jd-header-title\"]')\n",
    "    for j in job_title:\n",
    "        job_title.append(i.text)\n",
    "job_titles"
   ]
  },
  {
   "cell_type": "code",
   "execution_count": 309,
   "metadata": {},
   "outputs": [
    {
     "data": {
      "text/plain": [
       "[]"
      ]
     },
     "execution_count": 309,
     "metadata": {},
     "output_type": "execute_result"
    }
   ],
   "source": [
    "job_disc =[]\n",
    "for i in job_openings_urls:\n",
    "    driver.get(i)\n",
    "    job_disc=driver.find_elements_by_xpath('h1[@class=\"Job description\"]')\n",
    "    for j in job_title:\n",
    "        job_disc.append(i.text)\n",
    "job_disc       "
   ]
  },
  {
   "cell_type": "code",
   "execution_count": 64,
   "metadata": {},
   "outputs": [],
   "source": [
    "import pandas as pd\n",
    "jobs=pd.DataFrame({})\n",
    "jobs['title']=job_titles\n",
    "jobs['company']=companies_names\n",
    "jobs['Job_description']=job_description_list\n"
   ]
  },
  {
   "cell_type": "code",
   "execution_count": 65,
   "metadata": {},
   "outputs": [
    {
     "data": {
      "text/html": [
       "<div>\n",
       "<style scoped>\n",
       "    .dataframe tbody tr th:only-of-type {\n",
       "        vertical-align: middle;\n",
       "    }\n",
       "\n",
       "    .dataframe tbody tr th {\n",
       "        vertical-align: top;\n",
       "    }\n",
       "\n",
       "    .dataframe thead th {\n",
       "        text-align: right;\n",
       "    }\n",
       "</style>\n",
       "<table border=\"1\" class=\"dataframe\">\n",
       "  <thead>\n",
       "    <tr style=\"text-align: right;\">\n",
       "      <th></th>\n",
       "      <th>title</th>\n",
       "      <th>company</th>\n",
       "      <th>Job_description</th>\n",
       "    </tr>\n",
       "  </thead>\n",
       "  <tbody>\n",
       "    <tr>\n",
       "      <th>0</th>\n",
       "      <td>Data Scientist / Data Analyst -Business Analyst</td>\n",
       "      <td>Inflexion Analytix Private Limited</td>\n",
       "      <td>Applications invited from all Freshers and exp...</td>\n",
       "    </tr>\n",
       "    <tr>\n",
       "      <th>1</th>\n",
       "      <td>Consultant - Data Analyst</td>\n",
       "      <td>Flipkart Internet Private Limited</td>\n",
       "      <td>Understanding of ecommerce / retail business (...</td>\n",
       "    </tr>\n",
       "    <tr>\n",
       "      <th>2</th>\n",
       "      <td>Assistant Vice President - MIS &amp; Reporting ( B...</td>\n",
       "      <td>INTERTRUSTVITEOS CORPORATE AND FUND SERVICES P...</td>\n",
       "      <td>Works efficiently across distributed teams and...</td>\n",
       "    </tr>\n",
       "    <tr>\n",
       "      <th>3</th>\n",
       "      <td>Network Design &amp; Data Analyst</td>\n",
       "      <td>Dell International Services India Private Limited</td>\n",
       "      <td>You will: Develop framework and methods to def...</td>\n",
       "    </tr>\n",
       "    <tr>\n",
       "      <th>4</th>\n",
       "      <td>Business Data Analyst - MIS &amp; Reporting</td>\n",
       "      <td>INTERTRUST GROUP</td>\n",
       "      <td>Works efficiently across distributed teams and...</td>\n",
       "    </tr>\n",
       "    <tr>\n",
       "      <th>5</th>\n",
       "      <td>Data analysts</td>\n",
       "      <td>IBM India Pvt. Limited</td>\n",
       "      <td>The Data Analyst provides support for those lo...</td>\n",
       "    </tr>\n",
       "    <tr>\n",
       "      <th>6</th>\n",
       "      <td>Excel VBA Jobs Bangalore | VBA data analyst Jobs</td>\n",
       "      <td>Mind Circus Innovation</td>\n",
       "      <td>We are looking for candidates ready to work fr...</td>\n",
       "    </tr>\n",
       "    <tr>\n",
       "      <th>7</th>\n",
       "      <td>Software Developer / Web Developer/data analyst</td>\n",
       "      <td>Edubridgeindia</td>\n",
       "      <td>Advanced skills in design of easy-to-use repor...</td>\n",
       "    </tr>\n",
       "    <tr>\n",
       "      <th>8</th>\n",
       "      <td>Data Analyst – Financial, Healthcare, Sports B...</td>\n",
       "      <td>Quantsys</td>\n",
       "      <td>Job descriptionWe are looking to fill several ...</td>\n",
       "    </tr>\n",
       "    <tr>\n",
       "      <th>9</th>\n",
       "      <td>FTE - Regional BI - Functional Data Analyst</td>\n",
       "      <td>Schneider Electric India Pvt. Ltd.</td>\n",
       "      <td>Understanding the Business problems and end to...</td>\n",
       "    </tr>\n",
       "    <tr>\n",
       "      <th>10</th>\n",
       "      <td>Deputy Manager - Data Analyst</td>\n",
       "      <td>Schneider Electric India Pvt. Ltd.</td>\n",
       "      <td>Bachelors of Electrical electronics engineerin...</td>\n",
       "    </tr>\n",
       "    <tr>\n",
       "      <th>11</th>\n",
       "      <td>Data Analyst</td>\n",
       "      <td>Allegis Services India Pvt. Ltd.</td>\n",
       "      <td>Experience in data-related implementation task...</td>\n",
       "    </tr>\n",
       "    <tr>\n",
       "      <th>12</th>\n",
       "      <td>Senior Security Specialist - CS Awareness &amp; Da...</td>\n",
       "      <td>Cognizant Technology Solutions India Pvt Ltd</td>\n",
       "      <td>Dear Candidate, Greetings from Cognizant!We ar...</td>\n",
       "    </tr>\n",
       "    <tr>\n",
       "      <th>13</th>\n",
       "      <td>Data Analyst</td>\n",
       "      <td>Clarivate Analytics (TRCPL Projects Pvt Ltd.)</td>\n",
       "      <td>This function is responsible for working with ...</td>\n",
       "    </tr>\n",
       "    <tr>\n",
       "      <th>14</th>\n",
       "      <td>Senior Data Analyst Python, ML - Bangalore</td>\n",
       "      <td>2coms</td>\n",
       "      <td>Demonstrated analytic, quantitative, and progr...</td>\n",
       "    </tr>\n",
       "    <tr>\n",
       "      <th>15</th>\n",
       "      <td>Data Analyst</td>\n",
       "      <td>Siemens Limited</td>\n",
       "      <td>Good understanding of Tableau architecture, de...</td>\n",
       "    </tr>\n",
       "    <tr>\n",
       "      <th>16</th>\n",
       "      <td>Data Analyst</td>\n",
       "      <td>Bright Money</td>\n",
       "      <td>The Data Analyst role is a part of Data Scienc...</td>\n",
       "    </tr>\n",
       "    <tr>\n",
       "      <th>17</th>\n",
       "      <td>Senior Data Analyst</td>\n",
       "      <td>Liventus, Inc.</td>\n",
       "      <td>Bachelor s degree in Management of Information...</td>\n",
       "    </tr>\n",
       "    <tr>\n",
       "      <th>18</th>\n",
       "      <td>Consultant - Data Analyst</td>\n",
       "      <td>ZapCom Solutions Pvt Ltd</td>\n",
       "      <td>Essential Duties:Regularly apply advanced data...</td>\n",
       "    </tr>\n",
       "    <tr>\n",
       "      <th>19</th>\n",
       "      <td>Data Analyst</td>\n",
       "      <td>ExecBoardinAsia</td>\n",
       "      <td>Work with data to understand Genuine Fraudulen...</td>\n",
       "    </tr>\n",
       "  </tbody>\n",
       "</table>\n",
       "</div>"
      ],
      "text/plain": [
       "                                                title  \\\n",
       "0     Data Scientist / Data Analyst -Business Analyst   \n",
       "1                           Consultant - Data Analyst   \n",
       "2   Assistant Vice President - MIS & Reporting ( B...   \n",
       "3                       Network Design & Data Analyst   \n",
       "4             Business Data Analyst - MIS & Reporting   \n",
       "5                                       Data analysts   \n",
       "6    Excel VBA Jobs Bangalore | VBA data analyst Jobs   \n",
       "7     Software Developer / Web Developer/data analyst   \n",
       "8   Data Analyst – Financial, Healthcare, Sports B...   \n",
       "9         FTE - Regional BI - Functional Data Analyst   \n",
       "10                      Deputy Manager - Data Analyst   \n",
       "11                                       Data Analyst   \n",
       "12  Senior Security Specialist - CS Awareness & Da...   \n",
       "13                                       Data Analyst   \n",
       "14         Senior Data Analyst Python, ML - Bangalore   \n",
       "15                                       Data Analyst   \n",
       "16                                       Data Analyst   \n",
       "17                                Senior Data Analyst   \n",
       "18                          Consultant - Data Analyst   \n",
       "19                                       Data Analyst   \n",
       "\n",
       "                                              company  \\\n",
       "0                  Inflexion Analytix Private Limited   \n",
       "1                   Flipkart Internet Private Limited   \n",
       "2   INTERTRUSTVITEOS CORPORATE AND FUND SERVICES P...   \n",
       "3   Dell International Services India Private Limited   \n",
       "4                                    INTERTRUST GROUP   \n",
       "5                              IBM India Pvt. Limited   \n",
       "6                              Mind Circus Innovation   \n",
       "7                                      Edubridgeindia   \n",
       "8                                            Quantsys   \n",
       "9                  Schneider Electric India Pvt. Ltd.   \n",
       "10                 Schneider Electric India Pvt. Ltd.   \n",
       "11                   Allegis Services India Pvt. Ltd.   \n",
       "12       Cognizant Technology Solutions India Pvt Ltd   \n",
       "13      Clarivate Analytics (TRCPL Projects Pvt Ltd.)   \n",
       "14                                              2coms   \n",
       "15                                    Siemens Limited   \n",
       "16                                       Bright Money   \n",
       "17                                     Liventus, Inc.   \n",
       "18                           ZapCom Solutions Pvt Ltd   \n",
       "19                                    ExecBoardinAsia   \n",
       "\n",
       "                                      Job_description  \n",
       "0   Applications invited from all Freshers and exp...  \n",
       "1   Understanding of ecommerce / retail business (...  \n",
       "2   Works efficiently across distributed teams and...  \n",
       "3   You will: Develop framework and methods to def...  \n",
       "4   Works efficiently across distributed teams and...  \n",
       "5   The Data Analyst provides support for those lo...  \n",
       "6   We are looking for candidates ready to work fr...  \n",
       "7   Advanced skills in design of easy-to-use repor...  \n",
       "8   Job descriptionWe are looking to fill several ...  \n",
       "9   Understanding the Business problems and end to...  \n",
       "10  Bachelors of Electrical electronics engineerin...  \n",
       "11  Experience in data-related implementation task...  \n",
       "12  Dear Candidate, Greetings from Cognizant!We ar...  \n",
       "13  This function is responsible for working with ...  \n",
       "14  Demonstrated analytic, quantitative, and progr...  \n",
       "15  Good understanding of Tableau architecture, de...  \n",
       "16  The Data Analyst role is a part of Data Scienc...  \n",
       "17  Bachelor s degree in Management of Information...  \n",
       "18  Essential Duties:Regularly apply advanced data...  \n",
       "19  Work with data to understand Genuine Fraudulen...  "
      ]
     },
     "execution_count": 65,
     "metadata": {},
     "output_type": "execute_result"
    }
   ],
   "source": [
    "jobs"
   ]
  },
  {
   "cell_type": "markdown",
   "metadata": {},
   "source": [
    "### Q3: In this question you have to scrape data using the filters available on the webpage as shown below:"
   ]
  },
  {
   "cell_type": "code",
   "execution_count": 116,
   "metadata": {},
   "outputs": [],
   "source": [
    "#lets first connect to web driver\n",
    "driver=webdriver.Chrome(\"chromedriver.exe\")"
   ]
  },
  {
   "cell_type": "code",
   "execution_count": 117,
   "metadata": {},
   "outputs": [],
   "source": [
    "url='https://www.naukri.com'\n",
    "driver.get(url)"
   ]
  },
  {
   "cell_type": "code",
   "execution_count": 118,
   "metadata": {},
   "outputs": [
    {
     "data": {
      "text/plain": [
       "<selenium.webdriver.remote.webelement.WebElement (session=\"73421d4366661e2fbd56f18fe04057dc\", element=\"28e798d3-297c-4d77-b6a9-22063c35b3b0\")>"
      ]
     },
     "execution_count": 118,
     "metadata": {},
     "output_type": "execute_result"
    }
   ],
   "source": [
    "search_job=driver.find_element_by_xpath('//input[@class=\"sugInp\"]')\n",
    "search_job"
   ]
  },
  {
   "cell_type": "code",
   "execution_count": 119,
   "metadata": {},
   "outputs": [
    {
     "data": {
      "text/plain": [
       "<selenium.webdriver.remote.webelement.WebElement (session=\"73421d4366661e2fbd56f18fe04057dc\", element=\"28e798d3-297c-4d77-b6a9-22063c35b3b0\")>"
      ]
     },
     "execution_count": 119,
     "metadata": {},
     "output_type": "execute_result"
    }
   ],
   "source": [
    "search_job=driver.find_element_by_id(\"qsb-keyword-sugg\")\n",
    "search_jobsearch_job=driver.find_element_by_id(\"qsb-keyword-sugg\")\n",
    "search_job"
   ]
  },
  {
   "cell_type": "code",
   "execution_count": 120,
   "metadata": {},
   "outputs": [],
   "source": [
    "#write on search bar\n",
    "search_job.send_keys(\"Data Scientist\")"
   ]
  },
  {
   "cell_type": "code",
   "execution_count": 121,
   "metadata": {},
   "outputs": [],
   "source": [
    "#do click using xpath function\n",
    "search_btn=driver.find_element_by_xpath(\"//button[@class='btn']\")\n",
    "search_btn.click()"
   ]
  },
  {
   "cell_type": "code",
   "execution_count": 123,
   "metadata": {},
   "outputs": [],
   "source": [
    "#so lets extract all the filters \n",
    "location_filter=driver.find_element_by_xpath('/html/body/div[1]/div[3]/div[2]/section[1]/div[2]/div[3]/div[2]/div[3]/label/p/span[1]')\n",
    "location_filter.click()"
   ]
  },
  {
   "cell_type": "code",
   "execution_count": 125,
   "metadata": {},
   "outputs": [],
   "source": [
    "salary_filter=driver.find_element_by_xpath('/html/body/div[1]/div[3]/div[2]/section[1]/div[2]/div[4]/div[2]/div[2]/label/p/span[1]')\n",
    "salary_filter.click()"
   ]
  },
  {
   "cell_type": "code",
   "execution_count": 126,
   "metadata": {},
   "outputs": [
    {
     "data": {
      "text/plain": [
       "[<selenium.webdriver.remote.webelement.WebElement (session=\"73421d4366661e2fbd56f18fe04057dc\", element=\"7aab5b69-3292-49fd-a4ce-7ae6168c4ef8\")>,\n",
       " <selenium.webdriver.remote.webelement.WebElement (session=\"73421d4366661e2fbd56f18fe04057dc\", element=\"9f2394ce-87bb-4707-9896-959b9002bc61\")>,\n",
       " <selenium.webdriver.remote.webelement.WebElement (session=\"73421d4366661e2fbd56f18fe04057dc\", element=\"8c967b55-f5e3-4b2d-8f27-c0fa1766c159\")>,\n",
       " <selenium.webdriver.remote.webelement.WebElement (session=\"73421d4366661e2fbd56f18fe04057dc\", element=\"10a15d18-34b1-4d85-84f2-cd89043dd89a\")>,\n",
       " <selenium.webdriver.remote.webelement.WebElement (session=\"73421d4366661e2fbd56f18fe04057dc\", element=\"d61d1f02-8b04-4efb-9425-fa38a8158e09\")>,\n",
       " <selenium.webdriver.remote.webelement.WebElement (session=\"73421d4366661e2fbd56f18fe04057dc\", element=\"cd664ba6-be16-490a-a641-c3bd7214ceab\")>,\n",
       " <selenium.webdriver.remote.webelement.WebElement (session=\"73421d4366661e2fbd56f18fe04057dc\", element=\"9db7afe1-8df1-452e-864c-b32dce7ae641\")>,\n",
       " <selenium.webdriver.remote.webelement.WebElement (session=\"73421d4366661e2fbd56f18fe04057dc\", element=\"27f6a74f-33a3-4aaa-bf5a-0e1394766b68\")>,\n",
       " <selenium.webdriver.remote.webelement.WebElement (session=\"73421d4366661e2fbd56f18fe04057dc\", element=\"3311b4a7-ad4c-407a-8c32-96fb78b8bbda\")>,\n",
       " <selenium.webdriver.remote.webelement.WebElement (session=\"73421d4366661e2fbd56f18fe04057dc\", element=\"0393aa28-cf95-4a33-abef-9cca036d4e77\")>,\n",
       " <selenium.webdriver.remote.webelement.WebElement (session=\"73421d4366661e2fbd56f18fe04057dc\", element=\"76984c1b-32b9-48b1-9833-12125abfa960\")>,\n",
       " <selenium.webdriver.remote.webelement.WebElement (session=\"73421d4366661e2fbd56f18fe04057dc\", element=\"926de025-2018-42f4-b7f6-d5f63acf45c8\")>,\n",
       " <selenium.webdriver.remote.webelement.WebElement (session=\"73421d4366661e2fbd56f18fe04057dc\", element=\"a582cae1-5d94-4a40-894e-c801dbb93499\")>,\n",
       " <selenium.webdriver.remote.webelement.WebElement (session=\"73421d4366661e2fbd56f18fe04057dc\", element=\"49a0dfcd-1c85-49c0-a124-8608598dac7e\")>,\n",
       " <selenium.webdriver.remote.webelement.WebElement (session=\"73421d4366661e2fbd56f18fe04057dc\", element=\"f7684cc0-dfb7-4dbb-8975-5130a6012776\")>,\n",
       " <selenium.webdriver.remote.webelement.WebElement (session=\"73421d4366661e2fbd56f18fe04057dc\", element=\"8e0bfea8-8468-4307-90aa-e4188a6654fe\")>,\n",
       " <selenium.webdriver.remote.webelement.WebElement (session=\"73421d4366661e2fbd56f18fe04057dc\", element=\"ca3ff3ff-25cc-4db7-861e-9c0f14c22cc7\")>,\n",
       " <selenium.webdriver.remote.webelement.WebElement (session=\"73421d4366661e2fbd56f18fe04057dc\", element=\"69650243-b4c9-4b25-9c77-0bf5f8c3ff80\")>,\n",
       " <selenium.webdriver.remote.webelement.WebElement (session=\"73421d4366661e2fbd56f18fe04057dc\", element=\"47f2d6f5-1e8b-4c9d-8e28-a04796e9cca0\")>,\n",
       " <selenium.webdriver.remote.webelement.WebElement (session=\"73421d4366661e2fbd56f18fe04057dc\", element=\"4d77adb2-0562-4283-8495-3d4cb58f5c0d\")>]"
      ]
     },
     "execution_count": 126,
     "metadata": {},
     "output_type": "execute_result"
    }
   ],
   "source": [
    "jobtitle_tags=driver.find_elements_by_xpath(\"//a[@class='title fw500 ellipsis']\")\n",
    "jobtitle_tags"
   ]
  },
  {
   "cell_type": "code",
   "execution_count": 127,
   "metadata": {},
   "outputs": [
    {
     "data": {
      "text/plain": [
       "['Data Scientist/Data Analyst /Business Analyst',\n",
       " 'Only Fresher / Data Scientist / Data Analyst / Analytics - MNC Jobs',\n",
       " 'Senior Data Scientist',\n",
       " 'Team Leader Operations/Data Scientist',\n",
       " 'Data Scientist',\n",
       " 'Data Scientist (Early Joiner)',\n",
       " 'Advanced Analytics -Data Scientist',\n",
       " 'Data Scientist',\n",
       " 'Data Scientist || Python || C2H',\n",
       " 'Data Scientist || Python || C2H']"
      ]
     },
     "execution_count": 127,
     "metadata": {},
     "output_type": "execute_result"
    }
   ],
   "source": [
    "jobtitle_list=[]\n",
    "for i in jobtitle_tags:\n",
    "    jobtitle_list.append(i.text)\n",
    "jobtitle_list[:10]"
   ]
  },
  {
   "cell_type": "code",
   "execution_count": 130,
   "metadata": {},
   "outputs": [
    {
     "data": {
      "text/plain": [
       "[<selenium.webdriver.remote.webelement.WebElement (session=\"73421d4366661e2fbd56f18fe04057dc\", element=\"7432b10e-89df-4eb9-b099-a00106f6e0a1\")>,\n",
       " <selenium.webdriver.remote.webelement.WebElement (session=\"73421d4366661e2fbd56f18fe04057dc\", element=\"c1283709-153d-4c81-9753-a2cb434115f4\")>,\n",
       " <selenium.webdriver.remote.webelement.WebElement (session=\"73421d4366661e2fbd56f18fe04057dc\", element=\"27f20aa7-9551-4541-a1b4-911fe8b2531f\")>,\n",
       " <selenium.webdriver.remote.webelement.WebElement (session=\"73421d4366661e2fbd56f18fe04057dc\", element=\"2fc0efd8-2486-4de1-aea6-875b6509d992\")>,\n",
       " <selenium.webdriver.remote.webelement.WebElement (session=\"73421d4366661e2fbd56f18fe04057dc\", element=\"1cbeb7c9-ac81-4288-a9d6-f95d956c7081\")>,\n",
       " <selenium.webdriver.remote.webelement.WebElement (session=\"73421d4366661e2fbd56f18fe04057dc\", element=\"58d95dd0-aeb6-4d4e-84a4-5c374733cd02\")>,\n",
       " <selenium.webdriver.remote.webelement.WebElement (session=\"73421d4366661e2fbd56f18fe04057dc\", element=\"ebaab028-8593-4d3a-9590-71b8e40c0cd6\")>,\n",
       " <selenium.webdriver.remote.webelement.WebElement (session=\"73421d4366661e2fbd56f18fe04057dc\", element=\"96eabc25-28cd-4f83-8be3-b6a655cdda92\")>,\n",
       " <selenium.webdriver.remote.webelement.WebElement (session=\"73421d4366661e2fbd56f18fe04057dc\", element=\"1d3eaa05-5c67-4aab-ba5b-39fd6a9a670c\")>,\n",
       " <selenium.webdriver.remote.webelement.WebElement (session=\"73421d4366661e2fbd56f18fe04057dc\", element=\"8ca7266c-f9dc-4f1a-9c13-6c9b856da72f\")>,\n",
       " <selenium.webdriver.remote.webelement.WebElement (session=\"73421d4366661e2fbd56f18fe04057dc\", element=\"ee0dddee-1a2f-4d38-96a1-05b2bb86f697\")>,\n",
       " <selenium.webdriver.remote.webelement.WebElement (session=\"73421d4366661e2fbd56f18fe04057dc\", element=\"1021931e-b6e2-4421-9807-517dec5f5170\")>,\n",
       " <selenium.webdriver.remote.webelement.WebElement (session=\"73421d4366661e2fbd56f18fe04057dc\", element=\"270670ba-d6d9-475a-a659-41f27c09ab44\")>,\n",
       " <selenium.webdriver.remote.webelement.WebElement (session=\"73421d4366661e2fbd56f18fe04057dc\", element=\"23f9f34b-8edc-4055-9d06-c4f26ff7f330\")>,\n",
       " <selenium.webdriver.remote.webelement.WebElement (session=\"73421d4366661e2fbd56f18fe04057dc\", element=\"75e81034-7716-48c0-a20d-d3ab2d83cbb4\")>,\n",
       " <selenium.webdriver.remote.webelement.WebElement (session=\"73421d4366661e2fbd56f18fe04057dc\", element=\"cd460075-d4d2-431a-bb2e-a2540d218c2c\")>,\n",
       " <selenium.webdriver.remote.webelement.WebElement (session=\"73421d4366661e2fbd56f18fe04057dc\", element=\"d76615d3-c7de-4acf-a509-ef4cc575cf6d\")>,\n",
       " <selenium.webdriver.remote.webelement.WebElement (session=\"73421d4366661e2fbd56f18fe04057dc\", element=\"3d566185-be5a-4fca-bd64-a79e60b1e8fd\")>,\n",
       " <selenium.webdriver.remote.webelement.WebElement (session=\"73421d4366661e2fbd56f18fe04057dc\", element=\"fe059897-abaa-4a22-b9b1-cb31193b9bb8\")>,\n",
       " <selenium.webdriver.remote.webelement.WebElement (session=\"73421d4366661e2fbd56f18fe04057dc\", element=\"a6529238-a79e-4900-992f-f742235e9226\")>]"
      ]
     },
     "execution_count": 130,
     "metadata": {},
     "output_type": "execute_result"
    }
   ],
   "source": [
    "location_tags=driver.find_elements_by_xpath(\"//li[@class='fleft grey-text br2 placeHolderLi location']\")\n",
    "location_tags"
   ]
  },
  {
   "cell_type": "code",
   "execution_count": 131,
   "metadata": {},
   "outputs": [
    {
     "data": {
      "text/plain": [
       "['Pune, Delhi / NCR, Mumbai (All Areas)',\n",
       " 'Noida, Greater Noida, Delhi / NCR',\n",
       " 'Hyderabad/Secunderabad, Gurgaon/Gurugram, Bangalore/Bengaluru',\n",
       " 'Gurgaon/Gurugram, Delhi / NCR',\n",
       " 'New Delhi',\n",
       " 'Noida(Sector-59 Noida)',\n",
       " 'New Delhi, Hyderabad/Secunderabad',\n",
       " 'Hyderabad/Secunderabad, Gurgaon/Gurugram, Bangalore/Bengaluru',\n",
       " 'Noida, Kolkata, Gurgaon/Gurugram, Bangalore/Bengaluru',\n",
       " 'Noida, Kolkata, Gurgaon/Gurugram, Bangalore/Bengaluru']"
      ]
     },
     "execution_count": 131,
     "metadata": {},
     "output_type": "execute_result"
    }
   ],
   "source": [
    "location_list=[]\n",
    "for i in location_tags:\n",
    "    location_list.append(i.text)\n",
    "location_list[:10]"
   ]
  },
  {
   "cell_type": "code",
   "execution_count": 132,
   "metadata": {},
   "outputs": [
    {
     "data": {
      "text/plain": [
       "[<selenium.webdriver.remote.webelement.WebElement (session=\"73421d4366661e2fbd56f18fe04057dc\", element=\"0930b7c6-7474-4e5e-986d-4fbd1545e398\")>,\n",
       " <selenium.webdriver.remote.webelement.WebElement (session=\"73421d4366661e2fbd56f18fe04057dc\", element=\"8945b8ef-7930-4d93-9ea6-0d21143c301f\")>,\n",
       " <selenium.webdriver.remote.webelement.WebElement (session=\"73421d4366661e2fbd56f18fe04057dc\", element=\"c7bb7823-30db-4285-b537-880ca1e21fd3\")>,\n",
       " <selenium.webdriver.remote.webelement.WebElement (session=\"73421d4366661e2fbd56f18fe04057dc\", element=\"a9f34af7-4337-455a-afd3-15f632f39bba\")>,\n",
       " <selenium.webdriver.remote.webelement.WebElement (session=\"73421d4366661e2fbd56f18fe04057dc\", element=\"d8f0f53e-d1c6-4473-966d-a75475d3326b\")>,\n",
       " <selenium.webdriver.remote.webelement.WebElement (session=\"73421d4366661e2fbd56f18fe04057dc\", element=\"fb5fdc47-823b-4f8d-a225-add342174c1b\")>,\n",
       " <selenium.webdriver.remote.webelement.WebElement (session=\"73421d4366661e2fbd56f18fe04057dc\", element=\"6609731c-a1ab-478e-a7c2-d55a055c96e9\")>,\n",
       " <selenium.webdriver.remote.webelement.WebElement (session=\"73421d4366661e2fbd56f18fe04057dc\", element=\"5f642f6e-74a8-4b81-91d0-45a86f1f1921\")>,\n",
       " <selenium.webdriver.remote.webelement.WebElement (session=\"73421d4366661e2fbd56f18fe04057dc\", element=\"50ec693c-4636-4ba5-bdc5-e2b32e603e5f\")>,\n",
       " <selenium.webdriver.remote.webelement.WebElement (session=\"73421d4366661e2fbd56f18fe04057dc\", element=\"fc0826c9-76d8-4f97-a90e-f7116086937a\")>,\n",
       " <selenium.webdriver.remote.webelement.WebElement (session=\"73421d4366661e2fbd56f18fe04057dc\", element=\"9362fa70-786d-4b5f-b070-82176a63881d\")>,\n",
       " <selenium.webdriver.remote.webelement.WebElement (session=\"73421d4366661e2fbd56f18fe04057dc\", element=\"fa69144a-edde-47d8-9d11-7bb66680d0ce\")>,\n",
       " <selenium.webdriver.remote.webelement.WebElement (session=\"73421d4366661e2fbd56f18fe04057dc\", element=\"861d9ae8-18b0-47b6-ab77-dee3dd9de161\")>,\n",
       " <selenium.webdriver.remote.webelement.WebElement (session=\"73421d4366661e2fbd56f18fe04057dc\", element=\"14cbd930-79da-4a28-a0de-9436bdba90d7\")>,\n",
       " <selenium.webdriver.remote.webelement.WebElement (session=\"73421d4366661e2fbd56f18fe04057dc\", element=\"a7bafdc9-f435-4e8d-a446-4a79e18f32ba\")>,\n",
       " <selenium.webdriver.remote.webelement.WebElement (session=\"73421d4366661e2fbd56f18fe04057dc\", element=\"3a73b476-c8ba-40c3-a3e7-bd647984e803\")>,\n",
       " <selenium.webdriver.remote.webelement.WebElement (session=\"73421d4366661e2fbd56f18fe04057dc\", element=\"5c1ce883-246f-45b2-b3db-44a6f17dd12f\")>,\n",
       " <selenium.webdriver.remote.webelement.WebElement (session=\"73421d4366661e2fbd56f18fe04057dc\", element=\"a44e076d-2288-4e27-9aaa-ac6d730f8934\")>,\n",
       " <selenium.webdriver.remote.webelement.WebElement (session=\"73421d4366661e2fbd56f18fe04057dc\", element=\"b94c546e-feb9-47a8-bd11-deaf9bafb56c\")>,\n",
       " <selenium.webdriver.remote.webelement.WebElement (session=\"73421d4366661e2fbd56f18fe04057dc\", element=\"7b2c5967-355d-48bb-9952-afd09fa29efb\")>]"
      ]
     },
     "execution_count": 132,
     "metadata": {},
     "output_type": "execute_result"
    }
   ],
   "source": [
    "company_tags=driver.find_elements_by_xpath(\"//a[@class='subTitle ellipsis fleft']\")\n",
    "company_tags"
   ]
  },
  {
   "cell_type": "code",
   "execution_count": 133,
   "metadata": {},
   "outputs": [
    {
     "data": {
      "text/plain": [
       "['Inflexion Analytix Private Limited',\n",
       " 'GABA Consultancy services',\n",
       " 'inVentiv International Pharma Services Pvt. Ltd.',\n",
       " 'Optimint Solutions Pvt. Ltd.',\n",
       " 'PredictiVu',\n",
       " 'R Systems International Ltd.',\n",
       " 'ERM Placement Services (P) Ltd.',\n",
       " 'recruitment advisory line',\n",
       " 'Growel Softech Pvt. Ltd.',\n",
       " 'Growel Softech Pvt. Ltd.']"
      ]
     },
     "execution_count": 133,
     "metadata": {},
     "output_type": "execute_result"
    }
   ],
   "source": [
    "company_list=[]\n",
    "for i in company_tags:\n",
    "    company_list.append(i.text)\n",
    "company_list[:10]"
   ]
  },
  {
   "cell_type": "code",
   "execution_count": 135,
   "metadata": {},
   "outputs": [
    {
     "data": {
      "text/plain": [
       "[<selenium.webdriver.remote.webelement.WebElement (session=\"73421d4366661e2fbd56f18fe04057dc\", element=\"e7be7fe7-a198-46a5-ab69-d24106a8c04f\")>,\n",
       " <selenium.webdriver.remote.webelement.WebElement (session=\"73421d4366661e2fbd56f18fe04057dc\", element=\"6b60b50a-35da-41ac-8dd0-6436ff77e2d7\")>,\n",
       " <selenium.webdriver.remote.webelement.WebElement (session=\"73421d4366661e2fbd56f18fe04057dc\", element=\"69a757bc-b285-4b8c-9c2a-ba9848ee9e2d\")>,\n",
       " <selenium.webdriver.remote.webelement.WebElement (session=\"73421d4366661e2fbd56f18fe04057dc\", element=\"27e432bb-879d-4320-8877-46647c715f0b\")>,\n",
       " <selenium.webdriver.remote.webelement.WebElement (session=\"73421d4366661e2fbd56f18fe04057dc\", element=\"eaae3900-2ace-438e-9b03-c382ee5cb73e\")>,\n",
       " <selenium.webdriver.remote.webelement.WebElement (session=\"73421d4366661e2fbd56f18fe04057dc\", element=\"6b17719b-e7ed-4d9a-a01a-6476f48da99d\")>,\n",
       " <selenium.webdriver.remote.webelement.WebElement (session=\"73421d4366661e2fbd56f18fe04057dc\", element=\"ba44c5b1-31a5-4890-afb6-c7fa7891ad2a\")>,\n",
       " <selenium.webdriver.remote.webelement.WebElement (session=\"73421d4366661e2fbd56f18fe04057dc\", element=\"95aac19e-e58f-4484-9c6f-2333484d9c93\")>,\n",
       " <selenium.webdriver.remote.webelement.WebElement (session=\"73421d4366661e2fbd56f18fe04057dc\", element=\"7f09cf40-4ae2-43af-b573-f7d35831f778\")>,\n",
       " <selenium.webdriver.remote.webelement.WebElement (session=\"73421d4366661e2fbd56f18fe04057dc\", element=\"5b429234-34af-4dcd-a758-2d3daadc59b8\")>,\n",
       " <selenium.webdriver.remote.webelement.WebElement (session=\"73421d4366661e2fbd56f18fe04057dc\", element=\"3982ee20-fb00-42d2-af31-343d0c5a1cf9\")>,\n",
       " <selenium.webdriver.remote.webelement.WebElement (session=\"73421d4366661e2fbd56f18fe04057dc\", element=\"c6f2f891-a7b1-407f-98f9-6e70d30a3b50\")>,\n",
       " <selenium.webdriver.remote.webelement.WebElement (session=\"73421d4366661e2fbd56f18fe04057dc\", element=\"2bcab541-a281-4454-a29d-52bba2c3d111\")>,\n",
       " <selenium.webdriver.remote.webelement.WebElement (session=\"73421d4366661e2fbd56f18fe04057dc\", element=\"b2b330f4-81f8-4b18-af94-481c57deb483\")>,\n",
       " <selenium.webdriver.remote.webelement.WebElement (session=\"73421d4366661e2fbd56f18fe04057dc\", element=\"2790ebb8-4342-4025-9696-110e3ff7da66\")>,\n",
       " <selenium.webdriver.remote.webelement.WebElement (session=\"73421d4366661e2fbd56f18fe04057dc\", element=\"62290e3d-336a-470d-aa49-12205d47e60a\")>,\n",
       " <selenium.webdriver.remote.webelement.WebElement (session=\"73421d4366661e2fbd56f18fe04057dc\", element=\"5bb8760c-8a6c-4ba2-bc23-2d17f9f67357\")>,\n",
       " <selenium.webdriver.remote.webelement.WebElement (session=\"73421d4366661e2fbd56f18fe04057dc\", element=\"c22bb3f1-4717-4f5f-96a6-f1f45c888f1f\")>,\n",
       " <selenium.webdriver.remote.webelement.WebElement (session=\"73421d4366661e2fbd56f18fe04057dc\", element=\"9e8c52c1-9671-4740-8d47-36814a826130\")>,\n",
       " <selenium.webdriver.remote.webelement.WebElement (session=\"73421d4366661e2fbd56f18fe04057dc\", element=\"59c5e8d5-4c4c-4d8d-aab0-7298e63f7650\")>]"
      ]
     },
     "execution_count": 135,
     "metadata": {},
     "output_type": "execute_result"
    }
   ],
   "source": [
    "experience_tags=driver.find_elements_by_xpath(\"//li[@class='fleft grey-text br2 placeHolderLi experience']\")\n",
    "experience_tags"
   ]
  },
  {
   "cell_type": "code",
   "execution_count": 136,
   "metadata": {},
   "outputs": [
    {
     "data": {
      "text/plain": [
       "['0-3 Yrs',\n",
       " '0-0 Yrs',\n",
       " '3-6 Yrs',\n",
       " '2-5 Yrs',\n",
       " '4-8 Yrs',\n",
       " '4-8 Yrs',\n",
       " '3-7 Yrs',\n",
       " '3-6 Yrs',\n",
       " '4-6 Yrs',\n",
       " '4-6 Yrs']"
      ]
     },
     "execution_count": 136,
     "metadata": {},
     "output_type": "execute_result"
    }
   ],
   "source": [
    "experience_list=[]\n",
    "for i in experience_tags:\n",
    "    experience_list.append(i.text)\n",
    "experience_list[:10]"
   ]
  },
  {
   "cell_type": "code",
   "execution_count": 145,
   "metadata": {},
   "outputs": [],
   "source": [
    "import pandas as pd\n",
    "jobs=pd.DataFrame({})\n",
    "jobs['title']=location_list\n",
    "jobs['company']=company_list\n",
    "jobs['Job_description']=experience_list\n",
    "jobs['experience']=experience_list\n"
   ]
  },
  {
   "cell_type": "code",
   "execution_count": 146,
   "metadata": {},
   "outputs": [
    {
     "data": {
      "text/html": [
       "<div>\n",
       "<style scoped>\n",
       "    .dataframe tbody tr th:only-of-type {\n",
       "        vertical-align: middle;\n",
       "    }\n",
       "\n",
       "    .dataframe tbody tr th {\n",
       "        vertical-align: top;\n",
       "    }\n",
       "\n",
       "    .dataframe thead th {\n",
       "        text-align: right;\n",
       "    }\n",
       "</style>\n",
       "<table border=\"1\" class=\"dataframe\">\n",
       "  <thead>\n",
       "    <tr style=\"text-align: right;\">\n",
       "      <th></th>\n",
       "      <th>title</th>\n",
       "      <th>company</th>\n",
       "      <th>Job_description</th>\n",
       "      <th>experience</th>\n",
       "    </tr>\n",
       "  </thead>\n",
       "  <tbody>\n",
       "    <tr>\n",
       "      <th>0</th>\n",
       "      <td>Pune, Delhi / NCR, Mumbai (All Areas)</td>\n",
       "      <td>Inflexion Analytix Private Limited</td>\n",
       "      <td>0-3 Yrs</td>\n",
       "      <td>0-3 Yrs</td>\n",
       "    </tr>\n",
       "    <tr>\n",
       "      <th>1</th>\n",
       "      <td>Noida, Greater Noida, Delhi / NCR</td>\n",
       "      <td>GABA Consultancy services</td>\n",
       "      <td>0-0 Yrs</td>\n",
       "      <td>0-0 Yrs</td>\n",
       "    </tr>\n",
       "    <tr>\n",
       "      <th>2</th>\n",
       "      <td>Hyderabad/Secunderabad, Gurgaon/Gurugram, Bang...</td>\n",
       "      <td>inVentiv International Pharma Services Pvt. Ltd.</td>\n",
       "      <td>3-6 Yrs</td>\n",
       "      <td>3-6 Yrs</td>\n",
       "    </tr>\n",
       "    <tr>\n",
       "      <th>3</th>\n",
       "      <td>Gurgaon/Gurugram, Delhi / NCR</td>\n",
       "      <td>Optimint Solutions Pvt. Ltd.</td>\n",
       "      <td>2-5 Yrs</td>\n",
       "      <td>2-5 Yrs</td>\n",
       "    </tr>\n",
       "    <tr>\n",
       "      <th>4</th>\n",
       "      <td>New Delhi</td>\n",
       "      <td>PredictiVu</td>\n",
       "      <td>4-8 Yrs</td>\n",
       "      <td>4-8 Yrs</td>\n",
       "    </tr>\n",
       "    <tr>\n",
       "      <th>5</th>\n",
       "      <td>Noida(Sector-59 Noida)</td>\n",
       "      <td>R Systems International Ltd.</td>\n",
       "      <td>4-8 Yrs</td>\n",
       "      <td>4-8 Yrs</td>\n",
       "    </tr>\n",
       "    <tr>\n",
       "      <th>6</th>\n",
       "      <td>New Delhi, Hyderabad/Secunderabad</td>\n",
       "      <td>ERM Placement Services (P) Ltd.</td>\n",
       "      <td>3-7 Yrs</td>\n",
       "      <td>3-7 Yrs</td>\n",
       "    </tr>\n",
       "    <tr>\n",
       "      <th>7</th>\n",
       "      <td>Hyderabad/Secunderabad, Gurgaon/Gurugram, Bang...</td>\n",
       "      <td>recruitment advisory line</td>\n",
       "      <td>3-6 Yrs</td>\n",
       "      <td>3-6 Yrs</td>\n",
       "    </tr>\n",
       "    <tr>\n",
       "      <th>8</th>\n",
       "      <td>Noida, Kolkata, Gurgaon/Gurugram, Bangalore/Be...</td>\n",
       "      <td>Growel Softech Pvt. Ltd.</td>\n",
       "      <td>4-6 Yrs</td>\n",
       "      <td>4-6 Yrs</td>\n",
       "    </tr>\n",
       "    <tr>\n",
       "      <th>9</th>\n",
       "      <td>Noida, Kolkata, Gurgaon/Gurugram, Bangalore/Be...</td>\n",
       "      <td>Growel Softech Pvt. Ltd.</td>\n",
       "      <td>4-6 Yrs</td>\n",
       "      <td>4-6 Yrs</td>\n",
       "    </tr>\n",
       "    <tr>\n",
       "      <th>10</th>\n",
       "      <td>Mumbai, Gurgaon/Gurugram, Bangalore/Bengaluru</td>\n",
       "      <td>Fractal Analytics</td>\n",
       "      <td>3-7 Yrs</td>\n",
       "      <td>3-7 Yrs</td>\n",
       "    </tr>\n",
       "    <tr>\n",
       "      <th>11</th>\n",
       "      <td>New Delhi</td>\n",
       "      <td>CHANGE LEADERS CONSULTING</td>\n",
       "      <td>5-8 Yrs</td>\n",
       "      <td>5-8 Yrs</td>\n",
       "    </tr>\n",
       "    <tr>\n",
       "      <th>12</th>\n",
       "      <td>Delhi</td>\n",
       "      <td>iNICU</td>\n",
       "      <td>1-5 Yrs</td>\n",
       "      <td>1-5 Yrs</td>\n",
       "    </tr>\n",
       "    <tr>\n",
       "      <th>13</th>\n",
       "      <td>Gurgaon, Bengaluru</td>\n",
       "      <td>BlackBuck</td>\n",
       "      <td>3-7 Yrs</td>\n",
       "      <td>3-7 Yrs</td>\n",
       "    </tr>\n",
       "    <tr>\n",
       "      <th>14</th>\n",
       "      <td>Bharuch, Jaipur, Bhopal, Mumbai, Jhansi, Nagpu...</td>\n",
       "      <td>Country Veggie</td>\n",
       "      <td>1-3 Yrs</td>\n",
       "      <td>1-3 Yrs</td>\n",
       "    </tr>\n",
       "    <tr>\n",
       "      <th>15</th>\n",
       "      <td>Delhi</td>\n",
       "      <td>Mahajan Imaging</td>\n",
       "      <td>2-6 Yrs</td>\n",
       "      <td>2-6 Yrs</td>\n",
       "    </tr>\n",
       "    <tr>\n",
       "      <th>16</th>\n",
       "      <td>Delhi</td>\n",
       "      <td>Mahajan Imaging</td>\n",
       "      <td>2-6 Yrs</td>\n",
       "      <td>2-6 Yrs</td>\n",
       "    </tr>\n",
       "    <tr>\n",
       "      <th>17</th>\n",
       "      <td>Noida</td>\n",
       "      <td>Right Step Consulting</td>\n",
       "      <td>3-6 Yrs</td>\n",
       "      <td>3-6 Yrs</td>\n",
       "    </tr>\n",
       "    <tr>\n",
       "      <th>18</th>\n",
       "      <td>New Delhi</td>\n",
       "      <td>Blow Trumpet Solutions</td>\n",
       "      <td>1-5 Yrs</td>\n",
       "      <td>1-5 Yrs</td>\n",
       "    </tr>\n",
       "    <tr>\n",
       "      <th>19</th>\n",
       "      <td>Gurgaon</td>\n",
       "      <td>Inference Labs</td>\n",
       "      <td>3-5 Yrs</td>\n",
       "      <td>3-5 Yrs</td>\n",
       "    </tr>\n",
       "  </tbody>\n",
       "</table>\n",
       "</div>"
      ],
      "text/plain": [
       "                                                title  \\\n",
       "0               Pune, Delhi / NCR, Mumbai (All Areas)   \n",
       "1                   Noida, Greater Noida, Delhi / NCR   \n",
       "2   Hyderabad/Secunderabad, Gurgaon/Gurugram, Bang...   \n",
       "3                       Gurgaon/Gurugram, Delhi / NCR   \n",
       "4                                           New Delhi   \n",
       "5                              Noida(Sector-59 Noida)   \n",
       "6                   New Delhi, Hyderabad/Secunderabad   \n",
       "7   Hyderabad/Secunderabad, Gurgaon/Gurugram, Bang...   \n",
       "8   Noida, Kolkata, Gurgaon/Gurugram, Bangalore/Be...   \n",
       "9   Noida, Kolkata, Gurgaon/Gurugram, Bangalore/Be...   \n",
       "10      Mumbai, Gurgaon/Gurugram, Bangalore/Bengaluru   \n",
       "11                                          New Delhi   \n",
       "12                                              Delhi   \n",
       "13                                 Gurgaon, Bengaluru   \n",
       "14  Bharuch, Jaipur, Bhopal, Mumbai, Jhansi, Nagpu...   \n",
       "15                                              Delhi   \n",
       "16                                              Delhi   \n",
       "17                                              Noida   \n",
       "18                                          New Delhi   \n",
       "19                                            Gurgaon   \n",
       "\n",
       "                                             company Job_description  \\\n",
       "0                 Inflexion Analytix Private Limited         0-3 Yrs   \n",
       "1                          GABA Consultancy services         0-0 Yrs   \n",
       "2   inVentiv International Pharma Services Pvt. Ltd.         3-6 Yrs   \n",
       "3                       Optimint Solutions Pvt. Ltd.         2-5 Yrs   \n",
       "4                                         PredictiVu         4-8 Yrs   \n",
       "5                       R Systems International Ltd.         4-8 Yrs   \n",
       "6                    ERM Placement Services (P) Ltd.         3-7 Yrs   \n",
       "7                          recruitment advisory line         3-6 Yrs   \n",
       "8                           Growel Softech Pvt. Ltd.         4-6 Yrs   \n",
       "9                           Growel Softech Pvt. Ltd.         4-6 Yrs   \n",
       "10                                 Fractal Analytics         3-7 Yrs   \n",
       "11                         CHANGE LEADERS CONSULTING         5-8 Yrs   \n",
       "12                                             iNICU         1-5 Yrs   \n",
       "13                                         BlackBuck         3-7 Yrs   \n",
       "14                                    Country Veggie         1-3 Yrs   \n",
       "15                                   Mahajan Imaging         2-6 Yrs   \n",
       "16                                   Mahajan Imaging         2-6 Yrs   \n",
       "17                             Right Step Consulting         3-6 Yrs   \n",
       "18                            Blow Trumpet Solutions         1-5 Yrs   \n",
       "19                                    Inference Labs         3-5 Yrs   \n",
       "\n",
       "   experience  \n",
       "0     0-3 Yrs  \n",
       "1     0-0 Yrs  \n",
       "2     3-6 Yrs  \n",
       "3     2-5 Yrs  \n",
       "4     4-8 Yrs  \n",
       "5     4-8 Yrs  \n",
       "6     3-7 Yrs  \n",
       "7     3-6 Yrs  \n",
       "8     4-6 Yrs  \n",
       "9     4-6 Yrs  \n",
       "10    3-7 Yrs  \n",
       "11    5-8 Yrs  \n",
       "12    1-5 Yrs  \n",
       "13    3-7 Yrs  \n",
       "14    1-3 Yrs  \n",
       "15    2-6 Yrs  \n",
       "16    2-6 Yrs  \n",
       "17    3-6 Yrs  \n",
       "18    1-5 Yrs  \n",
       "19    3-5 Yrs  "
      ]
     },
     "execution_count": 146,
     "metadata": {},
     "output_type": "execute_result"
    }
   ],
   "source": [
    "jobs"
   ]
  },
  {
   "cell_type": "markdown",
   "metadata": {},
   "source": [
    "### Q4: Write a python program to scrape data for first 10 job results for Data scientist Designation in Noida location. You have to scrape company_name, No. of days ago when job was posted, Rating of the company.\n"
   ]
  },
  {
   "cell_type": "code",
   "execution_count": 148,
   "metadata": {},
   "outputs": [],
   "source": [
    "#lets first connect to web driver\n",
    "driver=webdriver.Chrome(\"chromedriver.exe\")"
   ]
  },
  {
   "cell_type": "code",
   "execution_count": 149,
   "metadata": {},
   "outputs": [],
   "source": [
    "url='https://www.glassdoor.co.in/Salaries/index.htm'\n",
    "driver.get(url)"
   ]
  },
  {
   "cell_type": "code",
   "execution_count": 150,
   "metadata": {},
   "outputs": [
    {
     "data": {
      "text/plain": [
       "<selenium.webdriver.remote.webelement.WebElement (session=\"91b3c592af86a202e44568de73540fdc\", element=\"88c8605e-afe3-4024-bf79-f10de324e7bc\")>"
      ]
     },
     "execution_count": 150,
     "metadata": {},
     "output_type": "execute_result"
    }
   ],
   "source": [
    "search_job=driver.find_element_by_xpath('//input[@name=\"sc.keyword\"]')\n",
    "search_job"
   ]
  },
  {
   "cell_type": "code",
   "execution_count": 151,
   "metadata": {},
   "outputs": [],
   "source": [
    "search_job.send_keys(\"Data Scientist\")"
   ]
  },
  {
   "cell_type": "code",
   "execution_count": 152,
   "metadata": {},
   "outputs": [],
   "source": [
    "#finding element for job location bar\n",
    "search_loc=driver.find_element_by_id(\"LocationSearch\")\n",
    "search_loc.send_keys(\"Noida\")"
   ]
  },
  {
   "cell_type": "code",
   "execution_count": 154,
   "metadata": {},
   "outputs": [],
   "source": [
    "search_btn=driver.find_element_by_xpath(\"//button[@class='gd-btn-mkt']\")\n",
    "search_btn.click()"
   ]
  },
  {
   "cell_type": "code",
   "execution_count": 155,
   "metadata": {},
   "outputs": [
    {
     "data": {
      "text/plain": [
       "[<selenium.webdriver.remote.webelement.WebElement (session=\"91b3c592af86a202e44568de73540fdc\", element=\"a24a6131-cfcb-4878-b9e6-1d871342016c\")>,\n",
       " <selenium.webdriver.remote.webelement.WebElement (session=\"91b3c592af86a202e44568de73540fdc\", element=\"2db32970-a791-45bd-af37-9e85533fd2fe\")>,\n",
       " <selenium.webdriver.remote.webelement.WebElement (session=\"91b3c592af86a202e44568de73540fdc\", element=\"86dcd9b2-f923-49d9-9949-899d464050a4\")>,\n",
       " <selenium.webdriver.remote.webelement.WebElement (session=\"91b3c592af86a202e44568de73540fdc\", element=\"3aa22ff2-e732-4ee2-bebf-3a7fa718c170\")>,\n",
       " <selenium.webdriver.remote.webelement.WebElement (session=\"91b3c592af86a202e44568de73540fdc\", element=\"3cd999eb-77ec-4043-911c-9104a26b3a44\")>,\n",
       " <selenium.webdriver.remote.webelement.WebElement (session=\"91b3c592af86a202e44568de73540fdc\", element=\"4bd0a9b8-0a66-41db-b7cb-e255236c8eff\")>,\n",
       " <selenium.webdriver.remote.webelement.WebElement (session=\"91b3c592af86a202e44568de73540fdc\", element=\"f482a4d6-f96a-4f31-a2ed-fbae1a5410bb\")>,\n",
       " <selenium.webdriver.remote.webelement.WebElement (session=\"91b3c592af86a202e44568de73540fdc\", element=\"f3824181-83d8-4f21-a590-b2388b583478\")>,\n",
       " <selenium.webdriver.remote.webelement.WebElement (session=\"91b3c592af86a202e44568de73540fdc\", element=\"dc11d5a2-9f65-40f8-9a37-a292cd2ccbaf\")>,\n",
       " <selenium.webdriver.remote.webelement.WebElement (session=\"91b3c592af86a202e44568de73540fdc\", element=\"53151026-e12f-4098-ad24-772bcc805f72\")>,\n",
       " <selenium.webdriver.remote.webelement.WebElement (session=\"91b3c592af86a202e44568de73540fdc\", element=\"0109bf04-d623-455e-a103-cdac3346c54d\")>,\n",
       " <selenium.webdriver.remote.webelement.WebElement (session=\"91b3c592af86a202e44568de73540fdc\", element=\"012145bc-bb7d-4cc5-b5fb-d2dc558db8c7\")>,\n",
       " <selenium.webdriver.remote.webelement.WebElement (session=\"91b3c592af86a202e44568de73540fdc\", element=\"15f18578-d687-4762-a432-3d272dde2c39\")>,\n",
       " <selenium.webdriver.remote.webelement.WebElement (session=\"91b3c592af86a202e44568de73540fdc\", element=\"34016bdd-1512-4f1f-a150-782dfab02fe6\")>,\n",
       " <selenium.webdriver.remote.webelement.WebElement (session=\"91b3c592af86a202e44568de73540fdc\", element=\"5fa543dc-9698-4ab8-97dd-b42498c6cd18\")>,\n",
       " <selenium.webdriver.remote.webelement.WebElement (session=\"91b3c592af86a202e44568de73540fdc\", element=\"a6c14920-3f42-4ccf-b136-cecc7b67a2b6\")>,\n",
       " <selenium.webdriver.remote.webelement.WebElement (session=\"91b3c592af86a202e44568de73540fdc\", element=\"e0a63e17-ca95-42ca-86ee-d5d3c07c0f08\")>,\n",
       " <selenium.webdriver.remote.webelement.WebElement (session=\"91b3c592af86a202e44568de73540fdc\", element=\"cf848c5f-6f22-4de3-b8c3-ec43867b0aab\")>,\n",
       " <selenium.webdriver.remote.webelement.WebElement (session=\"91b3c592af86a202e44568de73540fdc\", element=\"54b7c9d7-cb10-4a82-ad33-8ce769bd93af\")>,\n",
       " <selenium.webdriver.remote.webelement.WebElement (session=\"91b3c592af86a202e44568de73540fdc\", element=\"b3466783-aa6e-4b71-9119-844834f2a10f\")>]"
      ]
     },
     "execution_count": 155,
     "metadata": {},
     "output_type": "execute_result"
    }
   ],
   "source": [
    "#so lets extract all the tags having the job titles\n",
    "titles_tags=driver.find_elements_by_xpath(\"//a[@class='css-f3vw95 e1aj7ssy3']\")\n",
    "titles_tags"
   ]
  },
  {
   "cell_type": "code",
   "execution_count": 156,
   "metadata": {},
   "outputs": [
    {
     "data": {
      "text/plain": [
       "['', '', '', '', '', '', '', '', '', '']"
      ]
     },
     "execution_count": 156,
     "metadata": {},
     "output_type": "execute_result"
    }
   ],
   "source": [
    "#Now the text of the job title is inside the tags extracted above\n",
    "#so we will run a loop to iterate over the tags extracted above and extract the top 10 text inside them\n",
    "job_titles=[]\n",
    "for i in titles_tags:\n",
    "    job_titles.append(i.text)\n",
    "job_titles[:10]"
   ]
  },
  {
   "cell_type": "code",
   "execution_count": 157,
   "metadata": {},
   "outputs": [],
   "source": [
    "import pandas as pd\n",
    "jobs=pd.DataFrame({})\n",
    "jobs['title']=job_titles[:10]"
   ]
  },
  {
   "cell_type": "code",
   "execution_count": 158,
   "metadata": {
    "scrolled": true
   },
   "outputs": [
    {
     "data": {
      "text/html": [
       "<div>\n",
       "<style scoped>\n",
       "    .dataframe tbody tr th:only-of-type {\n",
       "        vertical-align: middle;\n",
       "    }\n",
       "\n",
       "    .dataframe tbody tr th {\n",
       "        vertical-align: top;\n",
       "    }\n",
       "\n",
       "    .dataframe thead th {\n",
       "        text-align: right;\n",
       "    }\n",
       "</style>\n",
       "<table border=\"1\" class=\"dataframe\">\n",
       "  <thead>\n",
       "    <tr style=\"text-align: right;\">\n",
       "      <th></th>\n",
       "      <th>title</th>\n",
       "    </tr>\n",
       "  </thead>\n",
       "  <tbody>\n",
       "    <tr>\n",
       "      <th>0</th>\n",
       "      <td></td>\n",
       "    </tr>\n",
       "    <tr>\n",
       "      <th>1</th>\n",
       "      <td></td>\n",
       "    </tr>\n",
       "    <tr>\n",
       "      <th>2</th>\n",
       "      <td></td>\n",
       "    </tr>\n",
       "    <tr>\n",
       "      <th>3</th>\n",
       "      <td></td>\n",
       "    </tr>\n",
       "    <tr>\n",
       "      <th>4</th>\n",
       "      <td></td>\n",
       "    </tr>\n",
       "    <tr>\n",
       "      <th>5</th>\n",
       "      <td></td>\n",
       "    </tr>\n",
       "    <tr>\n",
       "      <th>6</th>\n",
       "      <td></td>\n",
       "    </tr>\n",
       "    <tr>\n",
       "      <th>7</th>\n",
       "      <td></td>\n",
       "    </tr>\n",
       "    <tr>\n",
       "      <th>8</th>\n",
       "      <td></td>\n",
       "    </tr>\n",
       "    <tr>\n",
       "      <th>9</th>\n",
       "      <td></td>\n",
       "    </tr>\n",
       "  </tbody>\n",
       "</table>\n",
       "</div>"
      ],
      "text/plain": [
       "  title\n",
       "0      \n",
       "1      \n",
       "2      \n",
       "3      \n",
       "4      \n",
       "5      \n",
       "6      \n",
       "7      \n",
       "8      \n",
       "9      "
      ]
     },
     "execution_count": 158,
     "metadata": {},
     "output_type": "execute_result"
    }
   ],
   "source": [
    "jobs"
   ]
  },
  {
   "cell_type": "markdown",
   "metadata": {},
   "source": [
    "Unable to complete as its asking to continue with google or facebook, and once im done tyoing manually, its not permitting to continue"
   ]
  },
  {
   "cell_type": "markdown",
   "metadata": {},
   "source": [
    "### Q6 :Scrape data of first 100 sunglasses listings on flipkart.com. You have to scrape four attributes:"
   ]
  },
  {
   "cell_type": "code",
   "execution_count": 4,
   "metadata": {},
   "outputs": [],
   "source": [
    "#lets first connect to web driver\n",
    "driver=webdriver.Chrome(\"chromedriver.exe\")"
   ]
  },
  {
   "cell_type": "code",
   "execution_count": 5,
   "metadata": {},
   "outputs": [],
   "source": [
    "url='https://www.flipkart.com/'\n",
    "driver.get(url)"
   ]
  },
  {
   "cell_type": "code",
   "execution_count": 6,
   "metadata": {},
   "outputs": [
    {
     "data": {
      "text/plain": [
       "<selenium.webdriver.remote.webelement.WebElement (session=\"936d020649f752d9313686a8bde0c9c1\", element=\"903ae181-13fe-49e8-b955-90778e821475\")>"
      ]
     },
     "execution_count": 6,
     "metadata": {},
     "output_type": "execute_result"
    }
   ],
   "source": [
    "sun_glasses=driver.find_element_by_xpath('//input[@type=\"text\"]')\n",
    "sun_glasses"
   ]
  },
  {
   "cell_type": "code",
   "execution_count": 7,
   "metadata": {},
   "outputs": [],
   "source": [
    "sun_glasses.send_keys(\"sun glasses\")"
   ]
  },
  {
   "cell_type": "code",
   "execution_count": 8,
   "metadata": {},
   "outputs": [],
   "source": [
    "search_btn=driver.find_element_by_xpath(\"//button[@class='L0Z3Pu']\")\n",
    "search_btn.click()"
   ]
  },
  {
   "cell_type": "code",
   "execution_count": 9,
   "metadata": {},
   "outputs": [
    {
     "data": {
      "text/plain": [
       "[<selenium.webdriver.remote.webelement.WebElement (session=\"936d020649f752d9313686a8bde0c9c1\", element=\"30a9dbd5-8c02-4a4b-8289-5e26428fbe00\")>,\n",
       " <selenium.webdriver.remote.webelement.WebElement (session=\"936d020649f752d9313686a8bde0c9c1\", element=\"a69c4e20-5146-4a4a-977a-b3214f48f335\")>,\n",
       " <selenium.webdriver.remote.webelement.WebElement (session=\"936d020649f752d9313686a8bde0c9c1\", element=\"2a77efcc-de3e-4e94-9b1e-ecc6b477550b\")>,\n",
       " <selenium.webdriver.remote.webelement.WebElement (session=\"936d020649f752d9313686a8bde0c9c1\", element=\"372050fd-722c-4d4e-930f-d5a5144a7156\")>,\n",
       " <selenium.webdriver.remote.webelement.WebElement (session=\"936d020649f752d9313686a8bde0c9c1\", element=\"a05c7949-ca26-41b7-9bee-788c3725dec2\")>,\n",
       " <selenium.webdriver.remote.webelement.WebElement (session=\"936d020649f752d9313686a8bde0c9c1\", element=\"d2b67392-ebea-495a-ab6e-9d1e5c2dc39f\")>,\n",
       " <selenium.webdriver.remote.webelement.WebElement (session=\"936d020649f752d9313686a8bde0c9c1\", element=\"49931909-891a-4552-b083-219bd2d63ac4\")>,\n",
       " <selenium.webdriver.remote.webelement.WebElement (session=\"936d020649f752d9313686a8bde0c9c1\", element=\"a65507ee-c418-40ef-a35f-1e36505d022b\")>,\n",
       " <selenium.webdriver.remote.webelement.WebElement (session=\"936d020649f752d9313686a8bde0c9c1\", element=\"f95be28c-86c3-4374-8e19-8232d9696124\")>,\n",
       " <selenium.webdriver.remote.webelement.WebElement (session=\"936d020649f752d9313686a8bde0c9c1\", element=\"34f9a496-8c95-4498-8696-5eca97dd8038\")>,\n",
       " <selenium.webdriver.remote.webelement.WebElement (session=\"936d020649f752d9313686a8bde0c9c1\", element=\"0c8d26dd-c95e-43e9-a42e-238ca14c6c63\")>,\n",
       " <selenium.webdriver.remote.webelement.WebElement (session=\"936d020649f752d9313686a8bde0c9c1\", element=\"f9151b42-c879-480c-af7a-5d9ea8d13840\")>,\n",
       " <selenium.webdriver.remote.webelement.WebElement (session=\"936d020649f752d9313686a8bde0c9c1\", element=\"9190dcd8-3ac1-4696-a1a9-eac4be3202b3\")>,\n",
       " <selenium.webdriver.remote.webelement.WebElement (session=\"936d020649f752d9313686a8bde0c9c1\", element=\"225a05c6-a570-4911-9730-e3da0419e172\")>,\n",
       " <selenium.webdriver.remote.webelement.WebElement (session=\"936d020649f752d9313686a8bde0c9c1\", element=\"0e68e7f8-c0bb-45f9-be49-3f4e2f10bb88\")>,\n",
       " <selenium.webdriver.remote.webelement.WebElement (session=\"936d020649f752d9313686a8bde0c9c1\", element=\"7cc79686-55a8-4a2e-9ada-f78377456b9d\")>,\n",
       " <selenium.webdriver.remote.webelement.WebElement (session=\"936d020649f752d9313686a8bde0c9c1\", element=\"5dae57e2-391e-4840-a269-decdcc504d57\")>,\n",
       " <selenium.webdriver.remote.webelement.WebElement (session=\"936d020649f752d9313686a8bde0c9c1\", element=\"71793a19-de2c-4052-ae9b-aba51a7f6b1d\")>,\n",
       " <selenium.webdriver.remote.webelement.WebElement (session=\"936d020649f752d9313686a8bde0c9c1\", element=\"3efef922-9893-479f-8fb6-650dc615ece1\")>,\n",
       " <selenium.webdriver.remote.webelement.WebElement (session=\"936d020649f752d9313686a8bde0c9c1\", element=\"f35c9e1e-8a39-4118-a238-364149c061b2\")>,\n",
       " <selenium.webdriver.remote.webelement.WebElement (session=\"936d020649f752d9313686a8bde0c9c1\", element=\"9080711b-55ec-4e01-9be5-3c901dd8cbe9\")>,\n",
       " <selenium.webdriver.remote.webelement.WebElement (session=\"936d020649f752d9313686a8bde0c9c1\", element=\"bb1867b2-87fc-417f-842a-0784c4c42c77\")>,\n",
       " <selenium.webdriver.remote.webelement.WebElement (session=\"936d020649f752d9313686a8bde0c9c1\", element=\"1272d88e-36ba-499e-88ba-b520b52e437e\")>,\n",
       " <selenium.webdriver.remote.webelement.WebElement (session=\"936d020649f752d9313686a8bde0c9c1\", element=\"aef0c091-894f-4d71-99f0-6db3bdae2d11\")>,\n",
       " <selenium.webdriver.remote.webelement.WebElement (session=\"936d020649f752d9313686a8bde0c9c1\", element=\"28794a0d-a38e-4c82-98f6-3bba3ffa6984\")>,\n",
       " <selenium.webdriver.remote.webelement.WebElement (session=\"936d020649f752d9313686a8bde0c9c1\", element=\"835c03bf-fdf5-4dbb-9e5c-599dc98cb12c\")>,\n",
       " <selenium.webdriver.remote.webelement.WebElement (session=\"936d020649f752d9313686a8bde0c9c1\", element=\"2ee6915c-23e7-454a-a060-85847c636992\")>,\n",
       " <selenium.webdriver.remote.webelement.WebElement (session=\"936d020649f752d9313686a8bde0c9c1\", element=\"262c72b6-9d1a-45c3-991a-1d43a8b1e829\")>,\n",
       " <selenium.webdriver.remote.webelement.WebElement (session=\"936d020649f752d9313686a8bde0c9c1\", element=\"9c57a50c-ce83-423d-ab47-9666208d05fe\")>,\n",
       " <selenium.webdriver.remote.webelement.WebElement (session=\"936d020649f752d9313686a8bde0c9c1\", element=\"1c366cdc-cdb3-4b85-a92b-73ff28654589\")>,\n",
       " <selenium.webdriver.remote.webelement.WebElement (session=\"936d020649f752d9313686a8bde0c9c1\", element=\"521f8449-c8e2-404f-b9ec-d58493555ab8\")>,\n",
       " <selenium.webdriver.remote.webelement.WebElement (session=\"936d020649f752d9313686a8bde0c9c1\", element=\"9f01cdfe-1610-40b1-8727-eb36c1980ce8\")>,\n",
       " <selenium.webdriver.remote.webelement.WebElement (session=\"936d020649f752d9313686a8bde0c9c1\", element=\"6561c802-fd32-4753-9446-582c8b5c9fa0\")>,\n",
       " <selenium.webdriver.remote.webelement.WebElement (session=\"936d020649f752d9313686a8bde0c9c1\", element=\"44ea6cd1-c7c2-44d8-aa80-4af60ddea12f\")>,\n",
       " <selenium.webdriver.remote.webelement.WebElement (session=\"936d020649f752d9313686a8bde0c9c1\", element=\"d0da37f8-5982-4121-927d-05b62e5223cd\")>,\n",
       " <selenium.webdriver.remote.webelement.WebElement (session=\"936d020649f752d9313686a8bde0c9c1\", element=\"baf62c92-6f0c-4b21-8bf5-a1618c309093\")>,\n",
       " <selenium.webdriver.remote.webelement.WebElement (session=\"936d020649f752d9313686a8bde0c9c1\", element=\"87b5fc18-04ce-4752-a45f-69a7751563e7\")>,\n",
       " <selenium.webdriver.remote.webelement.WebElement (session=\"936d020649f752d9313686a8bde0c9c1\", element=\"d5e77414-d383-4ff4-8960-e32eaec2e462\")>,\n",
       " <selenium.webdriver.remote.webelement.WebElement (session=\"936d020649f752d9313686a8bde0c9c1\", element=\"0c0ff4db-e7e9-46f9-9d3d-35a040ccb6f2\")>,\n",
       " <selenium.webdriver.remote.webelement.WebElement (session=\"936d020649f752d9313686a8bde0c9c1\", element=\"60c97170-27de-4475-9d1b-dc7c96618290\")>]"
      ]
     },
     "execution_count": 9,
     "metadata": {},
     "output_type": "execute_result"
    }
   ],
   "source": [
    "brand_tags=driver.find_elements_by_xpath(\"//div[@class='_2WkVRV']\")\n",
    "brand_tags"
   ]
  },
  {
   "cell_type": "code",
   "execution_count": 11,
   "metadata": {},
   "outputs": [
    {
     "data": {
      "text/plain": [
       "['Fastrack',\n",
       " 'PIRASO',\n",
       " 'kingsunglasses',\n",
       " 'Silver Kartz',\n",
       " 'PHENOMENAL',\n",
       " 'ROZZETTA CRAFT',\n",
       " 'HIPPON',\n",
       " 'DEIXELS',\n",
       " 'IRUS by IDEE',\n",
       " 'Flizz',\n",
       " 'GANSTA',\n",
       " 'hipe',\n",
       " 'Singco India',\n",
       " 'NuVew',\n",
       " 'Poland',\n",
       " 'Fravy',\n",
       " 'Singco',\n",
       " 'ROYAL SON',\n",
       " 'Wrogn',\n",
       " 'Villain',\n",
       " 'FOSSIL',\n",
       " 'Elligator',\n",
       " 'elegante',\n",
       " 'United Colors of Benetton',\n",
       " 'AISLIN',\n",
       " 'Badfella',\n",
       " 'Fastrack',\n",
       " 'PIRASO',\n",
       " 'kingsunglasses',\n",
       " 'PHENOMENAL',\n",
       " 'ROZZETTA CRAFT',\n",
       " 'hipe',\n",
       " 'ROYAL SON',\n",
       " 'Singco',\n",
       " 'Singco India',\n",
       " 'Silver Kartz',\n",
       " 'GANSTA',\n",
       " 'Wrogn',\n",
       " 'Flizz',\n",
       " 'NuVew']"
      ]
     },
     "execution_count": 11,
     "metadata": {},
     "output_type": "execute_result"
    }
   ],
   "source": [
    "brand_list=[]\n",
    "for i in brand_tags:\n",
    "    brand_list.append(i.text)\n",
    "brand_list[:100]"
   ]
  },
  {
   "cell_type": "code",
   "execution_count": 12,
   "metadata": {},
   "outputs": [
    {
     "data": {
      "text/plain": [
       "[<selenium.webdriver.remote.webelement.WebElement (session=\"936d020649f752d9313686a8bde0c9c1\", element=\"5c67e1af-a872-4278-b944-a9a760f6c8fe\")>,\n",
       " <selenium.webdriver.remote.webelement.WebElement (session=\"936d020649f752d9313686a8bde0c9c1\", element=\"86bc0a01-ba8b-461b-ba5a-fd7bd3d750bc\")>,\n",
       " <selenium.webdriver.remote.webelement.WebElement (session=\"936d020649f752d9313686a8bde0c9c1\", element=\"2308f9e8-aeb3-4214-8b48-2006c3d1ee57\")>,\n",
       " <selenium.webdriver.remote.webelement.WebElement (session=\"936d020649f752d9313686a8bde0c9c1\", element=\"0bfe8b50-9bc3-4d57-a9b8-3886709b91d3\")>,\n",
       " <selenium.webdriver.remote.webelement.WebElement (session=\"936d020649f752d9313686a8bde0c9c1\", element=\"48d377dd-5e32-4cc2-8fa8-6e172b6ba7c0\")>,\n",
       " <selenium.webdriver.remote.webelement.WebElement (session=\"936d020649f752d9313686a8bde0c9c1\", element=\"730dc9d1-1476-49fa-beac-d33c52253904\")>,\n",
       " <selenium.webdriver.remote.webelement.WebElement (session=\"936d020649f752d9313686a8bde0c9c1\", element=\"c462beb5-6808-4589-ab66-703ff6d734b6\")>,\n",
       " <selenium.webdriver.remote.webelement.WebElement (session=\"936d020649f752d9313686a8bde0c9c1\", element=\"af8dbb49-b45d-4753-ade1-54e534b233b3\")>,\n",
       " <selenium.webdriver.remote.webelement.WebElement (session=\"936d020649f752d9313686a8bde0c9c1\", element=\"109a3e01-eebc-4971-b193-4af3d2b7d8f5\")>,\n",
       " <selenium.webdriver.remote.webelement.WebElement (session=\"936d020649f752d9313686a8bde0c9c1\", element=\"1f71a71f-76c7-4689-abfc-79e9a7fba57c\")>,\n",
       " <selenium.webdriver.remote.webelement.WebElement (session=\"936d020649f752d9313686a8bde0c9c1\", element=\"518e9e77-6dbc-4029-97a1-8d260c749c9d\")>,\n",
       " <selenium.webdriver.remote.webelement.WebElement (session=\"936d020649f752d9313686a8bde0c9c1\", element=\"eb87f57b-97c4-4499-ab2b-7ff56d721374\")>,\n",
       " <selenium.webdriver.remote.webelement.WebElement (session=\"936d020649f752d9313686a8bde0c9c1\", element=\"70b9787f-3b96-4426-8a95-e0aa05436c8c\")>,\n",
       " <selenium.webdriver.remote.webelement.WebElement (session=\"936d020649f752d9313686a8bde0c9c1\", element=\"e7fd47c1-6279-4c2a-a6da-b741ad4d8572\")>,\n",
       " <selenium.webdriver.remote.webelement.WebElement (session=\"936d020649f752d9313686a8bde0c9c1\", element=\"5aa0d94b-5fcc-4b62-a5e4-5e50c0b0d1dc\")>,\n",
       " <selenium.webdriver.remote.webelement.WebElement (session=\"936d020649f752d9313686a8bde0c9c1\", element=\"b8ee96be-1070-4891-9ff0-b10ee326ce41\")>,\n",
       " <selenium.webdriver.remote.webelement.WebElement (session=\"936d020649f752d9313686a8bde0c9c1\", element=\"4cb83d33-cf84-4e44-a2ec-7055d623ae9d\")>,\n",
       " <selenium.webdriver.remote.webelement.WebElement (session=\"936d020649f752d9313686a8bde0c9c1\", element=\"cb9f22a2-6250-4e81-b8f2-bdb8d8072177\")>,\n",
       " <selenium.webdriver.remote.webelement.WebElement (session=\"936d020649f752d9313686a8bde0c9c1\", element=\"455fe742-ed56-4c97-a473-df48bb599b0f\")>,\n",
       " <selenium.webdriver.remote.webelement.WebElement (session=\"936d020649f752d9313686a8bde0c9c1\", element=\"ddf7b898-7e74-4860-8969-c3f0088c2997\")>,\n",
       " <selenium.webdriver.remote.webelement.WebElement (session=\"936d020649f752d9313686a8bde0c9c1\", element=\"34c4ad27-709c-4771-9cad-a73debe29e1a\")>,\n",
       " <selenium.webdriver.remote.webelement.WebElement (session=\"936d020649f752d9313686a8bde0c9c1\", element=\"70017861-2eed-4f25-a011-ffc5ee86b2ad\")>,\n",
       " <selenium.webdriver.remote.webelement.WebElement (session=\"936d020649f752d9313686a8bde0c9c1\", element=\"138a0d51-02ed-4447-bcab-2db41f8e1a2c\")>,\n",
       " <selenium.webdriver.remote.webelement.WebElement (session=\"936d020649f752d9313686a8bde0c9c1\", element=\"260b46f6-4238-4ec3-9f4d-1df7815a7917\")>,\n",
       " <selenium.webdriver.remote.webelement.WebElement (session=\"936d020649f752d9313686a8bde0c9c1\", element=\"ffd0a775-49f3-43c5-af3b-9aad5c936761\")>,\n",
       " <selenium.webdriver.remote.webelement.WebElement (session=\"936d020649f752d9313686a8bde0c9c1\", element=\"a8f4cbba-50a0-4804-8bfd-a01c50358c48\")>,\n",
       " <selenium.webdriver.remote.webelement.WebElement (session=\"936d020649f752d9313686a8bde0c9c1\", element=\"cb6399a3-82e0-4994-8aef-dc0c57b90e1f\")>,\n",
       " <selenium.webdriver.remote.webelement.WebElement (session=\"936d020649f752d9313686a8bde0c9c1\", element=\"14d602a5-0496-4623-a74d-28fb7052886a\")>,\n",
       " <selenium.webdriver.remote.webelement.WebElement (session=\"936d020649f752d9313686a8bde0c9c1\", element=\"c20397da-c42a-42fe-8a8e-4f9becec97db\")>,\n",
       " <selenium.webdriver.remote.webelement.WebElement (session=\"936d020649f752d9313686a8bde0c9c1\", element=\"c419c2b6-ce1b-4d84-b938-6fdcf9e936a1\")>,\n",
       " <selenium.webdriver.remote.webelement.WebElement (session=\"936d020649f752d9313686a8bde0c9c1\", element=\"2722b8ed-b88f-435c-8849-d8a904adbd14\")>,\n",
       " <selenium.webdriver.remote.webelement.WebElement (session=\"936d020649f752d9313686a8bde0c9c1\", element=\"61b0f92e-6902-434a-ad29-1ab1b10f8300\")>,\n",
       " <selenium.webdriver.remote.webelement.WebElement (session=\"936d020649f752d9313686a8bde0c9c1\", element=\"c88a2a7e-9849-4667-b220-0b4fdef82358\")>,\n",
       " <selenium.webdriver.remote.webelement.WebElement (session=\"936d020649f752d9313686a8bde0c9c1\", element=\"1d88a9d9-ddcf-45bd-991e-0274d51f27b4\")>,\n",
       " <selenium.webdriver.remote.webelement.WebElement (session=\"936d020649f752d9313686a8bde0c9c1\", element=\"0c46c635-6afb-4bca-9121-625e36466de2\")>,\n",
       " <selenium.webdriver.remote.webelement.WebElement (session=\"936d020649f752d9313686a8bde0c9c1\", element=\"d2297a8e-6bf9-404a-8f1a-2e59014f5cc2\")>,\n",
       " <selenium.webdriver.remote.webelement.WebElement (session=\"936d020649f752d9313686a8bde0c9c1\", element=\"1df33697-6d3f-45f9-8cf6-8c2eb7b5586f\")>,\n",
       " <selenium.webdriver.remote.webelement.WebElement (session=\"936d020649f752d9313686a8bde0c9c1\", element=\"ca25e702-9ce0-4c8a-95fa-1f5e9a4936c3\")>,\n",
       " <selenium.webdriver.remote.webelement.WebElement (session=\"936d020649f752d9313686a8bde0c9c1\", element=\"f09575b9-e5e6-4884-bc17-ef927b7e4a9c\")>,\n",
       " <selenium.webdriver.remote.webelement.WebElement (session=\"936d020649f752d9313686a8bde0c9c1\", element=\"f4374eca-729d-4a0e-ab1d-93f2cfbf06f2\")>]"
      ]
     },
     "execution_count": 12,
     "metadata": {},
     "output_type": "execute_result"
    }
   ],
   "source": [
    "prize_tags=driver.find_elements_by_xpath(\"//div[@class='_30jeq3']\")\n",
    "prize_tags"
   ]
  },
  {
   "cell_type": "code",
   "execution_count": 13,
   "metadata": {},
   "outputs": [
    {
     "data": {
      "text/plain": [
       "['₹758',\n",
       " '₹237',\n",
       " '₹299',\n",
       " '₹259',\n",
       " '₹297',\n",
       " '₹499',\n",
       " '₹251',\n",
       " '₹213',\n",
       " '₹606',\n",
       " '₹399',\n",
       " '₹281',\n",
       " '₹299',\n",
       " '₹236',\n",
       " '₹215',\n",
       " '₹162',\n",
       " '₹299',\n",
       " '₹331',\n",
       " '₹375',\n",
       " '₹711',\n",
       " '₹539',\n",
       " '₹1,664',\n",
       " '₹443',\n",
       " '₹199',\n",
       " '₹1,222',\n",
       " '₹1,051',\n",
       " '₹269',\n",
       " '₹513',\n",
       " '₹331',\n",
       " '₹349',\n",
       " '₹399',\n",
       " '₹499',\n",
       " '₹299',\n",
       " '₹262',\n",
       " '₹252',\n",
       " '₹352',\n",
       " '₹299',\n",
       " '₹323',\n",
       " '₹909',\n",
       " '₹279',\n",
       " '₹235']"
      ]
     },
     "execution_count": 13,
     "metadata": {},
     "output_type": "execute_result"
    }
   ],
   "source": [
    "prize_list=[]\n",
    "for i in prize_tags:\n",
    "    prize_list.append(i.text)\n",
    "prize_list[:100]"
   ]
  },
  {
   "cell_type": "code",
   "execution_count": 14,
   "metadata": {},
   "outputs": [
    {
     "data": {
      "text/plain": [
       "[<selenium.webdriver.remote.webelement.WebElement (session=\"936d020649f752d9313686a8bde0c9c1\", element=\"795cee50-2109-4889-840a-09d2a859ea5d\")>,\n",
       " <selenium.webdriver.remote.webelement.WebElement (session=\"936d020649f752d9313686a8bde0c9c1\", element=\"59f0d2e0-0740-44dd-88c0-29f97377a8d6\")>,\n",
       " <selenium.webdriver.remote.webelement.WebElement (session=\"936d020649f752d9313686a8bde0c9c1\", element=\"bd193f9f-2b94-4f50-88a7-0eaf127181b9\")>,\n",
       " <selenium.webdriver.remote.webelement.WebElement (session=\"936d020649f752d9313686a8bde0c9c1\", element=\"a9c97e79-6875-4090-855f-cd9ad2ae183a\")>,\n",
       " <selenium.webdriver.remote.webelement.WebElement (session=\"936d020649f752d9313686a8bde0c9c1\", element=\"810a60d3-f2fd-4384-b20b-0ae65affa3c1\")>,\n",
       " <selenium.webdriver.remote.webelement.WebElement (session=\"936d020649f752d9313686a8bde0c9c1\", element=\"36af6936-cdab-4ad6-98bd-11f1c6783f99\")>,\n",
       " <selenium.webdriver.remote.webelement.WebElement (session=\"936d020649f752d9313686a8bde0c9c1\", element=\"a60c5d4f-e61f-480c-8e31-e169d52a7d3a\")>,\n",
       " <selenium.webdriver.remote.webelement.WebElement (session=\"936d020649f752d9313686a8bde0c9c1\", element=\"4977f3d3-37a5-47e5-add0-125f633b831b\")>,\n",
       " <selenium.webdriver.remote.webelement.WebElement (session=\"936d020649f752d9313686a8bde0c9c1\", element=\"b28a3c1b-da94-403c-929a-b4465c34f69e\")>,\n",
       " <selenium.webdriver.remote.webelement.WebElement (session=\"936d020649f752d9313686a8bde0c9c1\", element=\"76f02a56-8f8a-4d04-b9ae-f3dfdec0f8d4\")>,\n",
       " <selenium.webdriver.remote.webelement.WebElement (session=\"936d020649f752d9313686a8bde0c9c1\", element=\"a1de1fb8-aef6-47cd-a427-5a574db1203a\")>,\n",
       " <selenium.webdriver.remote.webelement.WebElement (session=\"936d020649f752d9313686a8bde0c9c1\", element=\"02a59121-cc1a-444e-986f-5f46e59fb3cc\")>,\n",
       " <selenium.webdriver.remote.webelement.WebElement (session=\"936d020649f752d9313686a8bde0c9c1\", element=\"163a401b-898e-499c-bec6-b3b7cc180296\")>,\n",
       " <selenium.webdriver.remote.webelement.WebElement (session=\"936d020649f752d9313686a8bde0c9c1\", element=\"194056d0-03e6-499e-94ae-7bdd9580afe4\")>,\n",
       " <selenium.webdriver.remote.webelement.WebElement (session=\"936d020649f752d9313686a8bde0c9c1\", element=\"7b6bcd7e-39ed-440f-9b81-6737ea85302a\")>,\n",
       " <selenium.webdriver.remote.webelement.WebElement (session=\"936d020649f752d9313686a8bde0c9c1\", element=\"30973785-7e3e-4fea-b3b3-792528ab55ae\")>,\n",
       " <selenium.webdriver.remote.webelement.WebElement (session=\"936d020649f752d9313686a8bde0c9c1\", element=\"69efd39b-3609-4288-b185-066d320d4c77\")>,\n",
       " <selenium.webdriver.remote.webelement.WebElement (session=\"936d020649f752d9313686a8bde0c9c1\", element=\"aefadb43-54f4-412a-8427-7f0324394e7e\")>,\n",
       " <selenium.webdriver.remote.webelement.WebElement (session=\"936d020649f752d9313686a8bde0c9c1\", element=\"74111c22-6b20-4d95-9dfe-034a17013b09\")>,\n",
       " <selenium.webdriver.remote.webelement.WebElement (session=\"936d020649f752d9313686a8bde0c9c1\", element=\"0a4c7047-6c69-4536-9d32-e214dd2ac531\")>,\n",
       " <selenium.webdriver.remote.webelement.WebElement (session=\"936d020649f752d9313686a8bde0c9c1\", element=\"42e15e02-40ee-46c3-be84-a4e74b8b11c7\")>,\n",
       " <selenium.webdriver.remote.webelement.WebElement (session=\"936d020649f752d9313686a8bde0c9c1\", element=\"229eb754-2ca7-4cb2-a66e-7d94689a289d\")>,\n",
       " <selenium.webdriver.remote.webelement.WebElement (session=\"936d020649f752d9313686a8bde0c9c1\", element=\"5ee6e2bd-78e4-489e-aba4-f3b802fb960b\")>,\n",
       " <selenium.webdriver.remote.webelement.WebElement (session=\"936d020649f752d9313686a8bde0c9c1\", element=\"6c34e5a5-33f9-4979-95c2-d11e6754c37e\")>,\n",
       " <selenium.webdriver.remote.webelement.WebElement (session=\"936d020649f752d9313686a8bde0c9c1\", element=\"35e60016-e049-4fc0-9aa1-100833149eb0\")>,\n",
       " <selenium.webdriver.remote.webelement.WebElement (session=\"936d020649f752d9313686a8bde0c9c1\", element=\"ffda6ec6-f4ff-475a-96d7-c43348714195\")>,\n",
       " <selenium.webdriver.remote.webelement.WebElement (session=\"936d020649f752d9313686a8bde0c9c1\", element=\"142706c8-149e-4590-a18f-53ef41008c40\")>,\n",
       " <selenium.webdriver.remote.webelement.WebElement (session=\"936d020649f752d9313686a8bde0c9c1\", element=\"e533a8a4-7dc1-4733-ad58-9e8e985c6b84\")>,\n",
       " <selenium.webdriver.remote.webelement.WebElement (session=\"936d020649f752d9313686a8bde0c9c1\", element=\"2b9ad113-c335-4311-9df9-7692d4df31e2\")>,\n",
       " <selenium.webdriver.remote.webelement.WebElement (session=\"936d020649f752d9313686a8bde0c9c1\", element=\"3ab8708b-a47b-4f86-a95d-02a2df68d070\")>,\n",
       " <selenium.webdriver.remote.webelement.WebElement (session=\"936d020649f752d9313686a8bde0c9c1\", element=\"9fb6a457-f94f-4e9d-8f86-220e8630c3b0\")>,\n",
       " <selenium.webdriver.remote.webelement.WebElement (session=\"936d020649f752d9313686a8bde0c9c1\", element=\"8ba43085-a6c9-400b-af3c-23b8ce75b388\")>,\n",
       " <selenium.webdriver.remote.webelement.WebElement (session=\"936d020649f752d9313686a8bde0c9c1\", element=\"2fabba09-7a94-4b49-8af7-fe575c863b3b\")>,\n",
       " <selenium.webdriver.remote.webelement.WebElement (session=\"936d020649f752d9313686a8bde0c9c1\", element=\"6e5089a5-92b8-4176-8c15-efc9be681621\")>,\n",
       " <selenium.webdriver.remote.webelement.WebElement (session=\"936d020649f752d9313686a8bde0c9c1\", element=\"9a2e3607-eca9-4653-b460-db26cb155675\")>,\n",
       " <selenium.webdriver.remote.webelement.WebElement (session=\"936d020649f752d9313686a8bde0c9c1\", element=\"6cc65491-5684-4e8f-adde-1bd66d716455\")>,\n",
       " <selenium.webdriver.remote.webelement.WebElement (session=\"936d020649f752d9313686a8bde0c9c1\", element=\"74986f3b-44be-447b-b07a-c962db8bd64f\")>,\n",
       " <selenium.webdriver.remote.webelement.WebElement (session=\"936d020649f752d9313686a8bde0c9c1\", element=\"6ec8ad3c-0c9b-4fbb-b4a8-7b52956ae020\")>,\n",
       " <selenium.webdriver.remote.webelement.WebElement (session=\"936d020649f752d9313686a8bde0c9c1\", element=\"ccc85cd0-77c0-4f15-9b3d-3e15fa943d01\")>,\n",
       " <selenium.webdriver.remote.webelement.WebElement (session=\"936d020649f752d9313686a8bde0c9c1\", element=\"bf30445c-8820-4cfb-b09a-59a80e1da0a1\")>]"
      ]
     },
     "execution_count": 14,
     "metadata": {},
     "output_type": "execute_result"
    }
   ],
   "source": [
    "product_discription_tags=driver.find_elements_by_xpath(\"//a[@class='IRpwTa']\")\n",
    "product_discription_tags"
   ]
  },
  {
   "cell_type": "code",
   "execution_count": 15,
   "metadata": {},
   "outputs": [
    {
     "data": {
      "text/plain": [
       "['UV Protection Wayfarer Sunglasses (Free Size)',\n",
       " 'UV Protection Aviator Sunglasses (54)',\n",
       " 'Mirrored, UV Protection Wayfarer Sunglasses (Free Size)',\n",
       " 'UV Protection Wayfarer Sunglasses (Free Size)',\n",
       " 'UV Protection Round Sunglasses (53)',\n",
       " 'UV Protection Retro Square Sunglasses (Free Size)',\n",
       " 'UV Protection Wayfarer Sunglasses (55)',\n",
       " 'UV Protection Aviator, Wayfarer Sunglasses (Free Size)',\n",
       " 'Gradient Rectangular Sunglasses (56)',\n",
       " 'UV Protection Retro Square Sunglasses (Free Size)',\n",
       " 'UV Protection Aviator Sunglasses (57)',\n",
       " 'UV Protection, Gradient, Mirrored, Riding Glasses Recta...',\n",
       " 'Mirrored, Riding Glasses, Others Sports Sunglasses (50)',\n",
       " 'UV Protection Aviator Sunglasses (58)',\n",
       " 'UV Protection Wayfarer Sunglasses (Free Size)',\n",
       " 'UV Protection Retro Square Sunglasses (Free Size)',\n",
       " 'UV Protection, Others Aviator Sunglasses (32)',\n",
       " 'Mirrored Aviator Sunglasses (55)',\n",
       " 'Mirrored Retro Square Sunglasses (57)',\n",
       " 'Others Retro Square Sunglasses (Free Size)',\n",
       " 'Others Rectangular Sunglasses (52)',\n",
       " 'UV Protection, Riding Glasses Rectangular, Retro Square...',\n",
       " 'UV Protection Round Sunglasses (Free Size)',\n",
       " 'Mirrored, UV Protection Rectangular Sunglasses (56)',\n",
       " 'Toughened Glass Lens, UV Protection Wayfarer, Rectangul...',\n",
       " 'Polarized, UV Protection Retro Square Sunglasses (53)',\n",
       " 'UV Protection Rectangular Sunglasses (Free Size)',\n",
       " 'UV Protection Aviator Sunglasses (Free Size)',\n",
       " 'UV Protection Round Sunglasses (Free Size)',\n",
       " 'UV Protection Retro Square Sunglasses (Free Size)',\n",
       " 'UV Protection, Gradient Rectangular Sunglasses (Free Si...',\n",
       " 'UV Protection Sports Sunglasses (Free Size)',\n",
       " 'UV Protection Wayfarer Sunglasses (55)',\n",
       " 'Mirrored Aviator Sunglasses (53)',\n",
       " 'UV Protection Aviator Sunglasses (Free Size)',\n",
       " 'UV Protection Oval Sunglasses (56)',\n",
       " 'UV Protection Aviator Sunglasses (57)',\n",
       " 'Polarized Aviator Sunglasses (60)',\n",
       " 'UV Protection, Polarized Rectangular Sunglasses (Free S...',\n",
       " 'UV Protection, Riding Glasses Wayfarer Sunglasses (56)']"
      ]
     },
     "execution_count": 15,
     "metadata": {},
     "output_type": "execute_result"
    }
   ],
   "source": [
    "product_discription_list=[]\n",
    "for i in product_discription_tags:\n",
    "    product_discription_list.append(i.text)\n",
    "product_discription_list[:100]"
   ]
  },
  {
   "cell_type": "code",
   "execution_count": 16,
   "metadata": {},
   "outputs": [
    {
     "data": {
      "text/plain": [
       "[<selenium.webdriver.remote.webelement.WebElement (session=\"936d020649f752d9313686a8bde0c9c1\", element=\"2e8c6e6f-9713-40b3-bce1-1ceae8b30e17\")>,\n",
       " <selenium.webdriver.remote.webelement.WebElement (session=\"936d020649f752d9313686a8bde0c9c1\", element=\"5a947e7c-bbd3-43eb-a154-2cd8950661a7\")>,\n",
       " <selenium.webdriver.remote.webelement.WebElement (session=\"936d020649f752d9313686a8bde0c9c1\", element=\"94d2c18c-7c12-43b4-aa87-40b900e0dea8\")>,\n",
       " <selenium.webdriver.remote.webelement.WebElement (session=\"936d020649f752d9313686a8bde0c9c1\", element=\"26cbb691-bddd-4328-a48d-07aea717f82e\")>,\n",
       " <selenium.webdriver.remote.webelement.WebElement (session=\"936d020649f752d9313686a8bde0c9c1\", element=\"e20079bc-3f89-4824-8a0b-395749bd5ae0\")>,\n",
       " <selenium.webdriver.remote.webelement.WebElement (session=\"936d020649f752d9313686a8bde0c9c1\", element=\"06429d60-955f-4256-bf05-e394d52fb4e4\")>,\n",
       " <selenium.webdriver.remote.webelement.WebElement (session=\"936d020649f752d9313686a8bde0c9c1\", element=\"3251514b-83d3-4736-8dd6-d321b5c298bb\")>,\n",
       " <selenium.webdriver.remote.webelement.WebElement (session=\"936d020649f752d9313686a8bde0c9c1\", element=\"001d7002-0ae6-460e-bfc6-dca540afa97b\")>,\n",
       " <selenium.webdriver.remote.webelement.WebElement (session=\"936d020649f752d9313686a8bde0c9c1\", element=\"7c054faf-f4f2-491b-93f9-bb43962cb860\")>,\n",
       " <selenium.webdriver.remote.webelement.WebElement (session=\"936d020649f752d9313686a8bde0c9c1\", element=\"bcb09fd2-a06a-4cb0-97b3-8d2aa100341c\")>,\n",
       " <selenium.webdriver.remote.webelement.WebElement (session=\"936d020649f752d9313686a8bde0c9c1\", element=\"6fc917fe-cbab-497c-a1d2-194e8df13175\")>,\n",
       " <selenium.webdriver.remote.webelement.WebElement (session=\"936d020649f752d9313686a8bde0c9c1\", element=\"cb912733-c088-4d6b-a157-f18cb6c30391\")>,\n",
       " <selenium.webdriver.remote.webelement.WebElement (session=\"936d020649f752d9313686a8bde0c9c1\", element=\"ebe04d21-e6a4-4ee6-ada1-5b8820b1d865\")>,\n",
       " <selenium.webdriver.remote.webelement.WebElement (session=\"936d020649f752d9313686a8bde0c9c1\", element=\"f26367e1-e894-49c7-b70b-e9deefb4ebdb\")>,\n",
       " <selenium.webdriver.remote.webelement.WebElement (session=\"936d020649f752d9313686a8bde0c9c1\", element=\"786fb2a7-bfe5-4d7b-912e-e8d1b3b18718\")>,\n",
       " <selenium.webdriver.remote.webelement.WebElement (session=\"936d020649f752d9313686a8bde0c9c1\", element=\"303e4808-bb3e-4434-ac81-6a7527ed31ab\")>,\n",
       " <selenium.webdriver.remote.webelement.WebElement (session=\"936d020649f752d9313686a8bde0c9c1\", element=\"7f7c43ad-a162-447e-ab9c-395a55af7791\")>,\n",
       " <selenium.webdriver.remote.webelement.WebElement (session=\"936d020649f752d9313686a8bde0c9c1\", element=\"8690020d-1666-424e-8f77-79611a63d416\")>,\n",
       " <selenium.webdriver.remote.webelement.WebElement (session=\"936d020649f752d9313686a8bde0c9c1\", element=\"7958fbef-01c6-4b76-9593-53738ad65211\")>,\n",
       " <selenium.webdriver.remote.webelement.WebElement (session=\"936d020649f752d9313686a8bde0c9c1\", element=\"0448d6d1-4d2e-4eb9-b741-a10ae3d607e4\")>,\n",
       " <selenium.webdriver.remote.webelement.WebElement (session=\"936d020649f752d9313686a8bde0c9c1\", element=\"0226ed71-a0f6-4fe5-aea8-64a97217ba77\")>,\n",
       " <selenium.webdriver.remote.webelement.WebElement (session=\"936d020649f752d9313686a8bde0c9c1\", element=\"862c6806-39ff-4a99-baab-db8264c47e3e\")>,\n",
       " <selenium.webdriver.remote.webelement.WebElement (session=\"936d020649f752d9313686a8bde0c9c1\", element=\"e087c5b1-51f7-4575-8c4e-4140fe76cc93\")>,\n",
       " <selenium.webdriver.remote.webelement.WebElement (session=\"936d020649f752d9313686a8bde0c9c1\", element=\"9385b9be-21ae-48c8-869b-ce1947e79fa9\")>,\n",
       " <selenium.webdriver.remote.webelement.WebElement (session=\"936d020649f752d9313686a8bde0c9c1\", element=\"ea0f7da4-cb2e-40bf-906c-7b32d94735b5\")>,\n",
       " <selenium.webdriver.remote.webelement.WebElement (session=\"936d020649f752d9313686a8bde0c9c1\", element=\"4da520cc-0177-47ae-bfbf-d6b1767b101a\")>,\n",
       " <selenium.webdriver.remote.webelement.WebElement (session=\"936d020649f752d9313686a8bde0c9c1\", element=\"562007da-5577-43d9-a59b-1846c95aa095\")>,\n",
       " <selenium.webdriver.remote.webelement.WebElement (session=\"936d020649f752d9313686a8bde0c9c1\", element=\"e26075ed-37ca-49aa-9f0a-1cc36598c7a5\")>,\n",
       " <selenium.webdriver.remote.webelement.WebElement (session=\"936d020649f752d9313686a8bde0c9c1\", element=\"35e6ab62-75aa-4264-a701-d999feccf73d\")>,\n",
       " <selenium.webdriver.remote.webelement.WebElement (session=\"936d020649f752d9313686a8bde0c9c1\", element=\"9797fa58-29ba-4e36-a91c-b9836cd16189\")>,\n",
       " <selenium.webdriver.remote.webelement.WebElement (session=\"936d020649f752d9313686a8bde0c9c1\", element=\"b1c5553b-0e8a-42c9-b698-ebf673134720\")>,\n",
       " <selenium.webdriver.remote.webelement.WebElement (session=\"936d020649f752d9313686a8bde0c9c1\", element=\"956f0658-0862-4e5b-a105-7c538ae2fc4c\")>,\n",
       " <selenium.webdriver.remote.webelement.WebElement (session=\"936d020649f752d9313686a8bde0c9c1\", element=\"19c39d7e-7208-4df7-a7b2-01f92f7db6c4\")>,\n",
       " <selenium.webdriver.remote.webelement.WebElement (session=\"936d020649f752d9313686a8bde0c9c1\", element=\"5c5a6138-3767-4fb5-87c9-2106bfece530\")>,\n",
       " <selenium.webdriver.remote.webelement.WebElement (session=\"936d020649f752d9313686a8bde0c9c1\", element=\"9a7a6f82-623a-4590-a999-8d65860e73d2\")>,\n",
       " <selenium.webdriver.remote.webelement.WebElement (session=\"936d020649f752d9313686a8bde0c9c1\", element=\"1c140564-75cc-479a-89b5-91a5938d577d\")>,\n",
       " <selenium.webdriver.remote.webelement.WebElement (session=\"936d020649f752d9313686a8bde0c9c1\", element=\"ce4c77f7-64e2-46f3-bbad-293d2269d424\")>,\n",
       " <selenium.webdriver.remote.webelement.WebElement (session=\"936d020649f752d9313686a8bde0c9c1\", element=\"bfd1b84b-7f9c-4003-86ae-34f729665a4c\")>,\n",
       " <selenium.webdriver.remote.webelement.WebElement (session=\"936d020649f752d9313686a8bde0c9c1\", element=\"6f71967c-5ca2-489b-984a-a68a57d43888\")>,\n",
       " <selenium.webdriver.remote.webelement.WebElement (session=\"936d020649f752d9313686a8bde0c9c1\", element=\"52b09fde-b9de-46a2-8687-e250b8bbede1\")>]"
      ]
     },
     "execution_count": 16,
     "metadata": {},
     "output_type": "execute_result"
    }
   ],
   "source": [
    "percentage_tags=driver.find_elements_by_xpath(\"//div[@class='_3Ay6Sb']\")\n",
    "percentage_tags"
   ]
  },
  {
   "cell_type": "code",
   "execution_count": 17,
   "metadata": {},
   "outputs": [
    {
     "data": {
      "text/plain": [
       "['15% off',\n",
       " '85% off',\n",
       " '88% off',\n",
       " '82% off',\n",
       " '87% off',\n",
       " '77% off',\n",
       " '79% off',\n",
       " '82% off',\n",
       " '52% off',\n",
       " '81% off',\n",
       " '85% off',\n",
       " '76% off',\n",
       " '84% off',\n",
       " '72% off',\n",
       " '67% off',\n",
       " '80% off',\n",
       " '83% off',\n",
       " '74% off',\n",
       " '72% off',\n",
       " '28% off',\n",
       " '62% off',\n",
       " '70% off',\n",
       " '80% off',\n",
       " '70% off',\n",
       " '71% off',\n",
       " '73% off',\n",
       " '35% off',\n",
       " '79% off',\n",
       " '78% off',\n",
       " '80% off',\n",
       " '77% off',\n",
       " '84% off',\n",
       " '79% off',\n",
       " '74% off',\n",
       " '70% off',\n",
       " '75% off',\n",
       " '83% off',\n",
       " '72% off',\n",
       " '81% off',\n",
       " '75% off']"
      ]
     },
     "execution_count": 17,
     "metadata": {},
     "output_type": "execute_result"
    }
   ],
   "source": [
    "percentage_list=[]\n",
    "for i in percentage_tags:\n",
    "    percentage_list.append(i.text)\n",
    "percentage_list[:100]"
   ]
  },
  {
   "cell_type": "code",
   "execution_count": 18,
   "metadata": {},
   "outputs": [],
   "source": [
    "# now scraping data from multiple pages"
   ]
  },
  {
   "cell_type": "code",
   "execution_count": 19,
   "metadata": {},
   "outputs": [
    {
     "data": {
      "text/plain": [
       "['https://www.flipkart.com/search?q=sun+glasses&otracker=search&otracker1=search&marketplace=FLIPKART&as-show=on&as=off&page=1',\n",
       " 'https://www.flipkart.com/search?q=sun+glasses&otracker=search&otracker1=search&marketplace=FLIPKART&as-show=on&as=off&page=2',\n",
       " 'https://www.flipkart.com/search?q=sun+glasses&otracker=search&otracker1=search&marketplace=FLIPKART&as-show=on&as=off&page=3',\n",
       " 'https://www.flipkart.com/search?q=sun+glasses&otracker=search&otracker1=search&marketplace=FLIPKART&as-show=on&as=off&page=4',\n",
       " 'https://www.flipkart.com/search?q=sun+glasses&otracker=search&otracker1=search&marketplace=FLIPKART&as-show=on&as=off&page=5',\n",
       " 'https://www.flipkart.com/search?q=sun+glasses&otracker=search&otracker1=search&marketplace=FLIPKART&as-show=on&as=off&page=6',\n",
       " 'https://www.flipkart.com/search?q=sun+glasses&otracker=search&otracker1=search&marketplace=FLIPKART&as-show=on&as=off&page=7',\n",
       " 'https://www.flipkart.com/search?q=sun+glasses&otracker=search&otracker1=search&marketplace=FLIPKART&as-show=on&as=off&page=8',\n",
       " 'https://www.flipkart.com/search?q=sun+glasses&otracker=search&otracker1=search&marketplace=FLIPKART&as-show=on&as=off&page=9',\n",
       " 'https://www.flipkart.com/search?q=sun+glasses&otracker=search&otracker1=search&marketplace=FLIPKART&as-show=on&as=off&page=10',\n",
       " 'https://www.flipkart.com/search?q=sun+glasses&otracker=search&otracker1=search&marketplace=FLIPKART&as-show=on&as=off&page=2']"
      ]
     },
     "execution_count": 19,
     "metadata": {},
     "output_type": "execute_result"
    }
   ],
   "source": [
    "page_url=[]\n",
    "url=driver.find_elements_by_xpath(\"//div[@class='_2MImiq']//a\")\n",
    "for i in url:\n",
    "    page_url.append(i.get_attribute('href'))\n",
    "page_url"
   ]
  },
  {
   "cell_type": "code",
   "execution_count": 20,
   "metadata": {},
   "outputs": [
    {
     "data": {
      "text/plain": [
       "['Fastrack',\n",
       " 'PIRASO',\n",
       " 'kingsunglasses',\n",
       " 'Silver Kartz',\n",
       " 'PHENOMENAL',\n",
       " 'ROZZETTA CRAFT',\n",
       " 'HIPPON',\n",
       " 'DEIXELS',\n",
       " 'IRUS by IDEE',\n",
       " 'Flizz',\n",
       " 'GANSTA',\n",
       " 'hipe',\n",
       " 'Singco India',\n",
       " 'NuVew',\n",
       " 'Poland',\n",
       " 'Fravy',\n",
       " 'Singco',\n",
       " 'ROYAL SON',\n",
       " 'Wrogn',\n",
       " 'Villain',\n",
       " 'FOSSIL',\n",
       " 'Elligator',\n",
       " 'elegante',\n",
       " 'United Colors of Benetton',\n",
       " 'AISLIN',\n",
       " 'Badfella',\n",
       " 'Fastrack',\n",
       " 'PIRASO',\n",
       " 'kingsunglasses',\n",
       " 'PHENOMENAL',\n",
       " 'ROZZETTA CRAFT',\n",
       " 'hipe',\n",
       " 'ROYAL SON',\n",
       " 'Singco',\n",
       " 'Singco India',\n",
       " 'Silver Kartz',\n",
       " 'GANSTA',\n",
       " 'Wrogn',\n",
       " 'Flizz',\n",
       " 'NuVew',\n",
       " 'United Colors of Benetton',\n",
       " 'IRUS by IDEE',\n",
       " 'Elligator',\n",
       " 'DEIXELS',\n",
       " 'Fastrack',\n",
       " 'PIRASO',\n",
       " 'kingsunglasses',\n",
       " 'PHENOMENAL',\n",
       " 'ROZZETTA CRAFT',\n",
       " 'hipe',\n",
       " 'ROYAL SON',\n",
       " 'Singco India',\n",
       " 'Wrogn',\n",
       " 'GANSTA',\n",
       " 'DEIXELS',\n",
       " 'Fastrack',\n",
       " 'PIRASO',\n",
       " 'kingsunglasses',\n",
       " 'ROZZETTA CRAFT',\n",
       " 'hipe',\n",
       " 'PHENOMENAL',\n",
       " 'Singco India',\n",
       " 'Wrogn',\n",
       " 'GANSTA',\n",
       " 'ROYAL SON',\n",
       " 'Fastrack',\n",
       " 'kingsunglasses',\n",
       " 'PIRASO',\n",
       " 'ROZZETTA CRAFT',\n",
       " 'hipe',\n",
       " 'PHENOMENAL',\n",
       " 'GANSTA',\n",
       " 'ROYAL SON',\n",
       " 'Singco India',\n",
       " 'Fastrack',\n",
       " 'kingsunglasses',\n",
       " 'ROZZETTA CRAFT',\n",
       " 'hipe',\n",
       " 'PIRASO',\n",
       " 'PHENOMENAL',\n",
       " 'GANSTA',\n",
       " 'Fastrack',\n",
       " 'kingsunglasses',\n",
       " 'ROZZETTA CRAFT',\n",
       " 'GANSTA',\n",
       " 'Fastrack',\n",
       " 'kingsunglasses',\n",
       " 'GANSTA',\n",
       " 'ROZZETTA CRAFT',\n",
       " 'Fastrack',\n",
       " 'kingsunglasses',\n",
       " 'Fastrack',\n",
       " 'ROZZETTA CRAFT',\n",
       " 'kingsunglasses',\n",
       " 'Fastrack',\n",
       " 'kingsunglasses',\n",
       " 'Fastrack',\n",
       " 'kingsunglasses',\n",
       " 'Fastrack',\n",
       " 'Fastrack']"
      ]
     },
     "execution_count": 20,
     "metadata": {},
     "output_type": "execute_result"
    }
   ],
   "source": [
    "brand_list=[]\n",
    "for i in page_url:\n",
    "    driver.get(i)\n",
    "    brand_tags=driver.find_elements_by_xpath(\"//div[@class='_2WkVRV']\")\n",
    "    brand_tags\n",
    "    for i in brand_tags:\n",
    "        brand_list.append(i.text)\n",
    "brand_list[:100]"
   ]
  },
  {
   "cell_type": "code",
   "execution_count": 21,
   "metadata": {},
   "outputs": [
    {
     "data": {
      "text/plain": [
       "['₹758',\n",
       " '₹237',\n",
       " '₹299',\n",
       " '₹259',\n",
       " '₹297',\n",
       " '₹499',\n",
       " '₹251',\n",
       " '₹213',\n",
       " '₹606',\n",
       " '₹399',\n",
       " '₹281',\n",
       " '₹299',\n",
       " '₹236',\n",
       " '₹215',\n",
       " '₹162',\n",
       " '₹299',\n",
       " '₹331',\n",
       " '₹375',\n",
       " '₹711',\n",
       " '₹539',\n",
       " '₹1,664',\n",
       " '₹443',\n",
       " '₹199',\n",
       " '₹1,222',\n",
       " '₹1,051',\n",
       " '₹269',\n",
       " '₹513',\n",
       " '₹331',\n",
       " '₹349',\n",
       " '₹399',\n",
       " '₹499',\n",
       " '₹299',\n",
       " '₹262',\n",
       " '₹252',\n",
       " '₹352',\n",
       " '₹299',\n",
       " '₹323',\n",
       " '₹909',\n",
       " '₹279',\n",
       " '₹235',\n",
       " '₹1,505',\n",
       " '₹454',\n",
       " '₹443',\n",
       " '₹219',\n",
       " '₹509',\n",
       " '₹331',\n",
       " '₹349',\n",
       " '₹399',\n",
       " '₹404',\n",
       " '₹197',\n",
       " '₹215',\n",
       " '₹214',\n",
       " '₹731',\n",
       " '₹233',\n",
       " '₹249',\n",
       " '₹781',\n",
       " '₹237',\n",
       " '₹299',\n",
       " '₹449',\n",
       " '₹189',\n",
       " '₹399',\n",
       " '₹331',\n",
       " '₹663',\n",
       " '₹292',\n",
       " '₹399',\n",
       " '₹655',\n",
       " '₹225',\n",
       " '₹237',\n",
       " '₹449',\n",
       " '₹197',\n",
       " '₹319',\n",
       " '₹207',\n",
       " '₹657',\n",
       " '₹212',\n",
       " '₹592',\n",
       " '₹210',\n",
       " '₹449',\n",
       " '₹205',\n",
       " '₹237',\n",
       " '₹399',\n",
       " '₹211',\n",
       " '₹522',\n",
       " '₹210',\n",
       " '₹499',\n",
       " '₹260',\n",
       " '₹612',\n",
       " '₹249',\n",
       " '₹314',\n",
       " '₹449',\n",
       " '₹1,010',\n",
       " '₹349',\n",
       " '₹647',\n",
       " '₹398',\n",
       " '₹299',\n",
       " '₹1,085',\n",
       " '₹210',\n",
       " '₹558',\n",
       " '₹315',\n",
       " '₹738',\n",
       " '₹549']"
      ]
     },
     "execution_count": 21,
     "metadata": {},
     "output_type": "execute_result"
    }
   ],
   "source": [
    "prize_list=[]\n",
    "for i in page_url:\n",
    "    driver.get(i)\n",
    "    prize_tags=driver.find_elements_by_xpath(\"//div[@class='_30jeq3']\")\n",
    "    prize_tags\n",
    "    for i in prize_tags:\n",
    "        prize_list.append(i.text)\n",
    "prize_list[:100]"
   ]
  },
  {
   "cell_type": "code",
   "execution_count": 22,
   "metadata": {},
   "outputs": [
    {
     "data": {
      "text/plain": [
       "['UV Protection Wayfarer Sunglasses (Free Size)',\n",
       " 'UV Protection Aviator Sunglasses (54)',\n",
       " 'Mirrored, UV Protection Wayfarer Sunglasses (Free Size)',\n",
       " 'UV Protection Wayfarer Sunglasses (Free Size)',\n",
       " 'UV Protection Round Sunglasses (53)',\n",
       " 'UV Protection Retro Square Sunglasses (Free Size)',\n",
       " 'UV Protection Wayfarer Sunglasses (55)',\n",
       " 'UV Protection Aviator, Wayfarer Sunglasses (Free Size)',\n",
       " 'Gradient Rectangular Sunglasses (56)',\n",
       " 'UV Protection Retro Square Sunglasses (Free Size)',\n",
       " 'UV Protection Aviator Sunglasses (57)',\n",
       " 'UV Protection, Gradient, Mirrored, Riding Glasses Recta...',\n",
       " 'Mirrored, Riding Glasses, Others Sports Sunglasses (50)',\n",
       " 'UV Protection Aviator Sunglasses (58)',\n",
       " 'UV Protection Wayfarer Sunglasses (Free Size)',\n",
       " 'UV Protection Retro Square Sunglasses (Free Size)',\n",
       " 'UV Protection, Others Aviator Sunglasses (32)',\n",
       " 'Mirrored Aviator Sunglasses (55)',\n",
       " 'Mirrored Retro Square Sunglasses (57)',\n",
       " 'Others Retro Square Sunglasses (Free Size)',\n",
       " 'Others Rectangular Sunglasses (52)',\n",
       " 'UV Protection, Riding Glasses Rectangular, Retro Square...',\n",
       " 'UV Protection Round Sunglasses (Free Size)',\n",
       " 'Mirrored, UV Protection Rectangular Sunglasses (56)',\n",
       " 'Toughened Glass Lens, UV Protection Wayfarer, Rectangul...',\n",
       " 'Polarized, UV Protection Retro Square Sunglasses (53)',\n",
       " 'UV Protection Rectangular Sunglasses (Free Size)',\n",
       " 'UV Protection Aviator Sunglasses (Free Size)',\n",
       " 'UV Protection Round Sunglasses (Free Size)',\n",
       " 'UV Protection Retro Square Sunglasses (Free Size)',\n",
       " 'UV Protection, Gradient Rectangular Sunglasses (Free Si...',\n",
       " 'UV Protection Sports Sunglasses (Free Size)',\n",
       " 'UV Protection Wayfarer Sunglasses (55)',\n",
       " 'Mirrored Aviator Sunglasses (53)',\n",
       " 'UV Protection Aviator Sunglasses (Free Size)',\n",
       " 'UV Protection Oval Sunglasses (56)',\n",
       " 'UV Protection Aviator Sunglasses (57)',\n",
       " 'Polarized Aviator Sunglasses (60)',\n",
       " 'UV Protection, Polarized Rectangular Sunglasses (Free S...',\n",
       " 'UV Protection, Riding Glasses Wayfarer Sunglasses (56)',\n",
       " 'UV Protection Wayfarer Sunglasses (Free Size)',\n",
       " 'UV Protection Aviator Sunglasses (54)',\n",
       " 'Mirrored, UV Protection Wayfarer Sunglasses (Free Size)',\n",
       " 'UV Protection Wayfarer Sunglasses (Free Size)',\n",
       " 'UV Protection Round Sunglasses (53)',\n",
       " 'UV Protection Retro Square Sunglasses (Free Size)',\n",
       " 'UV Protection Wayfarer Sunglasses (55)',\n",
       " 'UV Protection Aviator, Wayfarer Sunglasses (Free Size)',\n",
       " 'Gradient Rectangular Sunglasses (56)',\n",
       " 'UV Protection Retro Square Sunglasses (Free Size)',\n",
       " 'UV Protection Aviator Sunglasses (57)',\n",
       " 'UV Protection, Gradient, Mirrored, Riding Glasses Recta...',\n",
       " 'Mirrored, Riding Glasses, Others Sports Sunglasses (50)',\n",
       " 'UV Protection Aviator Sunglasses (58)',\n",
       " 'UV Protection Wayfarer Sunglasses (Free Size)',\n",
       " 'UV Protection Retro Square Sunglasses (Free Size)',\n",
       " 'UV Protection, Others Aviator Sunglasses (32)',\n",
       " 'Mirrored Aviator Sunglasses (55)',\n",
       " 'Mirrored Retro Square Sunglasses (57)',\n",
       " 'Others Retro Square Sunglasses (Free Size)',\n",
       " 'Others Rectangular Sunglasses (52)',\n",
       " 'UV Protection, Riding Glasses Rectangular, Retro Square...',\n",
       " 'UV Protection Round Sunglasses (Free Size)',\n",
       " 'Mirrored, UV Protection Rectangular Sunglasses (56)',\n",
       " 'Toughened Glass Lens, UV Protection Wayfarer, Rectangul...',\n",
       " 'Polarized, UV Protection Retro Square Sunglasses (53)',\n",
       " 'UV Protection Rectangular Sunglasses (Free Size)',\n",
       " 'UV Protection Aviator Sunglasses (Free Size)',\n",
       " 'UV Protection Round Sunglasses (Free Size)',\n",
       " 'UV Protection Retro Square Sunglasses (Free Size)',\n",
       " 'UV Protection, Gradient Rectangular Sunglasses (Free Si...',\n",
       " 'UV Protection Sports Sunglasses (Free Size)',\n",
       " 'UV Protection Wayfarer Sunglasses (55)',\n",
       " 'Mirrored Aviator Sunglasses (53)',\n",
       " 'UV Protection Aviator Sunglasses (Free Size)',\n",
       " 'UV Protection Oval Sunglasses (56)',\n",
       " 'UV Protection Aviator Sunglasses (57)',\n",
       " 'Polarized Aviator Sunglasses (60)',\n",
       " 'UV Protection, Polarized Rectangular Sunglasses (Free S...',\n",
       " 'UV Protection, Riding Glasses Wayfarer Sunglasses (56)',\n",
       " 'Gradient, Mirrored, UV Protection Aviator Sunglasses (5...',\n",
       " 'Others Rectangular Sunglasses (56)',\n",
       " 'UV Protection, Riding Glasses Rectangular, Retro Square...',\n",
       " 'UV Protection Round Sunglasses (Free Size)',\n",
       " 'Gradient, UV Protection Wayfarer Sunglasses (Free Size)',\n",
       " 'UV Protection Aviator Sunglasses (58)',\n",
       " 'UV Protection Rectangular Sunglasses (55)',\n",
       " 'UV Protection, Mirrored Retro Square Sunglasses (53)',\n",
       " 'UV Protection, Gradient Rectangular Sunglasses (Free Si...',\n",
       " 'Mirrored, UV Protection, Gradient Round Sunglasses (55)',\n",
       " 'UV Protection, Gradient Wayfarer Sunglasses (55)',\n",
       " 'UV Protection, Riding Glasses, Others Aviator, Wayfarer...',\n",
       " 'UV Protection Wayfarer Sunglasses (56)',\n",
       " 'UV Protection Aviator Sunglasses (57)',\n",
       " 'Polarized, UV Protection, Riding Glasses Wayfarer Sungl...',\n",
       " 'UV Protection Shield Sunglasses (Free Size)',\n",
       " 'UV Protection Aviator Sunglasses (54)',\n",
       " 'Mirrored, UV Protection Wayfarer Sunglasses (Free Size)',\n",
       " 'UV Protection, Riding Glasses Rectangular Sunglasses (F...',\n",
       " 'Mirrored, Gradient, Riding Glasses Round Sunglasses (55...']"
      ]
     },
     "execution_count": 22,
     "metadata": {},
     "output_type": "execute_result"
    }
   ],
   "source": [
    "product_description_list=[]\n",
    "for i in page_url:\n",
    "    driver.get(i)\n",
    "    product_discription_tags=driver.find_elements_by_xpath(\"//a[@class='IRpwTa']\")\n",
    "    product_discription_tags\n",
    "    for i in product_discription_tags:\n",
    "        product_discription_list.append(i.text)\n",
    "product_discription_list[:100]"
   ]
  },
  {
   "cell_type": "code",
   "execution_count": 23,
   "metadata": {},
   "outputs": [
    {
     "data": {
      "text/plain": [
       "['15% off',\n",
       " '85% off',\n",
       " '88% off',\n",
       " '82% off',\n",
       " '87% off',\n",
       " '77% off',\n",
       " '79% off',\n",
       " '82% off',\n",
       " '52% off',\n",
       " '81% off',\n",
       " '85% off',\n",
       " '76% off',\n",
       " '84% off',\n",
       " '72% off',\n",
       " '67% off',\n",
       " '80% off',\n",
       " '83% off',\n",
       " '74% off',\n",
       " '72% off',\n",
       " '28% off',\n",
       " '62% off',\n",
       " '70% off',\n",
       " '80% off',\n",
       " '70% off',\n",
       " '71% off',\n",
       " '73% off',\n",
       " '35% off',\n",
       " '79% off',\n",
       " '78% off',\n",
       " '80% off',\n",
       " '77% off',\n",
       " '84% off',\n",
       " '79% off',\n",
       " '74% off',\n",
       " '70% off',\n",
       " '75% off',\n",
       " '83% off',\n",
       " '72% off',\n",
       " '81% off',\n",
       " '75% off',\n",
       " '63% off',\n",
       " '64% off',\n",
       " '70% off',\n",
       " '72% off',\n",
       " '36% off',\n",
       " '87% off',\n",
       " '76% off',\n",
       " '80% off',\n",
       " '79% off',\n",
       " '86% off',\n",
       " '78% off',\n",
       " '69% off',\n",
       " '71% off',\n",
       " '82% off',\n",
       " '58% off',\n",
       " '13% off',\n",
       " '85% off',\n",
       " '88% off',\n",
       " '79% off',\n",
       " '86% off',\n",
       " '80% off',\n",
       " '83% off',\n",
       " '73% off',\n",
       " '85% off',\n",
       " '73% off',\n",
       " '27% off',\n",
       " '79% off',\n",
       " '85% off',\n",
       " '77% off',\n",
       " '80% off',\n",
       " '84% off',\n",
       " '88% off',\n",
       " '67% off',\n",
       " '78% off',\n",
       " '34% off',\n",
       " '83% off',\n",
       " '77% off',\n",
       " '79% off',\n",
       " '85% off',\n",
       " '80% off',\n",
       " '78% off',\n",
       " '41% off',\n",
       " '82% off',\n",
       " '77% off',\n",
       " '86% off',\n",
       " '31% off',\n",
       " '79% off',\n",
       " '84% off',\n",
       " '83% off',\n",
       " '22% off',\n",
       " '78% off',\n",
       " '28% off',\n",
       " '73% off',\n",
       " '80% off',\n",
       " '16% off',\n",
       " '83% off',\n",
       " '30% off',\n",
       " '81% off',\n",
       " '26% off',\n",
       " '31% off']"
      ]
     },
     "execution_count": 23,
     "metadata": {},
     "output_type": "execute_result"
    }
   ],
   "source": [
    "percentage_list=[]\n",
    "for i in page_url:\n",
    "    driver.get(i)\n",
    "    percentage_tags=driver.find_elements_by_xpath(\"//div[@class='_3Ay6Sb']\")\n",
    "    percentage_tags\n",
    "    for i in percentage_tags:\n",
    "        percentage_list.append(i.text)\n",
    "percentage_list[:100]"
   ]
  },
  {
   "cell_type": "code",
   "execution_count": 24,
   "metadata": {},
   "outputs": [
    {
     "ename": "ValueError",
     "evalue": "Length of values (0) does not match length of index (440)",
     "output_type": "error",
     "traceback": [
      "\u001b[1;31m---------------------------------------------------------------------------\u001b[0m",
      "\u001b[1;31mValueError\u001b[0m                                Traceback (most recent call last)",
      "\u001b[1;32m<ipython-input-24-66bb76451b25>\u001b[0m in \u001b[0;36m<module>\u001b[1;34m\u001b[0m\n\u001b[0;32m      3\u001b[0m \u001b[0msunglasses\u001b[0m\u001b[1;33m[\u001b[0m\u001b[1;34m'Brand'\u001b[0m\u001b[1;33m]\u001b[0m\u001b[1;33m=\u001b[0m\u001b[0mbrand_list\u001b[0m\u001b[1;33m\u001b[0m\u001b[1;33m\u001b[0m\u001b[0m\n\u001b[0;32m      4\u001b[0m \u001b[0msunglasses\u001b[0m\u001b[1;33m[\u001b[0m\u001b[1;34m'price'\u001b[0m\u001b[1;33m]\u001b[0m\u001b[1;33m=\u001b[0m\u001b[0mprize_list\u001b[0m\u001b[1;33m\u001b[0m\u001b[1;33m\u001b[0m\u001b[0m\n\u001b[1;32m----> 5\u001b[1;33m \u001b[0msunglasses\u001b[0m\u001b[1;33m[\u001b[0m\u001b[1;34m'Product description'\u001b[0m\u001b[1;33m]\u001b[0m\u001b[1;33m=\u001b[0m\u001b[0mproduct_description_list\u001b[0m\u001b[1;33m\u001b[0m\u001b[1;33m\u001b[0m\u001b[0m\n\u001b[0m\u001b[0;32m      6\u001b[0m \u001b[0msunglasses\u001b[0m\u001b[1;33m[\u001b[0m\u001b[1;34m'Percentage'\u001b[0m\u001b[1;33m]\u001b[0m\u001b[1;33m=\u001b[0m\u001b[0mpercentage_list\u001b[0m\u001b[1;33m\u001b[0m\u001b[1;33m\u001b[0m\u001b[0m\n",
      "\u001b[1;32mC:\\ProgramData\\Anaconda3\\lib\\site-packages\\pandas\\core\\frame.py\u001b[0m in \u001b[0;36m__setitem__\u001b[1;34m(self, key, value)\u001b[0m\n\u001b[0;32m   3038\u001b[0m         \u001b[1;32melse\u001b[0m\u001b[1;33m:\u001b[0m\u001b[1;33m\u001b[0m\u001b[1;33m\u001b[0m\u001b[0m\n\u001b[0;32m   3039\u001b[0m             \u001b[1;31m# set column\u001b[0m\u001b[1;33m\u001b[0m\u001b[1;33m\u001b[0m\u001b[1;33m\u001b[0m\u001b[0m\n\u001b[1;32m-> 3040\u001b[1;33m             \u001b[0mself\u001b[0m\u001b[1;33m.\u001b[0m\u001b[0m_set_item\u001b[0m\u001b[1;33m(\u001b[0m\u001b[0mkey\u001b[0m\u001b[1;33m,\u001b[0m \u001b[0mvalue\u001b[0m\u001b[1;33m)\u001b[0m\u001b[1;33m\u001b[0m\u001b[1;33m\u001b[0m\u001b[0m\n\u001b[0m\u001b[0;32m   3041\u001b[0m \u001b[1;33m\u001b[0m\u001b[0m\n\u001b[0;32m   3042\u001b[0m     \u001b[1;32mdef\u001b[0m \u001b[0m_setitem_slice\u001b[0m\u001b[1;33m(\u001b[0m\u001b[0mself\u001b[0m\u001b[1;33m,\u001b[0m \u001b[0mkey\u001b[0m\u001b[1;33m:\u001b[0m \u001b[0mslice\u001b[0m\u001b[1;33m,\u001b[0m \u001b[0mvalue\u001b[0m\u001b[1;33m)\u001b[0m\u001b[1;33m:\u001b[0m\u001b[1;33m\u001b[0m\u001b[1;33m\u001b[0m\u001b[0m\n",
      "\u001b[1;32mC:\\ProgramData\\Anaconda3\\lib\\site-packages\\pandas\\core\\frame.py\u001b[0m in \u001b[0;36m_set_item\u001b[1;34m(self, key, value)\u001b[0m\n\u001b[0;32m   3114\u001b[0m         \"\"\"\n\u001b[0;32m   3115\u001b[0m         \u001b[0mself\u001b[0m\u001b[1;33m.\u001b[0m\u001b[0m_ensure_valid_index\u001b[0m\u001b[1;33m(\u001b[0m\u001b[0mvalue\u001b[0m\u001b[1;33m)\u001b[0m\u001b[1;33m\u001b[0m\u001b[1;33m\u001b[0m\u001b[0m\n\u001b[1;32m-> 3116\u001b[1;33m         \u001b[0mvalue\u001b[0m \u001b[1;33m=\u001b[0m \u001b[0mself\u001b[0m\u001b[1;33m.\u001b[0m\u001b[0m_sanitize_column\u001b[0m\u001b[1;33m(\u001b[0m\u001b[0mkey\u001b[0m\u001b[1;33m,\u001b[0m \u001b[0mvalue\u001b[0m\u001b[1;33m)\u001b[0m\u001b[1;33m\u001b[0m\u001b[1;33m\u001b[0m\u001b[0m\n\u001b[0m\u001b[0;32m   3117\u001b[0m         \u001b[0mNDFrame\u001b[0m\u001b[1;33m.\u001b[0m\u001b[0m_set_item\u001b[0m\u001b[1;33m(\u001b[0m\u001b[0mself\u001b[0m\u001b[1;33m,\u001b[0m \u001b[0mkey\u001b[0m\u001b[1;33m,\u001b[0m \u001b[0mvalue\u001b[0m\u001b[1;33m)\u001b[0m\u001b[1;33m\u001b[0m\u001b[1;33m\u001b[0m\u001b[0m\n\u001b[0;32m   3118\u001b[0m \u001b[1;33m\u001b[0m\u001b[0m\n",
      "\u001b[1;32mC:\\ProgramData\\Anaconda3\\lib\\site-packages\\pandas\\core\\frame.py\u001b[0m in \u001b[0;36m_sanitize_column\u001b[1;34m(self, key, value, broadcast)\u001b[0m\n\u001b[0;32m   3762\u001b[0m \u001b[1;33m\u001b[0m\u001b[0m\n\u001b[0;32m   3763\u001b[0m             \u001b[1;31m# turn me into an ndarray\u001b[0m\u001b[1;33m\u001b[0m\u001b[1;33m\u001b[0m\u001b[1;33m\u001b[0m\u001b[0m\n\u001b[1;32m-> 3764\u001b[1;33m             \u001b[0mvalue\u001b[0m \u001b[1;33m=\u001b[0m \u001b[0msanitize_index\u001b[0m\u001b[1;33m(\u001b[0m\u001b[0mvalue\u001b[0m\u001b[1;33m,\u001b[0m \u001b[0mself\u001b[0m\u001b[1;33m.\u001b[0m\u001b[0mindex\u001b[0m\u001b[1;33m)\u001b[0m\u001b[1;33m\u001b[0m\u001b[1;33m\u001b[0m\u001b[0m\n\u001b[0m\u001b[0;32m   3765\u001b[0m             \u001b[1;32mif\u001b[0m \u001b[1;32mnot\u001b[0m \u001b[0misinstance\u001b[0m\u001b[1;33m(\u001b[0m\u001b[0mvalue\u001b[0m\u001b[1;33m,\u001b[0m \u001b[1;33m(\u001b[0m\u001b[0mnp\u001b[0m\u001b[1;33m.\u001b[0m\u001b[0mndarray\u001b[0m\u001b[1;33m,\u001b[0m \u001b[0mIndex\u001b[0m\u001b[1;33m)\u001b[0m\u001b[1;33m)\u001b[0m\u001b[1;33m:\u001b[0m\u001b[1;33m\u001b[0m\u001b[1;33m\u001b[0m\u001b[0m\n\u001b[0;32m   3766\u001b[0m                 \u001b[1;32mif\u001b[0m \u001b[0misinstance\u001b[0m\u001b[1;33m(\u001b[0m\u001b[0mvalue\u001b[0m\u001b[1;33m,\u001b[0m \u001b[0mlist\u001b[0m\u001b[1;33m)\u001b[0m \u001b[1;32mand\u001b[0m \u001b[0mlen\u001b[0m\u001b[1;33m(\u001b[0m\u001b[0mvalue\u001b[0m\u001b[1;33m)\u001b[0m \u001b[1;33m>\u001b[0m \u001b[1;36m0\u001b[0m\u001b[1;33m:\u001b[0m\u001b[1;33m\u001b[0m\u001b[1;33m\u001b[0m\u001b[0m\n",
      "\u001b[1;32mC:\\ProgramData\\Anaconda3\\lib\\site-packages\\pandas\\core\\internals\\construction.py\u001b[0m in \u001b[0;36msanitize_index\u001b[1;34m(data, index)\u001b[0m\n\u001b[0;32m    745\u001b[0m     \"\"\"\n\u001b[0;32m    746\u001b[0m     \u001b[1;32mif\u001b[0m \u001b[0mlen\u001b[0m\u001b[1;33m(\u001b[0m\u001b[0mdata\u001b[0m\u001b[1;33m)\u001b[0m \u001b[1;33m!=\u001b[0m \u001b[0mlen\u001b[0m\u001b[1;33m(\u001b[0m\u001b[0mindex\u001b[0m\u001b[1;33m)\u001b[0m\u001b[1;33m:\u001b[0m\u001b[1;33m\u001b[0m\u001b[1;33m\u001b[0m\u001b[0m\n\u001b[1;32m--> 747\u001b[1;33m         raise ValueError(\n\u001b[0m\u001b[0;32m    748\u001b[0m             \u001b[1;34m\"Length of values \"\u001b[0m\u001b[1;33m\u001b[0m\u001b[1;33m\u001b[0m\u001b[0m\n\u001b[0;32m    749\u001b[0m             \u001b[1;34mf\"({len(data)}) \"\u001b[0m\u001b[1;33m\u001b[0m\u001b[1;33m\u001b[0m\u001b[0m\n",
      "\u001b[1;31mValueError\u001b[0m: Length of values (0) does not match length of index (440)"
     ]
    }
   ],
   "source": [
    "import pandas as pd\n",
    "sunglasses=pd.DataFrame({})\n",
    "sunglasses['Brand']=brand_list\n",
    "sunglasses['price']=prize_list\n",
    "sunglasses['Product description']=product_description_list\n",
    "sunglasses['Percentage']=percentage_list"
   ]
  },
  {
   "cell_type": "code",
   "execution_count": 26,
   "metadata": {},
   "outputs": [
    {
     "data": {
      "text/html": [
       "<div>\n",
       "<style scoped>\n",
       "    .dataframe tbody tr th:only-of-type {\n",
       "        vertical-align: middle;\n",
       "    }\n",
       "\n",
       "    .dataframe tbody tr th {\n",
       "        vertical-align: top;\n",
       "    }\n",
       "\n",
       "    .dataframe thead th {\n",
       "        text-align: right;\n",
       "    }\n",
       "</style>\n",
       "<table border=\"1\" class=\"dataframe\">\n",
       "  <thead>\n",
       "    <tr style=\"text-align: right;\">\n",
       "      <th></th>\n",
       "      <th>Brand</th>\n",
       "      <th>price</th>\n",
       "    </tr>\n",
       "  </thead>\n",
       "  <tbody>\n",
       "    <tr>\n",
       "      <th>0</th>\n",
       "      <td>Fastrack</td>\n",
       "      <td>₹758</td>\n",
       "    </tr>\n",
       "    <tr>\n",
       "      <th>1</th>\n",
       "      <td>PIRASO</td>\n",
       "      <td>₹237</td>\n",
       "    </tr>\n",
       "    <tr>\n",
       "      <th>2</th>\n",
       "      <td>kingsunglasses</td>\n",
       "      <td>₹299</td>\n",
       "    </tr>\n",
       "    <tr>\n",
       "      <th>3</th>\n",
       "      <td>Silver Kartz</td>\n",
       "      <td>₹259</td>\n",
       "    </tr>\n",
       "    <tr>\n",
       "      <th>4</th>\n",
       "      <td>PHENOMENAL</td>\n",
       "      <td>₹297</td>\n",
       "    </tr>\n",
       "    <tr>\n",
       "      <th>...</th>\n",
       "      <td>...</td>\n",
       "      <td>...</td>\n",
       "    </tr>\n",
       "    <tr>\n",
       "      <th>95</th>\n",
       "      <td>kingsunglasses</td>\n",
       "      <td>₹210</td>\n",
       "    </tr>\n",
       "    <tr>\n",
       "      <th>96</th>\n",
       "      <td>Fastrack</td>\n",
       "      <td>₹558</td>\n",
       "    </tr>\n",
       "    <tr>\n",
       "      <th>97</th>\n",
       "      <td>kingsunglasses</td>\n",
       "      <td>₹315</td>\n",
       "    </tr>\n",
       "    <tr>\n",
       "      <th>98</th>\n",
       "      <td>Fastrack</td>\n",
       "      <td>₹738</td>\n",
       "    </tr>\n",
       "    <tr>\n",
       "      <th>99</th>\n",
       "      <td>Fastrack</td>\n",
       "      <td>₹549</td>\n",
       "    </tr>\n",
       "  </tbody>\n",
       "</table>\n",
       "<p>100 rows × 2 columns</p>\n",
       "</div>"
      ],
      "text/plain": [
       "             Brand price\n",
       "0         Fastrack  ₹758\n",
       "1           PIRASO  ₹237\n",
       "2   kingsunglasses  ₹299\n",
       "3     Silver Kartz  ₹259\n",
       "4       PHENOMENAL  ₹297\n",
       "..             ...   ...\n",
       "95  kingsunglasses  ₹210\n",
       "96        Fastrack  ₹558\n",
       "97  kingsunglasses  ₹315\n",
       "98        Fastrack  ₹738\n",
       "99        Fastrack  ₹549\n",
       "\n",
       "[100 rows x 2 columns]"
      ]
     },
     "execution_count": 26,
     "metadata": {},
     "output_type": "execute_result"
    }
   ],
   "source": [
    "sunglasses[:100]"
   ]
  },
  {
   "cell_type": "markdown",
   "metadata": {},
   "source": [
    "## Q7: Scrape 100 reviews data from flipkart.com for iphone11 phone."
   ]
  },
  {
   "cell_type": "code",
   "execution_count": 1,
   "metadata": {},
   "outputs": [
    {
     "name": "stdout",
     "output_type": "stream",
     "text": [
      "Requirement already satisfied: selenium in c:\\programdata\\anaconda3\\lib\\site-packages (3.141.0)\n",
      "Requirement already satisfied: urllib3 in c:\\programdata\\anaconda3\\lib\\site-packages (from selenium) (1.25.11)\n"
     ]
    }
   ],
   "source": [
    "!pip install selenium"
   ]
  },
  {
   "cell_type": "code",
   "execution_count": 2,
   "metadata": {},
   "outputs": [],
   "source": [
    "#Let's now import all the required documents\n",
    "import selenium\n",
    "import pandas as pd\n",
    "from selenium import webdriver"
   ]
  },
  {
   "cell_type": "code",
   "execution_count": 3,
   "metadata": {},
   "outputs": [],
   "source": [
    "#lets first connect to web driver\n",
    "driver=webdriver.Chrome(\"chromedriver.exe\")"
   ]
  },
  {
   "cell_type": "code",
   "execution_count": 16,
   "metadata": {},
   "outputs": [],
   "source": [
    "url='https://www.flipkart.com/apple-iphone-11-black-64-gb-includes-earpods-power-adapter/product-reviews/itm0f37c2240b217?pid=MOBFKCTSVZAXUHGR&lid=LSTMOBFKCTSVZAXUHGREPBFGI&marketplace=FLIPKART'\n",
    "driver.get(url)"
   ]
  },
  {
   "cell_type": "code",
   "execution_count": 17,
   "metadata": {},
   "outputs": [
    {
     "data": {
      "text/plain": [
       "[<selenium.webdriver.remote.webelement.WebElement (session=\"c42db8f79b1d22cec14b2fc3509f57fb\", element=\"396cc849-787d-40ad-8439-931a6b83c7f0\")>,\n",
       " <selenium.webdriver.remote.webelement.WebElement (session=\"c42db8f79b1d22cec14b2fc3509f57fb\", element=\"dc86e9ba-11c6-4200-b92f-76f80ce330f5\")>,\n",
       " <selenium.webdriver.remote.webelement.WebElement (session=\"c42db8f79b1d22cec14b2fc3509f57fb\", element=\"9d82e4f4-45ff-42d2-a02f-8f8dac053745\")>,\n",
       " <selenium.webdriver.remote.webelement.WebElement (session=\"c42db8f79b1d22cec14b2fc3509f57fb\", element=\"39f85b53-30ae-4524-92df-6e19a52c057c\")>,\n",
       " <selenium.webdriver.remote.webelement.WebElement (session=\"c42db8f79b1d22cec14b2fc3509f57fb\", element=\"7871a2f5-7e4e-4225-a155-7d926d1cda93\")>,\n",
       " <selenium.webdriver.remote.webelement.WebElement (session=\"c42db8f79b1d22cec14b2fc3509f57fb\", element=\"f489df7e-7fd4-4ce6-b74b-8d95c2f1b658\")>,\n",
       " <selenium.webdriver.remote.webelement.WebElement (session=\"c42db8f79b1d22cec14b2fc3509f57fb\", element=\"1844bdc9-9cba-471c-b7d0-1f45f5c7416b\")>,\n",
       " <selenium.webdriver.remote.webelement.WebElement (session=\"c42db8f79b1d22cec14b2fc3509f57fb\", element=\"849d1ec5-fc34-4367-ae04-5fba14eac3ec\")>,\n",
       " <selenium.webdriver.remote.webelement.WebElement (session=\"c42db8f79b1d22cec14b2fc3509f57fb\", element=\"3b839654-8cb2-4469-9a2c-c25b5bc0f491\")>,\n",
       " <selenium.webdriver.remote.webelement.WebElement (session=\"c42db8f79b1d22cec14b2fc3509f57fb\", element=\"ad7848b4-8f2a-4e6d-a59f-cbf96c797355\")>]"
      ]
     },
     "execution_count": 17,
     "metadata": {},
     "output_type": "execute_result"
    }
   ],
   "source": [
    "rating_tags=driver.find_elements_by_xpath(\"//div[@class='_3LWZlK _1BLPMq']\")\n",
    "rating_tags"
   ]
  },
  {
   "cell_type": "code",
   "execution_count": 18,
   "metadata": {},
   "outputs": [
    {
     "data": {
      "text/plain": [
       "['5', '5', '5', '5', '5', '5', '5', '4', '5', '5']"
      ]
     },
     "execution_count": 18,
     "metadata": {},
     "output_type": "execute_result"
    }
   ],
   "source": [
    "rating_list=[]\n",
    "for i in rating_tags:\n",
    "    rating_list.append(i.text)\n",
    "rating_list"
   ]
  },
  {
   "cell_type": "code",
   "execution_count": 19,
   "metadata": {},
   "outputs": [
    {
     "data": {
      "text/plain": [
       "['https://www.flipkart.com/apple-iphone-11-black-64-gb-includes-earpods-power-adapter/product-reviews/itm0f37c2240b217?pid=MOBFKCTSVZAXUHGR&lid=LSTMOBFKCTSVZAXUHGREPBFGI&marketplace=FLIPKART&page=1',\n",
       " 'https://www.flipkart.com/apple-iphone-11-black-64-gb-includes-earpods-power-adapter/product-reviews/itm0f37c2240b217?pid=MOBFKCTSVZAXUHGR&lid=LSTMOBFKCTSVZAXUHGREPBFGI&marketplace=FLIPKART&page=2',\n",
       " 'https://www.flipkart.com/apple-iphone-11-black-64-gb-includes-earpods-power-adapter/product-reviews/itm0f37c2240b217?pid=MOBFKCTSVZAXUHGR&lid=LSTMOBFKCTSVZAXUHGREPBFGI&marketplace=FLIPKART&page=3',\n",
       " 'https://www.flipkart.com/apple-iphone-11-black-64-gb-includes-earpods-power-adapter/product-reviews/itm0f37c2240b217?pid=MOBFKCTSVZAXUHGR&lid=LSTMOBFKCTSVZAXUHGREPBFGI&marketplace=FLIPKART&page=4',\n",
       " 'https://www.flipkart.com/apple-iphone-11-black-64-gb-includes-earpods-power-adapter/product-reviews/itm0f37c2240b217?pid=MOBFKCTSVZAXUHGR&lid=LSTMOBFKCTSVZAXUHGREPBFGI&marketplace=FLIPKART&page=5',\n",
       " 'https://www.flipkart.com/apple-iphone-11-black-64-gb-includes-earpods-power-adapter/product-reviews/itm0f37c2240b217?pid=MOBFKCTSVZAXUHGR&lid=LSTMOBFKCTSVZAXUHGREPBFGI&marketplace=FLIPKART&page=6',\n",
       " 'https://www.flipkart.com/apple-iphone-11-black-64-gb-includes-earpods-power-adapter/product-reviews/itm0f37c2240b217?pid=MOBFKCTSVZAXUHGR&lid=LSTMOBFKCTSVZAXUHGREPBFGI&marketplace=FLIPKART&page=7',\n",
       " 'https://www.flipkart.com/apple-iphone-11-black-64-gb-includes-earpods-power-adapter/product-reviews/itm0f37c2240b217?pid=MOBFKCTSVZAXUHGR&lid=LSTMOBFKCTSVZAXUHGREPBFGI&marketplace=FLIPKART&page=8',\n",
       " 'https://www.flipkart.com/apple-iphone-11-black-64-gb-includes-earpods-power-adapter/product-reviews/itm0f37c2240b217?pid=MOBFKCTSVZAXUHGR&lid=LSTMOBFKCTSVZAXUHGREPBFGI&marketplace=FLIPKART&page=9',\n",
       " 'https://www.flipkart.com/apple-iphone-11-black-64-gb-includes-earpods-power-adapter/product-reviews/itm0f37c2240b217?pid=MOBFKCTSVZAXUHGR&lid=LSTMOBFKCTSVZAXUHGREPBFGI&marketplace=FLIPKART&page=10',\n",
       " 'https://www.flipkart.com/apple-iphone-11-black-64-gb-includes-earpods-power-adapter/product-reviews/itm0f37c2240b217?pid=MOBFKCTSVZAXUHGR&lid=LSTMOBFKCTSVZAXUHGREPBFGI&marketplace=FLIPKART&page=2']"
      ]
     },
     "execution_count": 19,
     "metadata": {},
     "output_type": "execute_result"
    }
   ],
   "source": [
    "page_url=[]\n",
    "url=driver.find_elements_by_xpath(\"//nav[@class='yFHi8N']//a\")\n",
    "for i in url:\n",
    "    page_url.append(i.get_attribute('href'))\n",
    "page_url"
   ]
  },
  {
   "cell_type": "code",
   "execution_count": 21,
   "metadata": {},
   "outputs": [
    {
     "data": {
      "text/plain": [
       "['5',\n",
       " '5',\n",
       " '5',\n",
       " '5',\n",
       " '5',\n",
       " '5',\n",
       " '5',\n",
       " '4',\n",
       " '5',\n",
       " '5',\n",
       " '5',\n",
       " '5',\n",
       " '5',\n",
       " '5',\n",
       " '5',\n",
       " '5',\n",
       " '5',\n",
       " '5',\n",
       " '4',\n",
       " '5',\n",
       " '5',\n",
       " '5',\n",
       " '5',\n",
       " '5',\n",
       " '4',\n",
       " '5',\n",
       " '5',\n",
       " '5',\n",
       " '5',\n",
       " '5',\n",
       " '5',\n",
       " '5',\n",
       " '5',\n",
       " '4',\n",
       " '5',\n",
       " '5',\n",
       " '5',\n",
       " '5',\n",
       " '5',\n",
       " '5',\n",
       " '5',\n",
       " '5',\n",
       " '5',\n",
       " '4',\n",
       " '5',\n",
       " '5',\n",
       " '5',\n",
       " '5',\n",
       " '5',\n",
       " '5',\n",
       " '5',\n",
       " '5',\n",
       " '5',\n",
       " '5',\n",
       " '5',\n",
       " '5',\n",
       " '5',\n",
       " '5',\n",
       " '5',\n",
       " '5',\n",
       " '5',\n",
       " '4',\n",
       " '5',\n",
       " '5',\n",
       " '4',\n",
       " '5',\n",
       " '4',\n",
       " '5',\n",
       " '5',\n",
       " '5',\n",
       " '5',\n",
       " '5',\n",
       " '5',\n",
       " '5',\n",
       " '4',\n",
       " '5',\n",
       " '5',\n",
       " '5',\n",
       " '4',\n",
       " '5',\n",
       " '5',\n",
       " '5',\n",
       " '5',\n",
       " '5',\n",
       " '5',\n",
       " '3',\n",
       " '3',\n",
       " '5',\n",
       " '4',\n",
       " '5',\n",
       " '5',\n",
       " '5',\n",
       " '5',\n",
       " '5',\n",
       " '4',\n",
       " '4',\n",
       " '4',\n",
       " '5',\n",
       " '5',\n",
       " '5']"
      ]
     },
     "execution_count": 21,
     "metadata": {},
     "output_type": "execute_result"
    }
   ],
   "source": [
    "rating_list=[]\n",
    "for i in page_url:\n",
    "    driver.get(i)\n",
    "    rating_tags=driver.find_elements_by_xpath(\"//div[@class='_3LWZlK _1BLPMq']\")\n",
    "    rating_tags\n",
    "    for i in rating_tags:\n",
    "        rating_list.append(i.text)\n",
    "rating_list[:100]"
   ]
  },
  {
   "cell_type": "code",
   "execution_count": 22,
   "metadata": {},
   "outputs": [
    {
     "data": {
      "text/plain": [
       "['Brilliant',\n",
       " 'Simply awesome',\n",
       " 'Perfect product!',\n",
       " 'Worth every penny',\n",
       " 'Fabulous!',\n",
       " 'Great product',\n",
       " 'Worth every penny',\n",
       " 'Good choice',\n",
       " 'Highly recommended',\n",
       " 'Perfect product!',\n",
       " 'Perfect product!',\n",
       " 'Worth every penny',\n",
       " 'Perfect product!',\n",
       " 'Highly recommended',\n",
       " 'Worth every penny',\n",
       " 'Simply awesome',\n",
       " 'Terrific',\n",
       " 'Highly recommended',\n",
       " 'Nice product',\n",
       " 'Classy product',\n",
       " 'Wonderful',\n",
       " 'Classy product',\n",
       " 'Brilliant',\n",
       " 'Must buy!',\n",
       " 'Good choice',\n",
       " 'Perfect product!',\n",
       " 'Terrific purchase',\n",
       " 'Wonderful',\n",
       " 'Simply awesome',\n",
       " 'Great product',\n",
       " 'Mind-blowing purchase',\n",
       " 'Terrific purchase',\n",
       " 'Simply awesome',\n",
       " 'Good quality product',\n",
       " 'Very poor',\n",
       " 'Best in the market!',\n",
       " 'Perfect product!',\n",
       " 'Must buy!',\n",
       " 'Fabulous!',\n",
       " 'Mind-blowing purchase',\n",
       " 'Mind-blowing purchase',\n",
       " 'Wonderful',\n",
       " 'Worth every penny',\n",
       " 'Great product',\n",
       " 'Very Good',\n",
       " 'Perfect product!',\n",
       " 'Classy product',\n",
       " 'Perfect product!',\n",
       " 'Just wow!',\n",
       " 'Awesome',\n",
       " 'Terrific',\n",
       " 'Terrific purchase',\n",
       " 'Awesome',\n",
       " 'Perfect product!',\n",
       " 'Brilliant',\n",
       " 'Perfect product!',\n",
       " 'Awesome',\n",
       " 'Perfect product!',\n",
       " 'Excellent',\n",
       " 'Not recommended at all',\n",
       " 'Fabulous!',\n",
       " 'Excellent',\n",
       " 'Must buy!',\n",
       " 'Value-for-money',\n",
       " 'Brilliant',\n",
       " 'Terrific purchase',\n",
       " 'Good quality product',\n",
       " 'Perfect product!',\n",
       " 'Value-for-money',\n",
       " 'Just wow!',\n",
       " 'Super!',\n",
       " 'Best in the market!',\n",
       " 'Mind-blowing purchase',\n",
       " 'Excellent',\n",
       " 'Awesome',\n",
       " 'Excellent',\n",
       " 'Pretty good',\n",
       " 'Must buy!',\n",
       " 'Worth every penny',\n",
       " 'Mind-blowing purchase',\n",
       " 'Good quality product',\n",
       " 'Fabulous!',\n",
       " 'Just wow!',\n",
       " 'Super!',\n",
       " 'Awesome',\n",
       " 'Terrific purchase',\n",
       " 'Awesome',\n",
       " 'Decent product',\n",
       " 'Does the job',\n",
       " 'Very poor',\n",
       " 'Wonderful',\n",
       " 'Pretty good',\n",
       " 'Classy product',\n",
       " 'Super!',\n",
       " 'Fabulous!',\n",
       " 'Excellent',\n",
       " 'Best in the market!',\n",
       " 'Wonderful',\n",
       " 'Nice product',\n",
       " 'Good quality product']"
      ]
     },
     "execution_count": 22,
     "metadata": {},
     "output_type": "execute_result"
    }
   ],
   "source": [
    "summary_list=[]\n",
    "for i in page_url:\n",
    "    driver.get(i)\n",
    "    summary_tags=driver.find_elements_by_xpath(\"//p[@class='_2-N8zT']\")\n",
    "    summary_tags\n",
    "    for i in summary_tags:\n",
    "        summary_list.append(i.text)\n",
    "summary_list[:100]"
   ]
  },
  {
   "cell_type": "code",
   "execution_count": 26,
   "metadata": {},
   "outputs": [
    {
     "data": {
      "text/plain": [
       "['The Best Phone for the Money\\n\\nThe iPhone 11 offers superb cameras, a more durable design and excellent battery life for an affordable price.\\n\\nCompelling ultra-wide camera\\nNew Night mode is excellent\\nLong battery life',\n",
       " 'Really satisfied with the Product I received... It’s totally genuine and the packaging was also really good so if ur planning to buy just go for it.',\n",
       " 'Amazing phone with great cameras and better battery which gives you the best performance. I just love the camera .',\n",
       " 'Previously I was using one plus 3t it was a great phone\\nAnd then I decided to upgrade I am stuck between Samsung s10 plus or iPhone 11\\nI have seen the specs and everything were good except the display it’s somewhere between 720-1080 and it’s not even an amoled it’s an LCD display\\nBut I decided to go with iPhone because I have never used an IOS device I have Been an android user from the past 9 years I ordered IPhone 11 (128gb) product red\\nMy experience after using 3 weeks\\n1. The delivery ...\\nREAD MORE',\n",
       " 'This is my first iOS phone. I am very happy with this product. Very much satisfied with this. I love this phone.',\n",
       " 'Amazing Powerful and Durable Gadget.\\n\\nI’m am very happy with the camera picture quality, Amazing face id unlocked in dark room, Strong battery with perfect screen size as you can carry easily in pocket. This is my third iPhone.\\n\\nI shifted from android Samsung Note series to iPhone because of the strong build quality and peace of mind for next 3-4 years.\\n\\nDon’t think to much just go for it and I suggest you to go for minimum 128gb variant or more 256gb.\\n\\nI’ve attached my puppy pics and no fi...\\nREAD MORE',\n",
       " 'i11 is worthy to buy, too much happy with the product. Thank u flipkart I received the item on time..loved it..',\n",
       " 'So far it’s been an AMAZING experience coming back to iOS after nearly a decade but it’s not as versatile as android though phone is sturdy dropped it accidentally a couple of times and nothing happened fortunately camera is awesome',\n",
       " 'iphone 11 is a very good phone to buy only if you can compromise for the display. The display on this is device is pretty good but you can get other options with better displays in this price segment.\\nIf you can survive with an HD+ LCD panel with thicker bezels and a notch up top then this is a very good phone for you.\\nCameras are awesome, battery backup excellent, great performance and a decent premium look. Good job Apple !',\n",
       " 'It’s a must buy who is looking for an upgrade from previous generation of iPhones. If you are using XR then still you can hold on for sometime and upgrade to 2020 model else this phone is a must buy . Camera quality is amazing and wide angle is something to count upon. Performance wise it’s amazing and feels premium while holding in hand. So a big YES for this device. Go for 128 GB variant as the 4K videos will occupy lots of space and the storage can get over very quickly. Try to buy it with...\\nREAD MORE',\n",
       " 'Value for money❤️❤️\\nIts awesome mobile phone in the world ...\\nDisplay was very good and bright ..\\nTrust me freinds you r never regret after Buying..\\nJust go for it....\\nI love this phone and i switch to iphone x to 11',\n",
       " 'Best budget Iphone till date ❤️ go for it guys without second thought. Let me explain you guys about Camera, Display, battery, and performance.\\n\\nCamera: at this price range there is no comparison of camera, you’ll love the picture quality as well as video quality. I am a Vlogger I wanted an iPhone with 4k video by front camera and I got this phone and I am more than happy 😃\\n\\nBattery: I use this phone roughly as I am active social media person and I have a youtube channel. so the battery ba...\\nREAD MORE',\n",
       " \"Iphone is just awesome.. battery backup is very very nice.. continuously for 10 hours we can use it.camera is just awesome.. display is just fab.i love it alot..i had to wait 15 days for it as i pre ordered it..overalll it's worth the price..these all images are clicked by my iPhone..and i love it.\",\n",
       " 'What a camera .....just awesome ..you can feel this iPhone just awesome . Good for gaming also ...try pubg in hd it’s just wow',\n",
       " 'It’s been almost a month since I have been using this phone. I upgraded from an iPhone 8. The main issue with my 8 was battery and this phone is just awesome when it comes to battery. It lasts a day and a half for me with my regular use , internet connected always with 4g\\nCan’t move forward without saying this. Battery of this phone is a life saver when I am traveling or at work when I don’t get the option to charge\\nCamera is superb. Front cam selfies and back cam photos are just awesome.\\n...\\nREAD MORE',\n",
       " 'Excellent camera, good performance, no lag. The lcd display is also good.. but difference come when we watch movie in prime and Netflix, the colours are not vibrant.. as we see in amoled display.. and the charger in box is of 5 watts.. takes more than 3 hours to charge from 0 to 100.. so guys be prepare to buy 18 watts charger . Finally I am an android user, it was my first Iapple phone, I promise u guys the iOS is so smooth.. overall the phone is damn good.... close eyes to buy it.. thanks t...\\nREAD MORE',\n",
       " 'Really worth of money. i just love it. It is the best phone ever.',\n",
       " \"It's my first time to use iOS phone and I am loving my upgradation 😍😍 I love the color, I love the assebility of the phone....I need to learn more about its functionality, but as far as I have seen, it's quite easy and it has a lot of functions to work on, specially if you are a content writer or a blogger you get a lot of content creation platforms and they are really amazing.\\n\\nThis phone not only for good quality photography but a lot of other task too.😍💯\",\n",
       " 'Awesome Phone. Slightly high price but worth. Better than iPhone XR.\\nCamera is superb and wide angle camera is very clear.\\n12MP selfie camera is also very good.\\nA13 Chip gives a very good and smooth performance.',\n",
       " 'Totally in love with this ❤ the camera quality is amazing just love it 😘😘😘 itsss dammnnnnnn amazing... Must buy iPhone 11 this is my best experience ever ☀👌👌🧡🧡🧡🧡🧡 thanku apple ❤',\n",
       " 'This is my first ever I phone. Before this I was using my google nexus 5. But moving from android to iOS is a great experience. It’s worth at this price. I will highly recommend it if you want to move to iOS. The best part of this phone is it’s camera and it’s battery life. This two things have won my heart. I loved it. Happy to have it in my hand. Still exploring its features. And can’t forget to mention Flipkart service. Very prompt service and fast delivery.',\n",
       " 'Superb Product !!!\\nA big and worthy upgrade from mi 3S to iphone 11 .\\nTotally loved it !',\n",
       " 'I have migrated from OP 7pro... and trust me, iPhone 11 is totally worth it.. following are the reasons:-\\n1)there is ABSOLUTELY NO ISSUE WITH THE DISPLAY... its crisp, sharp and I found it to be much much better than OP7 pro. Netflix, Prime video all run crisply... you won’t miss a thing. True Tone works flawlessly...the display brightness is perfect. OP have not calibrated their screens properly.\\n2) iPhone 11 series have really good cameras... others have spoken in depth about them.\\n3) bat...\\nREAD MORE',\n",
       " 'It’s an amazing product from apple and the camera is simply superb. Phone is faster.Night shot is simply superb and detailing and colour differentiation from camera is an added advantage\\n\\nThis review I have written from iPhone 11 only and I am glad to say outside.\\n\\nCons wise if we see HD+ display only, no battery percentage indicator as in older iPhone 8.\\nNo assistive touch control button in it\\nNo oleophobic coating on back panel glass and finger prints are visible but since I bought mint gr...\\nREAD MORE',\n",
       " 'Looking so good 👍 😍 super 👌 stylish 😎 phone\\nClean box 📦 good 👍 delivery 👌 fast delivery\\nOriginal box Original iphone 📱 👌 😍😍😍',\n",
       " 'After 1 month use I found camera quality best compared to my previous Samsung note 10+.Display not good as note 10 also charging too slow.Apple should add fast charger like 11 plus and pro.Best phone for daily use',\n",
       " 'Upgraded from iphone 6 to 11 best phone for iphone users battery is much better than other iphones camera is awesome love to use it.camera is so clear in night.',\n",
       " 'I just directly switch from iphone 6s to iphone 11 .The best premium smartphone I recommend to everyone. Excellent quality and colors the iphone have in 11 series.\\nCamera quality is just awesome and the major feel when we hold in our hands. The sound quality and volume is also higher then the previous models.\\nI will recommend to buy iphone 11 instead of pro models , there is nothing much difference as this model contains everything which fulfill our needs.\\n\\nOnly one thing that I dislike abo...\\nREAD MORE',\n",
       " \"It's very high performances devise i am like the service of flipkart delevary very fast and packing very nice perfect phone\",\n",
       " 'Well you all know the specifications . One of a kind. Best iPhone till date. Many enhancements to the camera app with many options. Love the glass body with matte finish in the lens area on the back. Lovely colours to choose from. Best battery in an iPhone till date, enough to last more than a day in normal usage. I tested my iPhone 11 battery and lasted for than 24 hours after full charge still with 30% battery charge left. Watched movies for some time. Normal usage on calls, browsing, musi...\\nREAD MORE',\n",
       " 'This will help you more. See if you are planning to buy iPhone 11. I will say. Yes. But there are some plans I just want to disclose before you buy. 1) If you are an existing iPhone X/XS/XS Max/ XR user, better you guys do not think it to buy. You guys have more or less better gadget. 2) If you are an android user and planning to buy premium phone. I will suggest them to please buy iPhone instead of buying an Android. I bet you will never go back to android after using IOS. Now I want to shar...\\nREAD MORE',\n",
       " 'The built quality is not very premium.\\nThe battery back is great .\\nThe LCD panel is not so sharp but the brightness level is very High .\\nCamera is super duper awesome.\\nThe red colour which people think is bright is actually very soothing and excellent colour to choose from .\\nThe A13 Bionic chip is really a flagship processor and can beat any phone which even has 12 gb ram .\\nCamera module is very great and looks very stylish.',\n",
       " 'Really good actually this is my first apple product am using its really awesome performance wise excellent. Am really happy with this iphone11',\n",
       " 'it is very good at performance. Camera is best like before and very smooth response even in water. Don’t buy 12 mini buy iPhone 11 , it is far better than 12 mini believe me ! Have a nice day \\uf8ff ☺️',\n",
       " 'Reviewing again after 5 months. At the beginning the battery and performance was good but it degraded soon. Also I was facing heating issues. The mobile will heat up like a stove sometimes. You cannot even play Pubg even in low settings properly, performance is not a problem but heating is. Also if you play that game for 10 mins the brightness will be automatically down due to over heating even when the auto brightness is set to off. This will not be solved even if u manually increase the bri...\\nREAD MORE',\n",
       " 'Great iPhone very snappy experience as apple kind. Upgraded from iPhone 7.\\nPros\\n-Camera top class\\n- Battery top performed\\n-Chipset no need to say as apple kind\\n-Security as you expect from apple\\n- Display super bright industry leading colour\\naccuracy and super responsive\\n-Build quality as expect from apple sturdy\\npremium durable beautiful stylish.\\n-Os most stable os in smartphone industry\\n\\nCons\\n-No 5G\\n-Display is not based on OLED technology\\n-Charger headphones and 1 apple stic...\\nREAD MORE',\n",
       " 'It is just awesome mobile for this price from Apple,\\n\\nAfter 10 days review\\n\\nBattery enough for 1 day even 24*7 Internet will be on and mostly internet usage\\n\\nCamera is just awesome cool , android 64 MP is equal to this just 12 MP\\n\\nA13 Bionic chip will give more high performance without hanging\\n\\nAudio stereo speakers will give Dolby atoms sound with crystal clear\\n\\nVideo recording is like cinematic shots of every sec can be a 4K 60fps. Just awesome this phone\\niPhone 11 loved one',\n",
       " 'Best Apple iPhone that i have bought at a very reasonable price, camera quality is next level just awesome n of superior quality android phones not even close(RIP) to that and also battery is really good but packaging by Flipkart of iPhone was very poor of such a expensive product, firstly im bit worried about the quality of product if i purchased it through online how was the product but i think now this was mine best decision to bought it through Flipkart online because i got genuine Apple...\\nREAD MORE',\n",
       " \"I can say I'm damn impressed with iPhone 11. As they says iPhone 11 have the toughest glass ever in the smartphone which you'll find on the front and back and it's totally smooth. The fit and finish is full apple quality - there's no sense that any cheaping out has happened in the construction. Without saying it's camera features this review won't complete. The iPhone 11 has a dual camera system, consisting of a wide angle len's that's pretty much same as found on the iPhone XR last year, but...\\nREAD MORE\",\n",
       " 'Best Quality Product OF iPhone Series , Sound Quality & Camera quality is very awesome, Battery Life is very Sufficient for 24 hr Backup With Full Internet Access , I love this this Product too much , It is very fast & making me Very fast in all my daily Routine\\nHighlights;\\n1.Camera: 5 STAR\\n2.Video Recording: 5 star\\n3.Night mODE sHOOTING & Camera:4 star\\n4. Audio Quality: Awesome\\n5. Battery : 5 Star\\n6. Touch:5 Star\\n7. Processor: Very Fast\\nThe M...\\nREAD MORE',\n",
       " 'First thanks to Flipkart for this amazing deal and phone is outstanding. I upgraded from iPhone 7 and this is like very big upgrade. But the packaging was very basic I expected a good packaging as they only wrapped one layer of bubble wrap which I don’t think is enough to protect this expensive phone. And I recommend this phone and seller as well.\\n\\nAnd I’m posting this review after using it for 4 days.',\n",
       " 'Superfast delivery by Flipkart. Thanks.\\n\\n1. iPhone 11 is a pretty solid phone for the money you are paying.\\n2. All the bad reviews about the display is confusing. It’s not that bad.\\n3. I switched from a Oneplus 7t. I have no complaints about the display quality of iPhone. Yes, it’s not OLED, so, we are missing on the deep blacks. But that’s it. It is a very colour accurate display. Gets adequately bright and I could not find any pixelation.\\n4. Performance is one of the best, if not best, in ...\\nREAD MORE',\n",
       " 'Smooth like butter, camera like fantabulous, sound is crystal clear & its red color is damn attractive, i am just loving it. Must buy if you love photography.\\n\\nLucky to get it in sale, thank you Flipkart.',\n",
       " \"Again back to apple iphone after a gap of 2-3 years. It's pleasure to use iOS and the quality product by Apple. Iphone 11 still works like a beast in 2021 also. It really capable of doing day to day usage as well as hard core gaming. Battery is awesome. I'm really too much satisfied with it. Apart fto the very gorgious IPS LCD (AMOLED will be better) everything is mind boggling. Iphone💕.\",\n",
       " 'impressive super phone and best in class camera ,sound and face unlock is super fast just see and phone is unlock and fast in daily apps use',\n",
       " 'Battery backup is extraordinary, camera is decent & performance offered by A13 bionic is awsome. The display is good in practical usage like the visibility of display is very good in direct sun light compare to pro models. Iam extremely satisfied for the money I spent.',\n",
       " 'Well while switching from android to iOS the first thing you need to be careful about is that you will loose all your whatsapp chat backups as both are different operating systems. Camera clarity is awesome and though being an lcd screen clarity and resolution is good. Battery backup is also good unlike previous gen iPhone. So far the experience is good will Padre after a few months of usage.\\n\\nP.S the black is more of a dark grey shade and not jet black',\n",
       " 'In love with this iphone great performance,camera ,battery everything. Go for it have a uncompareble battery backup, no doubts in iPhone camera here You can see the picture which is shot on my iPhone In love with this iphone great performance,camera ,battery everything. Go for it have a uncompareble battery backup, no doubts in iPhone camera here You can see the picture which is shot on my iPhone In love with this iphone great performance,camera ,battery everything. Go for it have a uncompare...\\nREAD MORE',\n",
       " 'Best in class. Battery backup is good especially when you play games like Pubg COD. But it is sort of heavy when you hold in hands. Portrait mode is best to click pictures. Stage light effect is awesome. Try to click photos outside in nature because photos inside home or room will not give you the quality in any phone even in DSLR.',\n",
       " 'Very excited to have this phone. This phone has the real power unlike the android phones having SD 855 . The battery life is very good and the camera quality is excellent as comapred to redmi and other phones except google pixel. I M enjoying every single bit of it. Would recommed only if you have the budget.',\n",
       " \"I upgraded (downgraded?) from my iPhone X since the phone fell down and I didn't want to repair the screen. The box that the phone came in was super slim and I was worried that there'd be no 5W charger with it and my fears were confirmed. However, thankfully I had the 18W USB-C PD charger from Apple which I bought for my iPhone X and it worked perfectly. The charging time is as lethargic as ever though and it takes about 1:30 mins or even 2 hours depending on charge remaining. I'll list some ...\\nREAD MORE\",\n",
       " 'Its Very awesome product working and good camera quality and all about best product and also flipkart is very great deal and offer nice price',\n",
       " 'I am using this phone for 5 days and its one of the best camera out there ❤️ the screen is not oled and i am coming from iphone xs so its little bit not up to the mark i would say\\nBut overall value for money💕😍the battery back up is far better than my iphone xs and its worth in my apple ecosystem💫❤️if u are an apple User and have the eco system then go for it❤️though i will be getting the new iphone but its pretty good💫',\n",
       " 'Best and amazing product.....phone looks so premium.... battary is also good as expected .... Wide angle camera is so addictive ...if you are a IOS lover....then this phone will be the best choice for you all!!💯🔥',\n",
       " 'Excellent camera and display touching very nice and smooth very improvement against iPhone XR and new processor is very fast',\n",
       " 'Awesome purchase. Amazing phone with good battery backup. It’s a top notch device. White colour looks amazing. Phone has a few extra feature than iPhone XR. Overall, this is value for money',\n",
       " 'Always love the apple products, upgraded from old iPhone 6S plus to this after having my first baby. I just love to click baby’s photos with it. Overall I just love this phone. Battery back up is okay, sound quality is good. Haven’t tested yet waterproof yet. Only one thing I hate is apple could have given charger & headphones in box.',\n",
       " 'Value for money\\n5 star rating\\nExcellent camera\\nBattery backup full day in single charge.\\n\\nTougher and water resistant design, glossy back.\\nThe screen has excellent brightness and contrast.\\nApple A13 Bionic is the fastest smartphone chip on the planet.\\nExcellent battery life, fast charging support.\\nStereo speakers with great quality.',\n",
       " 'Amazing camera and feel super machine I am not describe my feeling but this is amazing Phone I am so lucky I have this',\n",
       " 'They are selling cheep quality items. There is a black line on the edge of the display. Waiting for the replacement..\\n\\nUpdate:today I got the replacement from flipkart.. The second one is nice and the display and camera quality is much better than the previous one.. Thanks for the support',\n",
       " 'awesome phone to have. it has got many smart features apart from mind blowing looks, camera, display, battery and sound. have fallen in love with this phone. must buy phone if you have got enough money. thanks to flipkart and apple of course..',\n",
       " 'Its a fabulous mobile look awesome performance unbeaten camera like dslr battery good i think this is a beast of mobile',\n",
       " 'Dear friends... I want to share my experience with you about this amazing I phone 11....this is my first iPhone and special things about this mobile is it has great camera, battery backup and awesome display.... I mean everything is perfect.loved it 👍👍👍',\n",
       " \"Just got this iphone 11\\nAnd it is most powerful mobile phone I have used ever\\n\\nSo,go for it if you want a phone with best specification like camera,battery backup,display, A13 bionic chip\\n\\nThat's my review about this phone but yours can be differ from me....\",\n",
       " 'Amazing phone and on great deal I received with super fast delivery by Flipkart...',\n",
       " 'finally an iPhone with very nice battery backup. update from iPhone 7 and happy to have it. camera is not up to the mark in low light but overall a recommended phone if your budget allows 😀',\n",
       " \"I'm switching this phone to oppo reno 10x zoom\\nIt's really impressive\\nRarely I'm missing smooth display touch response like oppo reno but\\nI really loved it.\\nCamera really impressive\",\n",
       " 'Worth the money’ starting first from its performance it beats out all phones , second the smoothness of camera is awesome, contrast ratio is much than expected. Price will not matter if u r a quality person, if not other phones are available with better discount',\n",
       " \"I'm Really happy with the product\\nDelivery was fast as well\\n..it was a gift for my sister and she loved it so much.\",\n",
       " 'Great iphone.\\nI am writing this review after 2 months of usage.\\nCamera is excellent, especially the nightmode\\nDisplay perfect\\nBattery backup awesome\\nSound quality very good\\nOverall Apple gives you a perfect iphone in this range.\\nReally in love with iPhone 11',\n",
       " 'Did an upgrade from 6s plus to iphone 11.\\nAo far the experience is well and good. Felt smoother than 6s plus. The camera quality is superb. Battery backup is descent. Not a heavy user, and gets power more than a day. Go for it if you need an alrounder iphone in a competitve price.',\n",
       " 'Damn this phone is a blast . Upgraded from android to ios and is a duperb experience. Battery backup is top notch and display also pretty good',\n",
       " 'awesome Phone Smooth Touch Too good Sexyy looks one word Awesome',\n",
       " \"Just go for it.\\nThis phone is really amazing. I ordered it for my wife and we click photos on this thing which are better than dslr. I own OnePlus 6t but it's camera sucks. iPhone is really amazing when it comes to camera. It's worth spending 50k on this. Cons- only display is lcd. While using u don't feel it but if u compare with other phone then u can see difference quite easily.\\nChanging from Android to iphone is bit difficult coz most of things u don't know but I liked it. Some of the a...\\nREAD MORE\",\n",
       " 'I dreamt about this day from a long time.... Getting an iPhone with my own money.... Super happy and worth spending every penny',\n",
       " \"It was amazing experience for me. Honestly i am using iPhone first time so I don't have that much past experience about that. But after using 7 days this mobile i want to give some honest feedback.\\n1- Display 9 out of 10\\n2- Camera 9.5 out of 10\\n3- Battery 7 out of 10\\n4- Performance 9.5 out of 10\\n5- Features & Functions 10 out of 10\\n6- Outer looks and colour 10 out of 10\\nRest i think i will understand after using this for few months.\\nI will highly recommend you guys if you have budget then you...\\nREAD MORE\",\n",
       " \"I've used this phone for over a month now and here are my takeaways.\\nI would like to first talk about the best things about this phone and then the cons of it.\\n\\nPros:\\nThis phone is a performance beast. It handles large games and applications effortlessly and you won't find any stutters or lags while playing graphic intensive games like pubg, cod , mortal kombat and asphalt.\\n\\nThis phone has only 4gb ram and yet the ram management is amazing, it can keep 3 heavy games in memory without reload...\\nREAD MORE\",\n",
       " 'I rate this product 5* as it has got amazing user experience with the best performing A13 bionic processor. The screen responds and graphics rendering is top notch. With casual gaming and internet browsing, the battery lasts for approx. 1 day. Camera is very good. You will fall in love with the portrait mode. You can call me a loyal Apple customer or whatever but I won’t stop praising the products and overall experience. That user experience matters and is worth every penny you pay.\\n\\nBelow ar...\\nREAD MORE',\n",
       " 'Undoubtedly Iphone 11 is the most successful model till now and its performance is extraordinary and the security features are very impressive, display is more vibrant sound quality Camera Quality 5*****, but Iphone should add accessories too and act like scrooge.',\n",
       " 'Absolutely powerful gadget. Loved it’s look! Soo glassy and classy. I would definitely recommend this model of Apple. Only disappointed with the 5W charger, one should purchase an 18W adapter for fast charging. Though battery backup is great. Bought it in September 2020, reviewing after so long so I’m gonna put the genuine review here.✅',\n",
       " 'I was torn between the oneplus 8 pro and the iphone 11. I had to shell out extra money for this, but I say if you can afford it, this truely is the best package.\\nMind blowing camera, battery and overall performance. Face Id works like magic even in complete darkness without firing up the screen brightness. The phones with in display fingerprint scanners do this at night time and it really burns your eyes.\\nI wanted the oneplus for its display but tbh the OLEDs on oneplus is really bad. Flick...\\nREAD MORE',\n",
       " 'I purchased the iPhone 11 a month back. I must say Apple has impressed me yet again . I have been an Apple user for past 5 years . The phone is power packed with amazing features . What impressed me the most was the battery backup the phone offers . Battery can easily run upto 1.5 days in single charge with moderate to\\nHeavy usage . If you’re looking for a value for money device , I don’t see any other phone in the price range which can match the iPhone 11 .\\nOne thing I didn’t like was that ...\\nREAD MORE',\n",
       " 'The ultimate performance\\nCamera is superb\\nThe battery backup also very good i never saw iphone gives this much of battery backup\\nIf any one wana buy iphone 11 definitely i will recommend this mobile\\nIt has the better battery and powerfull processer peak performance glorious camera and the display also 100% high quality lcd display if u had money for for 12 if u dont wana invest much money on that then go for iphone 11 it has maximum same specs only main difference between the 12 and 11 is...\\nREAD MORE',\n",
       " \"It's a great phone. From camera to display everything is best for the price.\\nBest camera , best performance. I think everyone should buy it . This phone has best battery life so far in iphone series which I had used earlier. Happy to have it. Thanks Flipkart\",\n",
       " 'Can’t beat the software and hardware integration of apple.\\nPerforms like a beast. Great quality camera\\n6-7 hours screen on time which is good. Nothing much to complaint about the screen. Good connectivity speeds.\\nGreat buy and Flipkart’s delivery top notch as usual',\n",
       " 'I use a Note10+ and have been using both iOS and Android devices.\\n\\nCamera has really good features and portraits are super good, better than Samsung flagship. Overall camera setup can still be enhanced and hopeful for better upgrades on software in next release\\n\\nOperating system is quite a breeze and user experience of daily usage is very high as compared to Android. I moved to iOS very swiftly in 2 days for all my office work from Note10+\\n\\nBattery holds up quite well with 4 hrs of call and ...\\nREAD MORE',\n",
       " 'The phone is completely good\\nAs far as camera Apple is king of it\\nAnd its a beast in performance\\nAnd the battery is pretty good too',\n",
       " 'Everything u ll like it when u use this iPhone. Simple changes only not many to lower models but it’s nice to use. Little heavy compared to previous models like 7,8',\n",
       " \"phone is good but in display is 720p lcd in this price range we can get full hd OLED displays with higher refresh rate processor is very good camera is nice but looks kind of oldish in front of todays phone also there's no charging in box had to buy it seperately\",\n",
       " 'Please DONT buy from here,\\n\\nI purchased Apple iPhone 11. with an exchange of IPhone 7, the exchange did not go well, iPhone 7 had a small scratch out side screen which i could never identify till date, but the FLIPKART person could, so he reduced 50% from exchange rate. I decided not to trade in, but paid money.\\n\\niPhone 11 Detail Below\\n---------------------------------------------\\nIt came with no charging, then i have put for charging, it took lot of time for charging, the phone also showe...\\nREAD MORE',\n",
       " 'Nice value for money good and best price I phone mind blowing camera processor very fast other android mobile I am happy India top selling phone 2020',\n",
       " 'I was using Iphone 6s and also Oneplus 6t. Both mobiles were perfectly alright in Photos, gaming, and smooth interface . My 6s mobile getting battery issue. thought upgrade to 11. Really like this mobile of its Internal storage (compare to 6s) , camera and its touch feeling. Its a worth buying mobile for me.',\n",
       " 'We are on apple ecosystem for almost eight years now with couple of iPads and iPhones, including Xr.\\n\\nBought iPhone 11 as a gift to my daughter who loves it. We chose for a purple coloured one. Believe me it is gorgeous and towards the lighter shade. Dazzling and brilliant!\\n\\nThe phone is great and does excellent RAM management like any other Apple device.\\n\\nThe screen, though a LCD and lesser ppi as compared to other flagship phones of competitor brands, is a delight to watch with perfect re...\\nREAD MORE',\n",
       " 'This is my first ever iPhone.\\nAnd I truly don’t regret switching to IOS from my Android.\\n\\nIt is easily an alternative to a DSLR camera.\\nIf you’re obsessed with photos and videos, just don’t think twice or don’t compare to other androids(Samsung S10 lite or OnePlus 8/8T), as it’s far better from them in every field.\\nComparing will only make you confused.\\n\\nI am getting an average Screen on Time of around 10 hours with 30 percent left. I haven’t let my device discharged below 30 % as it aff...\\nREAD MORE',\n",
       " 'Everything is perfect pictures come out so clearly and at first I wasn’t sure when I got it then when I started to use it and get the hang of it it was amazing!! I can’t wait to see what the next future phones will be like. The screen display on this bad boy are unbelievable they are so clear and never fail me. The performance is super cool there is a lot of cool features as well I like this phone because I feel that it is easy to use and one of my favorite things about this phone is the Face...\\nREAD MORE',\n",
       " 'Value for money product. This iphone 11 is really amazing. Again nice release by apple. Great camera, battery backup is excellent. I just love this phone',\n",
       " \"The best all rounder iphone. Flipkart is doing a great job. They're delivery services are blazing fast. I got delivery on the same day. Genuine Apple Product. Working great. Talking about review There's no need of review for iphones. They're simply the best.\",\n",
       " \"I genuinely liked it. One of the best mobile phones I have used. It's sho smooth and it's security is very astonishing. Plus it has a very good camera quality. so overall it's a win win.\",\n",
       " \"If you are looking for a premium phone under 55k, this is the one for you.Got the iPhone 11 during the Republic day sale. Performance is top notch in this price range. Camera's do a perfect job in taking good quality photos and videos. Battery backup too is satisfactory. Writing this review after using for a week. Any further observations would be updated.\",\n",
       " 'Awesome camera, smooth and fast UI, display is great (though not LED) but the black area at the top could have been reduced. Battery remains a day even if used heavily. Charger in the box is ok, but 12 or 18W could have been nothing like anything. Overall an excellent product and comfortable to use. I have got it almost a month back and so far so good.']"
      ]
     },
     "execution_count": 26,
     "metadata": {},
     "output_type": "execute_result"
    }
   ],
   "source": [
    "fullreview_list=[]\n",
    "for i in page_url:\n",
    "    driver.get(i)\n",
    "    fullreview_tags=driver.find_elements_by_xpath(\"//p[@class='_2-N8zT']\")\n",
    "    fullreview_tags\n",
    "    for i in fullreview_tags:\n",
    "        fullreview_list.append(i.text)\n",
    "fullreview_list[:100]"
   ]
  },
  {
   "cell_type": "markdown",
   "metadata": {},
   "source": [
    "### Q8: Scrape data for first 100 sneakers you find when you visit flipkart.com and search for “sneakers” in the search field."
   ]
  },
  {
   "cell_type": "code",
   "execution_count": 31,
   "metadata": {},
   "outputs": [],
   "source": [
    "#lets first connect to web driver\n",
    "driver=webdriver.Chrome(\"chromedriver.exe\")"
   ]
  },
  {
   "cell_type": "code",
   "execution_count": 32,
   "metadata": {},
   "outputs": [],
   "source": [
    "url='https://www.flipkart.com/'\n",
    "driver.get(url)"
   ]
  },
  {
   "cell_type": "code",
   "execution_count": 33,
   "metadata": {},
   "outputs": [
    {
     "data": {
      "text/plain": [
       "<selenium.webdriver.remote.webelement.WebElement (session=\"29f3bdba9479036b805e88f4c74befc2\", element=\"62590c16-0fb2-4a27-bab4-9482e67dbb2e\")>"
      ]
     },
     "execution_count": 33,
     "metadata": {},
     "output_type": "execute_result"
    }
   ],
   "source": [
    "search_product=driver.find_element_by_xpath('//input[@class=\"_3704LK\"]')\n",
    "search_product"
   ]
  },
  {
   "cell_type": "code",
   "execution_count": 35,
   "metadata": {},
   "outputs": [],
   "source": [
    "#write on search bar\n",
    "search_.send_keys(\"sneakers\")"
   ]
  },
  {
   "cell_type": "code",
   "execution_count": 38,
   "metadata": {},
   "outputs": [],
   "source": [
    "search_btn=driver.find_element_by_xpath(\"//button[@class='L0Z3Pu']\")\n",
    "search_btn.click()"
   ]
  },
  {
   "cell_type": "code",
   "execution_count": 39,
   "metadata": {},
   "outputs": [
    {
     "data": {
      "text/plain": [
       "[<selenium.webdriver.remote.webelement.WebElement (session=\"29f3bdba9479036b805e88f4c74befc2\", element=\"6195e13c-14c3-4b91-9e43-a0d49f8ffdd0\")>,\n",
       " <selenium.webdriver.remote.webelement.WebElement (session=\"29f3bdba9479036b805e88f4c74befc2\", element=\"5f5d3a6c-92cb-440e-a20e-702c9158d0aa\")>,\n",
       " <selenium.webdriver.remote.webelement.WebElement (session=\"29f3bdba9479036b805e88f4c74befc2\", element=\"a0938bb9-065f-4234-b3f5-3ee7e7cf0c1b\")>,\n",
       " <selenium.webdriver.remote.webelement.WebElement (session=\"29f3bdba9479036b805e88f4c74befc2\", element=\"88a627ab-0abf-443b-a6a7-a5c60bff4f42\")>,\n",
       " <selenium.webdriver.remote.webelement.WebElement (session=\"29f3bdba9479036b805e88f4c74befc2\", element=\"5d0c129d-1d57-4376-9234-943012940052\")>,\n",
       " <selenium.webdriver.remote.webelement.WebElement (session=\"29f3bdba9479036b805e88f4c74befc2\", element=\"a33a0f2d-20b1-41c8-bcdb-5ab9b1edf92f\")>,\n",
       " <selenium.webdriver.remote.webelement.WebElement (session=\"29f3bdba9479036b805e88f4c74befc2\", element=\"9cfeef01-a251-44e3-95ca-a7603944fbf3\")>,\n",
       " <selenium.webdriver.remote.webelement.WebElement (session=\"29f3bdba9479036b805e88f4c74befc2\", element=\"7a1a920c-ce46-4331-9004-ab8c51050538\")>,\n",
       " <selenium.webdriver.remote.webelement.WebElement (session=\"29f3bdba9479036b805e88f4c74befc2\", element=\"e32ca2be-6f19-4e7e-92eb-8d43477e977c\")>,\n",
       " <selenium.webdriver.remote.webelement.WebElement (session=\"29f3bdba9479036b805e88f4c74befc2\", element=\"8b3e6078-cbc6-4e00-bf04-d56a583129a2\")>,\n",
       " <selenium.webdriver.remote.webelement.WebElement (session=\"29f3bdba9479036b805e88f4c74befc2\", element=\"430b3835-6a1a-466b-85d6-55f0624a1997\")>,\n",
       " <selenium.webdriver.remote.webelement.WebElement (session=\"29f3bdba9479036b805e88f4c74befc2\", element=\"e9b0ed7b-049a-40ec-a45d-4f3a672c5f86\")>,\n",
       " <selenium.webdriver.remote.webelement.WebElement (session=\"29f3bdba9479036b805e88f4c74befc2\", element=\"aea44c76-fe49-4621-abc3-90c7ec7b7e83\")>,\n",
       " <selenium.webdriver.remote.webelement.WebElement (session=\"29f3bdba9479036b805e88f4c74befc2\", element=\"3ae63db5-82e5-4b52-bc7a-f8c3e4726b14\")>,\n",
       " <selenium.webdriver.remote.webelement.WebElement (session=\"29f3bdba9479036b805e88f4c74befc2\", element=\"6fa39a98-f70e-4f8b-83f5-b9a9e5f1dea5\")>,\n",
       " <selenium.webdriver.remote.webelement.WebElement (session=\"29f3bdba9479036b805e88f4c74befc2\", element=\"cd0bb29d-a23f-49f6-bafd-7279ea0c1885\")>,\n",
       " <selenium.webdriver.remote.webelement.WebElement (session=\"29f3bdba9479036b805e88f4c74befc2\", element=\"9e852420-dfb3-47e7-97a1-46823e4aeb3b\")>,\n",
       " <selenium.webdriver.remote.webelement.WebElement (session=\"29f3bdba9479036b805e88f4c74befc2\", element=\"7e8f20ac-e5fb-467c-b169-9350feff94c5\")>,\n",
       " <selenium.webdriver.remote.webelement.WebElement (session=\"29f3bdba9479036b805e88f4c74befc2\", element=\"806aa4ca-9546-4ee6-a796-2f93e63d9f62\")>,\n",
       " <selenium.webdriver.remote.webelement.WebElement (session=\"29f3bdba9479036b805e88f4c74befc2\", element=\"b0a1b21b-f764-40ac-92d6-f4f64962cabc\")>,\n",
       " <selenium.webdriver.remote.webelement.WebElement (session=\"29f3bdba9479036b805e88f4c74befc2\", element=\"eaa257fc-c4e0-4b77-b45e-8c80c04432b8\")>,\n",
       " <selenium.webdriver.remote.webelement.WebElement (session=\"29f3bdba9479036b805e88f4c74befc2\", element=\"0166ca96-bd93-484a-8921-6b66ca5a631c\")>,\n",
       " <selenium.webdriver.remote.webelement.WebElement (session=\"29f3bdba9479036b805e88f4c74befc2\", element=\"15fe8dc2-c495-422d-b8e5-782ec48b6682\")>,\n",
       " <selenium.webdriver.remote.webelement.WebElement (session=\"29f3bdba9479036b805e88f4c74befc2\", element=\"0c40118e-3541-4835-84b0-895df55aa4c1\")>,\n",
       " <selenium.webdriver.remote.webelement.WebElement (session=\"29f3bdba9479036b805e88f4c74befc2\", element=\"3a331e3c-039e-4206-8db2-7939cb8f418e\")>,\n",
       " <selenium.webdriver.remote.webelement.WebElement (session=\"29f3bdba9479036b805e88f4c74befc2\", element=\"422e1f9e-276b-4dfb-87e1-ce8fdcb40c70\")>,\n",
       " <selenium.webdriver.remote.webelement.WebElement (session=\"29f3bdba9479036b805e88f4c74befc2\", element=\"3069b498-5c5a-41f0-a5ac-35cbe51fec1b\")>,\n",
       " <selenium.webdriver.remote.webelement.WebElement (session=\"29f3bdba9479036b805e88f4c74befc2\", element=\"d3c3078b-97ec-45e4-867d-5e8e245cfe5e\")>,\n",
       " <selenium.webdriver.remote.webelement.WebElement (session=\"29f3bdba9479036b805e88f4c74befc2\", element=\"b0b7e4de-754f-437c-8907-f4d8ebe53bb6\")>,\n",
       " <selenium.webdriver.remote.webelement.WebElement (session=\"29f3bdba9479036b805e88f4c74befc2\", element=\"f5e23649-a93c-4e61-8702-2bfe28a207a8\")>,\n",
       " <selenium.webdriver.remote.webelement.WebElement (session=\"29f3bdba9479036b805e88f4c74befc2\", element=\"42127a2f-db61-46c7-b3aa-a4156b747ded\")>,\n",
       " <selenium.webdriver.remote.webelement.WebElement (session=\"29f3bdba9479036b805e88f4c74befc2\", element=\"584d50ce-71d2-4c88-939e-dfd8c4d589df\")>,\n",
       " <selenium.webdriver.remote.webelement.WebElement (session=\"29f3bdba9479036b805e88f4c74befc2\", element=\"eeb6b7b6-1bbb-4895-b0de-2530a75a12be\")>,\n",
       " <selenium.webdriver.remote.webelement.WebElement (session=\"29f3bdba9479036b805e88f4c74befc2\", element=\"5414b56a-059d-4b00-b46d-d137b7baa3a8\")>,\n",
       " <selenium.webdriver.remote.webelement.WebElement (session=\"29f3bdba9479036b805e88f4c74befc2\", element=\"8b0a3498-5095-4222-9e5e-a1a2aab1a700\")>,\n",
       " <selenium.webdriver.remote.webelement.WebElement (session=\"29f3bdba9479036b805e88f4c74befc2\", element=\"394e6f04-7f01-460f-a257-2f1415567afc\")>,\n",
       " <selenium.webdriver.remote.webelement.WebElement (session=\"29f3bdba9479036b805e88f4c74befc2\", element=\"0713ce40-f90f-4d76-b879-606c0e8c6f50\")>,\n",
       " <selenium.webdriver.remote.webelement.WebElement (session=\"29f3bdba9479036b805e88f4c74befc2\", element=\"6a0b3a3f-4855-4468-bd61-55cf31c8f15d\")>,\n",
       " <selenium.webdriver.remote.webelement.WebElement (session=\"29f3bdba9479036b805e88f4c74befc2\", element=\"d0619d0d-759a-44b8-98d9-84d940d0d8e4\")>,\n",
       " <selenium.webdriver.remote.webelement.WebElement (session=\"29f3bdba9479036b805e88f4c74befc2\", element=\"63f0aac4-df0a-4abf-9844-8888c36efb5c\")>]"
      ]
     },
     "execution_count": 39,
     "metadata": {},
     "output_type": "execute_result"
    }
   ],
   "source": [
    "brand_tags=driver.find_elements_by_xpath(\"//div[@class='_2WkVRV']\")\n",
    "brand_tags"
   ]
  },
  {
   "cell_type": "code",
   "execution_count": 40,
   "metadata": {},
   "outputs": [
    {
     "data": {
      "text/plain": [
       "['Nilatin',\n",
       " 'Shoes Bank',\n",
       " 'Robbie jones',\n",
       " 'CALCADOS',\n",
       " 'KULP',\n",
       " 'Robbie jones',\n",
       " 'PEHANOSA',\n",
       " 'Numenzo',\n",
       " 'Stefano Rads',\n",
       " 'Numenzo',\n",
       " 'bluemaker',\n",
       " 'STRANGER BROTHERS',\n",
       " 'Chevit',\n",
       " 'ASTEROID',\n",
       " 'World Wear Footwear',\n",
       " 'ESSENCE',\n",
       " 'WRIZT',\n",
       " 'Zsyto',\n",
       " 'Robbie jones',\n",
       " 'Chevit',\n",
       " 'T-ROCK',\n",
       " 'Chevit',\n",
       " 'Zsyto',\n",
       " 'Robbie jones',\n",
       " 'believe',\n",
       " 'Chevit',\n",
       " 'Birde',\n",
       " 'Robbie jones',\n",
       " 'HOTSTYLE',\n",
       " 'Absolute comfort',\n",
       " 'India hub',\n",
       " 'Ktiz',\n",
       " 'SCATCHITE',\n",
       " 'bluemaker',\n",
       " 'Kraasa',\n",
       " 'ESSENCE',\n",
       " 'Robbie jones',\n",
       " 'HOTSTYLE',\n",
       " 'World Wear Footwear',\n",
       " 'kardam&sons']"
      ]
     },
     "execution_count": 40,
     "metadata": {},
     "output_type": "execute_result"
    }
   ],
   "source": [
    "brand_list=[]\n",
    "for i in brand_tags:\n",
    "    brand_list.append(i.text)\n",
    "brand_list[:100]"
   ]
  },
  {
   "cell_type": "code",
   "execution_count": 41,
   "metadata": {},
   "outputs": [
    {
     "data": {
      "text/plain": [
       "[<selenium.webdriver.remote.webelement.WebElement (session=\"29f3bdba9479036b805e88f4c74befc2\", element=\"0b87ad77-c3b6-4a52-ae0d-a9785d961796\")>,\n",
       " <selenium.webdriver.remote.webelement.WebElement (session=\"29f3bdba9479036b805e88f4c74befc2\", element=\"3a0da3f9-7037-4f97-8487-0fffe7ab3878\")>,\n",
       " <selenium.webdriver.remote.webelement.WebElement (session=\"29f3bdba9479036b805e88f4c74befc2\", element=\"4cc487ca-1e2c-471f-ad64-3b201c40d754\")>,\n",
       " <selenium.webdriver.remote.webelement.WebElement (session=\"29f3bdba9479036b805e88f4c74befc2\", element=\"34dfd500-8b38-4a70-8c2b-69ffb82ddac2\")>,\n",
       " <selenium.webdriver.remote.webelement.WebElement (session=\"29f3bdba9479036b805e88f4c74befc2\", element=\"63a2f464-e199-47ae-83dc-a43e5731f710\")>,\n",
       " <selenium.webdriver.remote.webelement.WebElement (session=\"29f3bdba9479036b805e88f4c74befc2\", element=\"5b09c507-7fdf-4c34-aa44-6058d9b3f483\")>,\n",
       " <selenium.webdriver.remote.webelement.WebElement (session=\"29f3bdba9479036b805e88f4c74befc2\", element=\"a3e4250f-fe28-4b3b-b5e0-cb5999e8706c\")>,\n",
       " <selenium.webdriver.remote.webelement.WebElement (session=\"29f3bdba9479036b805e88f4c74befc2\", element=\"d6377e87-2b19-4aba-8f6e-1a1a0f1fdb19\")>,\n",
       " <selenium.webdriver.remote.webelement.WebElement (session=\"29f3bdba9479036b805e88f4c74befc2\", element=\"06c39316-3afb-465b-9e2b-a8609b622c7b\")>,\n",
       " <selenium.webdriver.remote.webelement.WebElement (session=\"29f3bdba9479036b805e88f4c74befc2\", element=\"1a2e5039-7342-41b6-a8b2-b82965f78988\")>,\n",
       " <selenium.webdriver.remote.webelement.WebElement (session=\"29f3bdba9479036b805e88f4c74befc2\", element=\"ae4a8c8c-0a79-4a9d-8e29-a9280aea2be5\")>,\n",
       " <selenium.webdriver.remote.webelement.WebElement (session=\"29f3bdba9479036b805e88f4c74befc2\", element=\"80d41453-3fe3-4e10-81f8-977973b11652\")>,\n",
       " <selenium.webdriver.remote.webelement.WebElement (session=\"29f3bdba9479036b805e88f4c74befc2\", element=\"306924c8-4e5e-4592-870f-fee603ac3f4c\")>,\n",
       " <selenium.webdriver.remote.webelement.WebElement (session=\"29f3bdba9479036b805e88f4c74befc2\", element=\"8108df08-af86-46bb-ba01-23a71fbadf17\")>,\n",
       " <selenium.webdriver.remote.webelement.WebElement (session=\"29f3bdba9479036b805e88f4c74befc2\", element=\"94f43655-d142-4e58-ae54-4a55afe11c17\")>,\n",
       " <selenium.webdriver.remote.webelement.WebElement (session=\"29f3bdba9479036b805e88f4c74befc2\", element=\"14eb99ce-f9e5-43ef-b904-0c842a0fad71\")>,\n",
       " <selenium.webdriver.remote.webelement.WebElement (session=\"29f3bdba9479036b805e88f4c74befc2\", element=\"b7a23964-f009-49a2-86ef-ad9533655875\")>,\n",
       " <selenium.webdriver.remote.webelement.WebElement (session=\"29f3bdba9479036b805e88f4c74befc2\", element=\"f9629059-7ada-4134-9ca1-bb7d37808b78\")>,\n",
       " <selenium.webdriver.remote.webelement.WebElement (session=\"29f3bdba9479036b805e88f4c74befc2\", element=\"7ba65f64-bf12-40bc-ad41-be6a6244324f\")>,\n",
       " <selenium.webdriver.remote.webelement.WebElement (session=\"29f3bdba9479036b805e88f4c74befc2\", element=\"6cad2454-8b90-465a-8f7f-b19fbe6c614c\")>,\n",
       " <selenium.webdriver.remote.webelement.WebElement (session=\"29f3bdba9479036b805e88f4c74befc2\", element=\"916e04a9-a0f5-4f41-a29d-5fd703f28813\")>,\n",
       " <selenium.webdriver.remote.webelement.WebElement (session=\"29f3bdba9479036b805e88f4c74befc2\", element=\"14212801-fc90-4d6f-aabb-b2c92e1cbec3\")>,\n",
       " <selenium.webdriver.remote.webelement.WebElement (session=\"29f3bdba9479036b805e88f4c74befc2\", element=\"84965eb0-0842-4411-bfa6-3872ed768b3a\")>,\n",
       " <selenium.webdriver.remote.webelement.WebElement (session=\"29f3bdba9479036b805e88f4c74befc2\", element=\"a191274b-e9ea-414d-a9ae-3ea28e61989e\")>,\n",
       " <selenium.webdriver.remote.webelement.WebElement (session=\"29f3bdba9479036b805e88f4c74befc2\", element=\"752fc8d8-4c96-41e0-9058-a3d93f3c44ee\")>,\n",
       " <selenium.webdriver.remote.webelement.WebElement (session=\"29f3bdba9479036b805e88f4c74befc2\", element=\"de3c2361-8731-4b44-af54-e468be269683\")>,\n",
       " <selenium.webdriver.remote.webelement.WebElement (session=\"29f3bdba9479036b805e88f4c74befc2\", element=\"a69e7bfe-2b33-47c3-af88-d7d4901fe47e\")>,\n",
       " <selenium.webdriver.remote.webelement.WebElement (session=\"29f3bdba9479036b805e88f4c74befc2\", element=\"206df1bd-6e8f-49fb-8acd-7ad7229d9727\")>,\n",
       " <selenium.webdriver.remote.webelement.WebElement (session=\"29f3bdba9479036b805e88f4c74befc2\", element=\"11187130-9739-4473-b46f-198d14e6bec0\")>,\n",
       " <selenium.webdriver.remote.webelement.WebElement (session=\"29f3bdba9479036b805e88f4c74befc2\", element=\"69135d0f-fa4a-4b46-8055-d3b3ee0f9a8a\")>,\n",
       " <selenium.webdriver.remote.webelement.WebElement (session=\"29f3bdba9479036b805e88f4c74befc2\", element=\"27b3a9cf-5d61-46ee-9baf-8be03d2e5e01\")>,\n",
       " <selenium.webdriver.remote.webelement.WebElement (session=\"29f3bdba9479036b805e88f4c74befc2\", element=\"10ad0deb-ead6-4e61-8279-2bda9e05dc71\")>,\n",
       " <selenium.webdriver.remote.webelement.WebElement (session=\"29f3bdba9479036b805e88f4c74befc2\", element=\"ae9109a1-db25-432b-b8e2-783df5624e06\")>]"
      ]
     },
     "execution_count": 41,
     "metadata": {},
     "output_type": "execute_result"
    }
   ],
   "source": [
    "product_discription_tags=driver.find_elements_by_xpath(\"//a[@class='IRpwTa']\")\n",
    "product_discription_tags"
   ]
  },
  {
   "cell_type": "code",
   "execution_count": 42,
   "metadata": {},
   "outputs": [
    {
     "data": {
      "text/plain": [
       "['Black Sneaker For Men Sneakers For Men',\n",
       " \"White Sneaker For Men's/Boy's Sneakers For Men\",\n",
       " 'Sneakers For Men',\n",
       " 'heart beat Sneakers For Men',\n",
       " 'Casual Sneakers Shoes For Men Sneakers For Men',\n",
       " 'Sneakers For Men',\n",
       " 'Sneakers For Men',\n",
       " 'Sneakers For Men',\n",
       " 'casual for men (blue 06) Sneakers For Men',\n",
       " 'Super Stylish & Trendy Combo Pack of 02 Pairs Sneakers ...',\n",
       " \"Original Luxury Branded Fashionable Men's Casual Walkin...\",\n",
       " '5011-Latest Collection Stylish Casual Loafer Sneakers S...',\n",
       " 'Casuals Sneakers For Men',\n",
       " 'Casual Sneakers White Shoes For Men Sneakers For Men',\n",
       " 'Unique & Perfect Collection Combo Pack of 02 Shoes for ...',\n",
       " 'Synthetic Leather Casual Partywear Wedding Sneakers Sho...',\n",
       " 'Super 445 Fashion Sneakers For Men',\n",
       " 'Sneakers For Men',\n",
       " 'Casual Sneakers Green Shoes For Men And Boys Sneakers F...',\n",
       " 'Sneakers for men(black_6) Sneakers For Men',\n",
       " 'Speed Set of 5 Pairs Sneakers Outdoors Casuals for Men ...',\n",
       " 'Combo Pack of 4 Casual Shoes Sneakers For Men',\n",
       " 'Casual Sneakers Green Shoes For Men And Boys Sneakers F...',\n",
       " 'Fashionable casual sneakers shoes Sneakers For Men',\n",
       " 'Rockstyle Trending Multicolor Ultralight canvas Sport/ ...',\n",
       " 'Sneakers Sneakers For Men',\n",
       " 'casual for men (beige 06) Sneakers For Men',\n",
       " 'Series 7 Sneakers For Men',\n",
       " 'Sneakers For Men',\n",
       " 'Casual Sneakers Green Shoes For Men And Boys Sneakers F...',\n",
       " 'Sneakers Sneakers For Men',\n",
       " 'Latest Collection-1227 Stylish Casual Sports Sneakers F...',\n",
       " \"Karda Casual Sneakers and Gym Shoes for Men's and Boys ...\"]"
      ]
     },
     "execution_count": 42,
     "metadata": {},
     "output_type": "execute_result"
    }
   ],
   "source": [
    "product_discription_list=[]\n",
    "for i in product_discription_tags:\n",
    "    product_discription_list.append(i.text)\n",
    "product_discription_list[:100]"
   ]
  },
  {
   "cell_type": "code",
   "execution_count": 44,
   "metadata": {},
   "outputs": [
    {
     "data": {
      "text/plain": [
       "[<selenium.webdriver.remote.webelement.WebElement (session=\"29f3bdba9479036b805e88f4c74befc2\", element=\"3cdeded7-ec27-4ed4-af38-50416a2db69b\")>,\n",
       " <selenium.webdriver.remote.webelement.WebElement (session=\"29f3bdba9479036b805e88f4c74befc2\", element=\"cb033ad6-4eef-4bd9-988d-d9487b3e3063\")>,\n",
       " <selenium.webdriver.remote.webelement.WebElement (session=\"29f3bdba9479036b805e88f4c74befc2\", element=\"808518c3-6502-454e-8ae9-64e8bb76b141\")>,\n",
       " <selenium.webdriver.remote.webelement.WebElement (session=\"29f3bdba9479036b805e88f4c74befc2\", element=\"f22c7c98-c2f1-4181-ab7d-b658192c2dae\")>,\n",
       " <selenium.webdriver.remote.webelement.WebElement (session=\"29f3bdba9479036b805e88f4c74befc2\", element=\"bd5c4e77-352a-4329-bf07-a242c6180b83\")>,\n",
       " <selenium.webdriver.remote.webelement.WebElement (session=\"29f3bdba9479036b805e88f4c74befc2\", element=\"7c106b2e-2dbc-49e1-a008-f38636f8237c\")>,\n",
       " <selenium.webdriver.remote.webelement.WebElement (session=\"29f3bdba9479036b805e88f4c74befc2\", element=\"6ec83eba-de3e-4c4a-8fa7-812bb221029d\")>,\n",
       " <selenium.webdriver.remote.webelement.WebElement (session=\"29f3bdba9479036b805e88f4c74befc2\", element=\"1c4a7e35-0337-4a0a-bb54-51acc1ba903c\")>,\n",
       " <selenium.webdriver.remote.webelement.WebElement (session=\"29f3bdba9479036b805e88f4c74befc2\", element=\"9d842022-2058-4b01-a0cc-15f56d3aa846\")>,\n",
       " <selenium.webdriver.remote.webelement.WebElement (session=\"29f3bdba9479036b805e88f4c74befc2\", element=\"8ee1ac34-4f71-4e05-8d4e-4d03e2920a34\")>,\n",
       " <selenium.webdriver.remote.webelement.WebElement (session=\"29f3bdba9479036b805e88f4c74befc2\", element=\"54fe6b41-be88-45ff-b80b-f06c1edbe015\")>,\n",
       " <selenium.webdriver.remote.webelement.WebElement (session=\"29f3bdba9479036b805e88f4c74befc2\", element=\"e458e8fa-e81f-4e73-97f5-d732d2203773\")>,\n",
       " <selenium.webdriver.remote.webelement.WebElement (session=\"29f3bdba9479036b805e88f4c74befc2\", element=\"c9916ede-d5b4-440b-b1d5-aa108cb03d1e\")>,\n",
       " <selenium.webdriver.remote.webelement.WebElement (session=\"29f3bdba9479036b805e88f4c74befc2\", element=\"5c691ea2-a8a4-429f-999b-b4f7cd43e2cd\")>,\n",
       " <selenium.webdriver.remote.webelement.WebElement (session=\"29f3bdba9479036b805e88f4c74befc2\", element=\"a91278ca-5bcc-4f05-bdc2-ae3ccc039c64\")>,\n",
       " <selenium.webdriver.remote.webelement.WebElement (session=\"29f3bdba9479036b805e88f4c74befc2\", element=\"cb2591db-be78-4f2e-94ab-9e2aa7e7c1d8\")>,\n",
       " <selenium.webdriver.remote.webelement.WebElement (session=\"29f3bdba9479036b805e88f4c74befc2\", element=\"7a958583-69ca-4478-94fb-a3e7bb7921bf\")>,\n",
       " <selenium.webdriver.remote.webelement.WebElement (session=\"29f3bdba9479036b805e88f4c74befc2\", element=\"99f4ff8f-d88a-4f13-abc6-f044556a23cb\")>,\n",
       " <selenium.webdriver.remote.webelement.WebElement (session=\"29f3bdba9479036b805e88f4c74befc2\", element=\"f63cf24c-85ef-4d2d-824a-cc4568cbc4b1\")>,\n",
       " <selenium.webdriver.remote.webelement.WebElement (session=\"29f3bdba9479036b805e88f4c74befc2\", element=\"cb23371e-0a98-4413-bfb8-b214892ac559\")>,\n",
       " <selenium.webdriver.remote.webelement.WebElement (session=\"29f3bdba9479036b805e88f4c74befc2\", element=\"fc981439-ba6b-4a56-9da7-329772a3641f\")>,\n",
       " <selenium.webdriver.remote.webelement.WebElement (session=\"29f3bdba9479036b805e88f4c74befc2\", element=\"09dd22ec-1e01-4b88-9054-bc1d88b29ac7\")>,\n",
       " <selenium.webdriver.remote.webelement.WebElement (session=\"29f3bdba9479036b805e88f4c74befc2\", element=\"78b55fee-76e6-4bc0-b45d-dbae7172228e\")>,\n",
       " <selenium.webdriver.remote.webelement.WebElement (session=\"29f3bdba9479036b805e88f4c74befc2\", element=\"5127bead-db58-4bb0-a6ab-31f0865c0d33\")>,\n",
       " <selenium.webdriver.remote.webelement.WebElement (session=\"29f3bdba9479036b805e88f4c74befc2\", element=\"01e7f859-be32-4935-a463-c7b97ec1cf04\")>,\n",
       " <selenium.webdriver.remote.webelement.WebElement (session=\"29f3bdba9479036b805e88f4c74befc2\", element=\"04c350c6-2c05-4f50-b576-5bf5975be0f0\")>,\n",
       " <selenium.webdriver.remote.webelement.WebElement (session=\"29f3bdba9479036b805e88f4c74befc2\", element=\"6b0154ef-bebb-41e4-b5ba-a7022848567f\")>,\n",
       " <selenium.webdriver.remote.webelement.WebElement (session=\"29f3bdba9479036b805e88f4c74befc2\", element=\"8d76c2fd-c2e8-4649-9fbf-41a95ebc9c83\")>,\n",
       " <selenium.webdriver.remote.webelement.WebElement (session=\"29f3bdba9479036b805e88f4c74befc2\", element=\"18558e1c-ec67-4e29-815d-c07a6151cdb9\")>,\n",
       " <selenium.webdriver.remote.webelement.WebElement (session=\"29f3bdba9479036b805e88f4c74befc2\", element=\"6b795711-faad-43a0-814d-8e9962e68bd5\")>,\n",
       " <selenium.webdriver.remote.webelement.WebElement (session=\"29f3bdba9479036b805e88f4c74befc2\", element=\"43171ac4-d670-4d2e-b78d-da63e6bf55e6\")>,\n",
       " <selenium.webdriver.remote.webelement.WebElement (session=\"29f3bdba9479036b805e88f4c74befc2\", element=\"f4a10768-72f9-4ec2-88f9-511c057ed271\")>,\n",
       " <selenium.webdriver.remote.webelement.WebElement (session=\"29f3bdba9479036b805e88f4c74befc2\", element=\"41debbd7-2b7a-4ea3-984e-f46d4ce1e801\")>,\n",
       " <selenium.webdriver.remote.webelement.WebElement (session=\"29f3bdba9479036b805e88f4c74befc2\", element=\"5b78dbc2-ff92-4f21-9230-f46076a087aa\")>,\n",
       " <selenium.webdriver.remote.webelement.WebElement (session=\"29f3bdba9479036b805e88f4c74befc2\", element=\"aee493d3-f229-4c83-b3ea-a0af271edc3a\")>,\n",
       " <selenium.webdriver.remote.webelement.WebElement (session=\"29f3bdba9479036b805e88f4c74befc2\", element=\"c2acf99f-d7d1-4bab-a7e9-b2c9fae787f7\")>,\n",
       " <selenium.webdriver.remote.webelement.WebElement (session=\"29f3bdba9479036b805e88f4c74befc2\", element=\"60207b39-6a07-4458-88ec-e36efe71a3a9\")>,\n",
       " <selenium.webdriver.remote.webelement.WebElement (session=\"29f3bdba9479036b805e88f4c74befc2\", element=\"f192bb9b-2574-4fc6-a4c2-edc9229b89b7\")>,\n",
       " <selenium.webdriver.remote.webelement.WebElement (session=\"29f3bdba9479036b805e88f4c74befc2\", element=\"1d59951d-f670-49b1-b455-5b927034351d\")>,\n",
       " <selenium.webdriver.remote.webelement.WebElement (session=\"29f3bdba9479036b805e88f4c74befc2\", element=\"ea750842-038d-49e5-be6f-3c3ea8958ec8\")>]"
      ]
     },
     "execution_count": 44,
     "metadata": {},
     "output_type": "execute_result"
    }
   ],
   "source": [
    "discount_tags=driver.find_elements_by_xpath(\"//div[@class='_3Ay6Sb']\")\n",
    "discount_tags"
   ]
  },
  {
   "cell_type": "code",
   "execution_count": 45,
   "metadata": {},
   "outputs": [
    {
     "data": {
      "text/plain": [
       "['65% off',\n",
       " '65% off',\n",
       " '50% off',\n",
       " '62% off',\n",
       " '60% off',\n",
       " '62% off',\n",
       " '50% off',\n",
       " '78% off',\n",
       " '65% off',\n",
       " '62% off',\n",
       " '55% off',\n",
       " '52% off',\n",
       " '62% off',\n",
       " '75% off',\n",
       " '45% off',\n",
       " '60% off',\n",
       " '72% off',\n",
       " '77% off',\n",
       " '50% off',\n",
       " '71% off',\n",
       " '60% off',\n",
       " '₹149 off',\n",
       " '69% off',\n",
       " '50% off',\n",
       " '55% off',\n",
       " '72% off',\n",
       " '65% off',\n",
       " '50% off',\n",
       " '60% off',\n",
       " '60% off',\n",
       " '85% off',\n",
       " '63% off',\n",
       " '58% off',\n",
       " '55% off',\n",
       " '52% off',\n",
       " '60% off',\n",
       " '50% off',\n",
       " '43% off',\n",
       " '51% off',\n",
       " '75% off']"
      ]
     },
     "execution_count": 45,
     "metadata": {},
     "output_type": "execute_result"
    }
   ],
   "source": [
    "discount_list=[]\n",
    "for i in discount_tags:\n",
    "    discount_list.append(i.text)\n",
    "discount_list[:100]"
   ]
  },
  {
   "cell_type": "code",
   "execution_count": 46,
   "metadata": {},
   "outputs": [
    {
     "data": {
      "text/plain": [
       "[<selenium.webdriver.remote.webelement.WebElement (session=\"29f3bdba9479036b805e88f4c74befc2\", element=\"0e2b9372-fd90-407e-a721-3e930a7f08cd\")>,\n",
       " <selenium.webdriver.remote.webelement.WebElement (session=\"29f3bdba9479036b805e88f4c74befc2\", element=\"99c2dca9-130c-4837-976a-c00c07104de4\")>,\n",
       " <selenium.webdriver.remote.webelement.WebElement (session=\"29f3bdba9479036b805e88f4c74befc2\", element=\"7ba55814-c175-48fa-8880-25a45d8f8d8b\")>,\n",
       " <selenium.webdriver.remote.webelement.WebElement (session=\"29f3bdba9479036b805e88f4c74befc2\", element=\"5d07ab05-f4b2-4636-8987-093078c10bfa\")>,\n",
       " <selenium.webdriver.remote.webelement.WebElement (session=\"29f3bdba9479036b805e88f4c74befc2\", element=\"46903eb8-c47d-46a0-94ff-3e3f97d11a91\")>,\n",
       " <selenium.webdriver.remote.webelement.WebElement (session=\"29f3bdba9479036b805e88f4c74befc2\", element=\"b1d7c106-c9df-4fb8-bbe0-668347d476f5\")>,\n",
       " <selenium.webdriver.remote.webelement.WebElement (session=\"29f3bdba9479036b805e88f4c74befc2\", element=\"7775126e-fe2e-4ebb-a52e-fcb8c7649baa\")>,\n",
       " <selenium.webdriver.remote.webelement.WebElement (session=\"29f3bdba9479036b805e88f4c74befc2\", element=\"6c1fcdf4-0dd0-4fd1-babf-12d865b2ef53\")>,\n",
       " <selenium.webdriver.remote.webelement.WebElement (session=\"29f3bdba9479036b805e88f4c74befc2\", element=\"2e5e7b50-f5d0-4ea3-bd6c-189be58d9239\")>,\n",
       " <selenium.webdriver.remote.webelement.WebElement (session=\"29f3bdba9479036b805e88f4c74befc2\", element=\"229ef811-dcd0-43c8-a930-6c4d2e4af898\")>,\n",
       " <selenium.webdriver.remote.webelement.WebElement (session=\"29f3bdba9479036b805e88f4c74befc2\", element=\"129a9801-dd53-4f98-9d9c-d99f8fdc433c\")>,\n",
       " <selenium.webdriver.remote.webelement.WebElement (session=\"29f3bdba9479036b805e88f4c74befc2\", element=\"e4ba1c10-8f54-45fc-8057-f178469e1a42\")>,\n",
       " <selenium.webdriver.remote.webelement.WebElement (session=\"29f3bdba9479036b805e88f4c74befc2\", element=\"1d83ffab-8827-4b95-9521-a03e943edde4\")>,\n",
       " <selenium.webdriver.remote.webelement.WebElement (session=\"29f3bdba9479036b805e88f4c74befc2\", element=\"1041a836-c790-442c-b6e8-397b30e94d1d\")>,\n",
       " <selenium.webdriver.remote.webelement.WebElement (session=\"29f3bdba9479036b805e88f4c74befc2\", element=\"83538b90-3622-4b9f-a96d-c29fd114d10f\")>,\n",
       " <selenium.webdriver.remote.webelement.WebElement (session=\"29f3bdba9479036b805e88f4c74befc2\", element=\"dbd5ffa6-69d9-4d67-88f4-3fcd4dd0e385\")>,\n",
       " <selenium.webdriver.remote.webelement.WebElement (session=\"29f3bdba9479036b805e88f4c74befc2\", element=\"a52b08ce-47d8-43d9-a812-b24f86e42553\")>,\n",
       " <selenium.webdriver.remote.webelement.WebElement (session=\"29f3bdba9479036b805e88f4c74befc2\", element=\"f91ed229-f581-43d1-8ab6-d31912051e0b\")>,\n",
       " <selenium.webdriver.remote.webelement.WebElement (session=\"29f3bdba9479036b805e88f4c74befc2\", element=\"cf771c9b-2ef3-4db1-bfa7-240e456841e1\")>,\n",
       " <selenium.webdriver.remote.webelement.WebElement (session=\"29f3bdba9479036b805e88f4c74befc2\", element=\"b76f69a0-7665-4c97-9c1e-03b37c8bacf2\")>,\n",
       " <selenium.webdriver.remote.webelement.WebElement (session=\"29f3bdba9479036b805e88f4c74befc2\", element=\"fe45f873-c691-40d4-a9f6-4b0d3bda4d1f\")>,\n",
       " <selenium.webdriver.remote.webelement.WebElement (session=\"29f3bdba9479036b805e88f4c74befc2\", element=\"0817aea6-cb3c-4a30-ad76-36b27ad866c2\")>,\n",
       " <selenium.webdriver.remote.webelement.WebElement (session=\"29f3bdba9479036b805e88f4c74befc2\", element=\"e8f5747e-6f3a-4ff6-a901-ee85f7a28193\")>,\n",
       " <selenium.webdriver.remote.webelement.WebElement (session=\"29f3bdba9479036b805e88f4c74befc2\", element=\"9995e80b-ad4b-4ba6-b029-8f251fc69924\")>,\n",
       " <selenium.webdriver.remote.webelement.WebElement (session=\"29f3bdba9479036b805e88f4c74befc2\", element=\"ff82c9eb-949f-4f4f-a38f-1b16576e76f7\")>,\n",
       " <selenium.webdriver.remote.webelement.WebElement (session=\"29f3bdba9479036b805e88f4c74befc2\", element=\"8f33e2f1-f520-40ec-89f1-c8d7c1bd0f6f\")>,\n",
       " <selenium.webdriver.remote.webelement.WebElement (session=\"29f3bdba9479036b805e88f4c74befc2\", element=\"c5057a70-59dd-41b8-98b8-523d91911b7e\")>,\n",
       " <selenium.webdriver.remote.webelement.WebElement (session=\"29f3bdba9479036b805e88f4c74befc2\", element=\"12f75c45-da47-468d-89e0-509512bf58a7\")>,\n",
       " <selenium.webdriver.remote.webelement.WebElement (session=\"29f3bdba9479036b805e88f4c74befc2\", element=\"4bc7ed4d-f69d-412c-9649-2d3f0b0586f4\")>,\n",
       " <selenium.webdriver.remote.webelement.WebElement (session=\"29f3bdba9479036b805e88f4c74befc2\", element=\"1dc81099-7aea-4c5a-8265-8b7658197bd1\")>,\n",
       " <selenium.webdriver.remote.webelement.WebElement (session=\"29f3bdba9479036b805e88f4c74befc2\", element=\"b73c74fe-e304-48fc-9d67-5f20d9d2a626\")>,\n",
       " <selenium.webdriver.remote.webelement.WebElement (session=\"29f3bdba9479036b805e88f4c74befc2\", element=\"4f7bb18a-2420-46df-8498-b79b69c438e2\")>,\n",
       " <selenium.webdriver.remote.webelement.WebElement (session=\"29f3bdba9479036b805e88f4c74befc2\", element=\"a66cf333-02dc-498c-b5f8-4e56ce580af3\")>,\n",
       " <selenium.webdriver.remote.webelement.WebElement (session=\"29f3bdba9479036b805e88f4c74befc2\", element=\"82942ad1-b5f5-43bd-888a-2c9baf3afa03\")>,\n",
       " <selenium.webdriver.remote.webelement.WebElement (session=\"29f3bdba9479036b805e88f4c74befc2\", element=\"2d6c0b8a-fb2f-4f75-9535-5e8fc12badb5\")>,\n",
       " <selenium.webdriver.remote.webelement.WebElement (session=\"29f3bdba9479036b805e88f4c74befc2\", element=\"cc443d8e-0307-412d-8bce-36d184949ffa\")>,\n",
       " <selenium.webdriver.remote.webelement.WebElement (session=\"29f3bdba9479036b805e88f4c74befc2\", element=\"f463103a-a8cc-4981-8813-46f2e387d04c\")>,\n",
       " <selenium.webdriver.remote.webelement.WebElement (session=\"29f3bdba9479036b805e88f4c74befc2\", element=\"88d7847e-fb92-418f-b575-960c5ec88b7c\")>,\n",
       " <selenium.webdriver.remote.webelement.WebElement (session=\"29f3bdba9479036b805e88f4c74befc2\", element=\"2b277635-4c28-43f8-af51-a379ed985142\")>,\n",
       " <selenium.webdriver.remote.webelement.WebElement (session=\"29f3bdba9479036b805e88f4c74befc2\", element=\"c6c7a27d-cfce-4454-b852-12d0b8e70074\")>]"
      ]
     },
     "execution_count": 46,
     "metadata": {},
     "output_type": "execute_result"
    }
   ],
   "source": [
    "prize_tags=driver.find_elements_by_xpath(\"//div[@class='_30jeq3']\")\n",
    "prize_tags"
   ]
  },
  {
   "cell_type": "code",
   "execution_count": 47,
   "metadata": {},
   "outputs": [
    {
     "data": {
      "text/plain": [
       "['₹449',\n",
       " '₹349',\n",
       " '₹499',\n",
       " '₹748',\n",
       " '₹399',\n",
       " '₹379',\n",
       " '₹495',\n",
       " '₹426',\n",
       " '₹242',\n",
       " '₹378',\n",
       " '₹449',\n",
       " '₹475',\n",
       " '₹599',\n",
       " '₹499',\n",
       " '₹273',\n",
       " '₹399',\n",
       " '₹279',\n",
       " '₹298',\n",
       " '₹499',\n",
       " '₹425',\n",
       " '₹398',\n",
       " '₹350',\n",
       " '₹398',\n",
       " '₹499',\n",
       " '₹449',\n",
       " '₹683',\n",
       " '₹698',\n",
       " '₹499',\n",
       " '₹199',\n",
       " '₹199',\n",
       " '₹449',\n",
       " '₹474',\n",
       " '₹419',\n",
       " '₹449',\n",
       " '₹471',\n",
       " '₹399',\n",
       " '₹499',\n",
       " '₹283',\n",
       " '₹240',\n",
       " '₹410']"
      ]
     },
     "execution_count": 47,
     "metadata": {},
     "output_type": "execute_result"
    }
   ],
   "source": [
    "prize_list=[]\n",
    "for i in prize_tags:\n",
    "    prize_list.append(i.text)\n",
    "prize_list[:100]"
   ]
  },
  {
   "cell_type": "markdown",
   "metadata": {},
   "source": [
    "### Q9: Go to the link - https://www.myntra.com/shoes Set Price filter to “Rs. 6649 to Rs. 13099” , Color filter to “Black”,"
   ]
  },
  {
   "cell_type": "code",
   "execution_count": 48,
   "metadata": {},
   "outputs": [],
   "source": [
    "#lets first connect to web driver\n",
    "driver=webdriver.Chrome(\"chromedriver.exe\")"
   ]
  },
  {
   "cell_type": "code",
   "execution_count": 49,
   "metadata": {},
   "outputs": [],
   "source": [
    "url='https://www.myntra.com/shoes'\n",
    "driver.get(url)"
   ]
  },
  {
   "cell_type": "code",
   "execution_count": 50,
   "metadata": {},
   "outputs": [],
   "source": [
    "price_filter=driver.find_element_by_xpath('/html/body/div[2]/div/div[1]/main/div[3]/div[1]/section/div/div[5]/ul/li[2]/label')\n",
    "price_filter.click()"
   ]
  },
  {
   "cell_type": "code",
   "execution_count": 51,
   "metadata": {},
   "outputs": [],
   "source": [
    "color_filter=driver.find_element_by_xpath('/html/body/div[2]/div/div[1]/main/div[3]/div[1]/section/div/div[6]/ul/li[1]/label')\n",
    "color_filter.click()"
   ]
  },
  {
   "cell_type": "code",
   "execution_count": 52,
   "metadata": {},
   "outputs": [
    {
     "data": {
      "text/plain": [
       "[<selenium.webdriver.remote.webelement.WebElement (session=\"62855118c4e3c3bd07ebfc7ee10ddf22\", element=\"52829995-7ca4-4203-ac94-34651b760aaa\")>,\n",
       " <selenium.webdriver.remote.webelement.WebElement (session=\"62855118c4e3c3bd07ebfc7ee10ddf22\", element=\"47cfa761-4780-43ef-ab89-153473ee331a\")>,\n",
       " <selenium.webdriver.remote.webelement.WebElement (session=\"62855118c4e3c3bd07ebfc7ee10ddf22\", element=\"58546eb6-878a-484b-ba44-5c455e753c21\")>,\n",
       " <selenium.webdriver.remote.webelement.WebElement (session=\"62855118c4e3c3bd07ebfc7ee10ddf22\", element=\"6df1be05-f60e-4ca8-9616-08ef1f5d5ace\")>,\n",
       " <selenium.webdriver.remote.webelement.WebElement (session=\"62855118c4e3c3bd07ebfc7ee10ddf22\", element=\"59bb702e-2e85-4544-963d-43aeae18a40d\")>,\n",
       " <selenium.webdriver.remote.webelement.WebElement (session=\"62855118c4e3c3bd07ebfc7ee10ddf22\", element=\"09819fd5-7786-4551-9cbb-b374d5730b7a\")>,\n",
       " <selenium.webdriver.remote.webelement.WebElement (session=\"62855118c4e3c3bd07ebfc7ee10ddf22\", element=\"e63885a8-7eca-4a1d-904c-ddb4f58e562e\")>,\n",
       " <selenium.webdriver.remote.webelement.WebElement (session=\"62855118c4e3c3bd07ebfc7ee10ddf22\", element=\"a44cc7c9-c80b-4144-81ea-808fddf9f27a\")>,\n",
       " <selenium.webdriver.remote.webelement.WebElement (session=\"62855118c4e3c3bd07ebfc7ee10ddf22\", element=\"0be12801-dbf3-4818-9967-768512bc3159\")>,\n",
       " <selenium.webdriver.remote.webelement.WebElement (session=\"62855118c4e3c3bd07ebfc7ee10ddf22\", element=\"c6e3820d-5d45-4268-801d-0957e47f3c94\")>,\n",
       " <selenium.webdriver.remote.webelement.WebElement (session=\"62855118c4e3c3bd07ebfc7ee10ddf22\", element=\"10124cf9-f119-4dc7-8d14-e8b8701e2666\")>,\n",
       " <selenium.webdriver.remote.webelement.WebElement (session=\"62855118c4e3c3bd07ebfc7ee10ddf22\", element=\"3a9467d1-f2a3-4b77-8c61-b30408093c86\")>,\n",
       " <selenium.webdriver.remote.webelement.WebElement (session=\"62855118c4e3c3bd07ebfc7ee10ddf22\", element=\"041e6e03-c1ad-4d12-8b98-0a11e9c0ae89\")>,\n",
       " <selenium.webdriver.remote.webelement.WebElement (session=\"62855118c4e3c3bd07ebfc7ee10ddf22\", element=\"08684e4f-fdcb-44dc-91b3-16d547e23917\")>,\n",
       " <selenium.webdriver.remote.webelement.WebElement (session=\"62855118c4e3c3bd07ebfc7ee10ddf22\", element=\"dfd0e45d-4035-4d4a-989d-55b77d165377\")>,\n",
       " <selenium.webdriver.remote.webelement.WebElement (session=\"62855118c4e3c3bd07ebfc7ee10ddf22\", element=\"37825863-b346-4b06-b439-74e56942ff4a\")>,\n",
       " <selenium.webdriver.remote.webelement.WebElement (session=\"62855118c4e3c3bd07ebfc7ee10ddf22\", element=\"ec3edb0b-8762-41e4-97a2-83bdf3553fbf\")>,\n",
       " <selenium.webdriver.remote.webelement.WebElement (session=\"62855118c4e3c3bd07ebfc7ee10ddf22\", element=\"6b445a04-0498-46a3-a040-3e2cde33708e\")>,\n",
       " <selenium.webdriver.remote.webelement.WebElement (session=\"62855118c4e3c3bd07ebfc7ee10ddf22\", element=\"de4b8f04-319b-4551-ab91-0076396e4276\")>,\n",
       " <selenium.webdriver.remote.webelement.WebElement (session=\"62855118c4e3c3bd07ebfc7ee10ddf22\", element=\"693b7c4e-0b8e-45a1-9215-94283953bb32\")>,\n",
       " <selenium.webdriver.remote.webelement.WebElement (session=\"62855118c4e3c3bd07ebfc7ee10ddf22\", element=\"b094f9a2-da1b-4bc3-8ea9-eba5721bdb5d\")>,\n",
       " <selenium.webdriver.remote.webelement.WebElement (session=\"62855118c4e3c3bd07ebfc7ee10ddf22\", element=\"78f674f0-3e7f-45df-bcbf-52bf795a41d3\")>,\n",
       " <selenium.webdriver.remote.webelement.WebElement (session=\"62855118c4e3c3bd07ebfc7ee10ddf22\", element=\"b7b22c6d-abb2-4fdb-952e-7c584fe79751\")>,\n",
       " <selenium.webdriver.remote.webelement.WebElement (session=\"62855118c4e3c3bd07ebfc7ee10ddf22\", element=\"e15added-0aed-4d9a-aa25-35cbe4a236db\")>,\n",
       " <selenium.webdriver.remote.webelement.WebElement (session=\"62855118c4e3c3bd07ebfc7ee10ddf22\", element=\"c3e79cc0-0774-41f5-a0f0-561f99443969\")>,\n",
       " <selenium.webdriver.remote.webelement.WebElement (session=\"62855118c4e3c3bd07ebfc7ee10ddf22\", element=\"31ca4ddb-2d12-4032-85d1-a2e8d119f5ee\")>,\n",
       " <selenium.webdriver.remote.webelement.WebElement (session=\"62855118c4e3c3bd07ebfc7ee10ddf22\", element=\"c4ca96c7-4e15-4364-93a8-44bca1dcc156\")>,\n",
       " <selenium.webdriver.remote.webelement.WebElement (session=\"62855118c4e3c3bd07ebfc7ee10ddf22\", element=\"ee13f3df-ad8a-42b1-9914-ac8999654638\")>,\n",
       " <selenium.webdriver.remote.webelement.WebElement (session=\"62855118c4e3c3bd07ebfc7ee10ddf22\", element=\"bed2cce5-aa2f-45a0-9b20-aef52d45ebb5\")>,\n",
       " <selenium.webdriver.remote.webelement.WebElement (session=\"62855118c4e3c3bd07ebfc7ee10ddf22\", element=\"6fac1a9f-ad4d-4690-9e33-e4d2eccd9c91\")>,\n",
       " <selenium.webdriver.remote.webelement.WebElement (session=\"62855118c4e3c3bd07ebfc7ee10ddf22\", element=\"707b94a2-ae21-492d-84f4-b85f3e58f2c1\")>,\n",
       " <selenium.webdriver.remote.webelement.WebElement (session=\"62855118c4e3c3bd07ebfc7ee10ddf22\", element=\"8bfe72a4-637e-4956-a90f-03a4dc3b7514\")>,\n",
       " <selenium.webdriver.remote.webelement.WebElement (session=\"62855118c4e3c3bd07ebfc7ee10ddf22\", element=\"06b3cec9-6aed-4bf1-9e43-4422a65c91e1\")>,\n",
       " <selenium.webdriver.remote.webelement.WebElement (session=\"62855118c4e3c3bd07ebfc7ee10ddf22\", element=\"0524589a-f692-47d3-ae88-c14b2958820e\")>,\n",
       " <selenium.webdriver.remote.webelement.WebElement (session=\"62855118c4e3c3bd07ebfc7ee10ddf22\", element=\"e17b263d-9e5c-49b4-9603-8a8f57aeec72\")>,\n",
       " <selenium.webdriver.remote.webelement.WebElement (session=\"62855118c4e3c3bd07ebfc7ee10ddf22\", element=\"b7e8a85f-b94e-42ca-83ce-aa8dddb71248\")>,\n",
       " <selenium.webdriver.remote.webelement.WebElement (session=\"62855118c4e3c3bd07ebfc7ee10ddf22\", element=\"65121cd9-aca2-48df-bc05-21f8aa409b02\")>,\n",
       " <selenium.webdriver.remote.webelement.WebElement (session=\"62855118c4e3c3bd07ebfc7ee10ddf22\", element=\"43234fe9-c0b2-4478-932f-6c5a14820402\")>,\n",
       " <selenium.webdriver.remote.webelement.WebElement (session=\"62855118c4e3c3bd07ebfc7ee10ddf22\", element=\"31206426-3989-432f-b7c0-cfdd13f7f40e\")>,\n",
       " <selenium.webdriver.remote.webelement.WebElement (session=\"62855118c4e3c3bd07ebfc7ee10ddf22\", element=\"ed901f07-68a9-48d7-98a3-aa241e1dd3fe\")>,\n",
       " <selenium.webdriver.remote.webelement.WebElement (session=\"62855118c4e3c3bd07ebfc7ee10ddf22\", element=\"a8c2b2b9-e55e-4369-a6a1-2626d5c59efc\")>,\n",
       " <selenium.webdriver.remote.webelement.WebElement (session=\"62855118c4e3c3bd07ebfc7ee10ddf22\", element=\"ad718f8d-b1cd-45b8-bbd8-1e90e57262b2\")>,\n",
       " <selenium.webdriver.remote.webelement.WebElement (session=\"62855118c4e3c3bd07ebfc7ee10ddf22\", element=\"31205e9a-948d-4194-aaba-c18c271e7261\")>,\n",
       " <selenium.webdriver.remote.webelement.WebElement (session=\"62855118c4e3c3bd07ebfc7ee10ddf22\", element=\"2be5158f-b046-4f08-9a00-8b0f4a325f36\")>,\n",
       " <selenium.webdriver.remote.webelement.WebElement (session=\"62855118c4e3c3bd07ebfc7ee10ddf22\", element=\"7b3e6662-42bd-40d5-b545-78d192468285\")>,\n",
       " <selenium.webdriver.remote.webelement.WebElement (session=\"62855118c4e3c3bd07ebfc7ee10ddf22\", element=\"2db63091-80a8-4cdd-aa6d-7889ddfa3f1b\")>,\n",
       " <selenium.webdriver.remote.webelement.WebElement (session=\"62855118c4e3c3bd07ebfc7ee10ddf22\", element=\"71849352-64b1-4a44-b5d9-a4b2174e4c3f\")>,\n",
       " <selenium.webdriver.remote.webelement.WebElement (session=\"62855118c4e3c3bd07ebfc7ee10ddf22\", element=\"6d335cbf-586b-4ba0-8f6d-8ce66d2a6b46\")>,\n",
       " <selenium.webdriver.remote.webelement.WebElement (session=\"62855118c4e3c3bd07ebfc7ee10ddf22\", element=\"62d7e3cc-7230-4273-b607-57f9442cf52c\")>,\n",
       " <selenium.webdriver.remote.webelement.WebElement (session=\"62855118c4e3c3bd07ebfc7ee10ddf22\", element=\"731f6481-e99c-4253-8207-c4c056c11a19\")>]"
      ]
     },
     "execution_count": 52,
     "metadata": {},
     "output_type": "execute_result"
    }
   ],
   "source": [
    "brand_tags=driver.find_elements_by_xpath(\"//h3[@class='product-brand']\")\n",
    "brand_tags"
   ]
  },
  {
   "cell_type": "code",
   "execution_count": 54,
   "metadata": {},
   "outputs": [
    {
     "data": {
      "text/plain": [
       "['Nike',\n",
       " 'Nike',\n",
       " 'ALDO',\n",
       " 'ALDO',\n",
       " 'Nike',\n",
       " 'ALDO',\n",
       " 'Puma',\n",
       " 'Nike',\n",
       " 'Puma',\n",
       " 'UNDER ARMOUR',\n",
       " 'Puma',\n",
       " 'UNDER ARMOUR',\n",
       " 'Puma',\n",
       " 'Nike',\n",
       " 'RARE RABBIT',\n",
       " 'Skechers',\n",
       " 'UNDER ARMOUR',\n",
       " 'ASICS',\n",
       " 'Hush Puppies',\n",
       " 'Hush Puppies',\n",
       " 'Puma',\n",
       " 'PUMA Hoops',\n",
       " 'Nike',\n",
       " 'Puma',\n",
       " 'FORCLAZ By Decathlon',\n",
       " 'Puma',\n",
       " 'Hush Puppies',\n",
       " 'UNDER ARMOUR',\n",
       " 'Puma',\n",
       " 'Hush Puppies',\n",
       " 'Hush Puppies',\n",
       " 'Hush Puppies',\n",
       " 'Hush Puppies',\n",
       " 'Kalenji By Decathlon',\n",
       " 'Hush Puppies',\n",
       " 'Ruosh',\n",
       " 'Puma',\n",
       " 'ASICS',\n",
       " 'J.FONTINI',\n",
       " 'Puma',\n",
       " 'San Frissco',\n",
       " 'Hush Puppies',\n",
       " 'Ruosh',\n",
       " 'ALDO',\n",
       " 'Ruosh',\n",
       " 'Kenneth Cole',\n",
       " 'KIPRUN By Decathlon',\n",
       " 'Geox',\n",
       " 'UNDER ARMOUR',\n",
       " 'Hush Puppies']"
      ]
     },
     "execution_count": 54,
     "metadata": {},
     "output_type": "execute_result"
    }
   ],
   "source": [
    "brand_list=[]\n",
    "for i in brand_tags:\n",
    "    brand_list.append(i.text)\n",
    "brand_list[:100]"
   ]
  },
  {
   "cell_type": "code",
   "execution_count": 55,
   "metadata": {},
   "outputs": [
    {
     "data": {
      "text/plain": [
       "[<selenium.webdriver.remote.webelement.WebElement (session=\"62855118c4e3c3bd07ebfc7ee10ddf22\", element=\"e5040d37-2a2d-48c5-9bdd-361dbbd73bd3\")>,\n",
       " <selenium.webdriver.remote.webelement.WebElement (session=\"62855118c4e3c3bd07ebfc7ee10ddf22\", element=\"1c65bdab-0355-4e45-8a6e-ecd74249cb94\")>,\n",
       " <selenium.webdriver.remote.webelement.WebElement (session=\"62855118c4e3c3bd07ebfc7ee10ddf22\", element=\"87648554-4832-453a-9b93-2b5da786ddbf\")>,\n",
       " <selenium.webdriver.remote.webelement.WebElement (session=\"62855118c4e3c3bd07ebfc7ee10ddf22\", element=\"6ffb2c12-d99d-42c8-9a70-99504e837bab\")>,\n",
       " <selenium.webdriver.remote.webelement.WebElement (session=\"62855118c4e3c3bd07ebfc7ee10ddf22\", element=\"0b3aa2d4-dc0c-4258-88c0-039be9b91fed\")>,\n",
       " <selenium.webdriver.remote.webelement.WebElement (session=\"62855118c4e3c3bd07ebfc7ee10ddf22\", element=\"bb1cb46d-d8f5-46f6-913a-33a7dd1adcf8\")>,\n",
       " <selenium.webdriver.remote.webelement.WebElement (session=\"62855118c4e3c3bd07ebfc7ee10ddf22\", element=\"4818a5a4-996f-4e8b-a586-e709d5da8249\")>,\n",
       " <selenium.webdriver.remote.webelement.WebElement (session=\"62855118c4e3c3bd07ebfc7ee10ddf22\", element=\"80d958e5-e147-450a-a6f1-67adfe2e5ebd\")>,\n",
       " <selenium.webdriver.remote.webelement.WebElement (session=\"62855118c4e3c3bd07ebfc7ee10ddf22\", element=\"d364db63-a8e2-4973-a671-165fc6c5a7f7\")>,\n",
       " <selenium.webdriver.remote.webelement.WebElement (session=\"62855118c4e3c3bd07ebfc7ee10ddf22\", element=\"942a6c32-ce22-4f37-9ce1-f9108ae5718f\")>,\n",
       " <selenium.webdriver.remote.webelement.WebElement (session=\"62855118c4e3c3bd07ebfc7ee10ddf22\", element=\"6c8aaa2b-e431-43a9-9f6d-634eddee0073\")>,\n",
       " <selenium.webdriver.remote.webelement.WebElement (session=\"62855118c4e3c3bd07ebfc7ee10ddf22\", element=\"6bbd9e41-20af-49d5-996d-044be3d511ba\")>,\n",
       " <selenium.webdriver.remote.webelement.WebElement (session=\"62855118c4e3c3bd07ebfc7ee10ddf22\", element=\"e8b39ef3-4f38-4fc8-9c94-b2ab066eeeca\")>,\n",
       " <selenium.webdriver.remote.webelement.WebElement (session=\"62855118c4e3c3bd07ebfc7ee10ddf22\", element=\"e8d1782b-d50d-44f5-a7dd-b2c13a1a5638\")>,\n",
       " <selenium.webdriver.remote.webelement.WebElement (session=\"62855118c4e3c3bd07ebfc7ee10ddf22\", element=\"72659edc-9dfe-4d76-803e-b22e1c5d9dea\")>,\n",
       " <selenium.webdriver.remote.webelement.WebElement (session=\"62855118c4e3c3bd07ebfc7ee10ddf22\", element=\"9d551bc7-4b5a-4d60-a5d0-dc7bd10e3f10\")>,\n",
       " <selenium.webdriver.remote.webelement.WebElement (session=\"62855118c4e3c3bd07ebfc7ee10ddf22\", element=\"c337ab40-8db6-49cc-bdc1-632d3d541ef2\")>,\n",
       " <selenium.webdriver.remote.webelement.WebElement (session=\"62855118c4e3c3bd07ebfc7ee10ddf22\", element=\"586bfae7-2b4b-4be2-8733-8dcd4e29fa8a\")>,\n",
       " <selenium.webdriver.remote.webelement.WebElement (session=\"62855118c4e3c3bd07ebfc7ee10ddf22\", element=\"479a4859-617f-45a6-a07c-f3a013e28b27\")>,\n",
       " <selenium.webdriver.remote.webelement.WebElement (session=\"62855118c4e3c3bd07ebfc7ee10ddf22\", element=\"6e855a6d-eb47-4fbc-a096-367afa2bded5\")>,\n",
       " <selenium.webdriver.remote.webelement.WebElement (session=\"62855118c4e3c3bd07ebfc7ee10ddf22\", element=\"31e1a4e5-b4ff-4c69-9a3d-d9f828e26537\")>,\n",
       " <selenium.webdriver.remote.webelement.WebElement (session=\"62855118c4e3c3bd07ebfc7ee10ddf22\", element=\"8298b926-6d86-4c4c-b8d2-ee3e034ab12d\")>,\n",
       " <selenium.webdriver.remote.webelement.WebElement (session=\"62855118c4e3c3bd07ebfc7ee10ddf22\", element=\"e68249e4-d07d-4e7b-b59a-3ea8d82ca53f\")>,\n",
       " <selenium.webdriver.remote.webelement.WebElement (session=\"62855118c4e3c3bd07ebfc7ee10ddf22\", element=\"7331860b-da0f-438f-b839-c64c9ffb5cc4\")>,\n",
       " <selenium.webdriver.remote.webelement.WebElement (session=\"62855118c4e3c3bd07ebfc7ee10ddf22\", element=\"acc7caeb-251f-4583-835c-9227b3b43781\")>,\n",
       " <selenium.webdriver.remote.webelement.WebElement (session=\"62855118c4e3c3bd07ebfc7ee10ddf22\", element=\"5755bb81-5525-4d5e-b423-1f177277f8b4\")>,\n",
       " <selenium.webdriver.remote.webelement.WebElement (session=\"62855118c4e3c3bd07ebfc7ee10ddf22\", element=\"5c5d184e-6f63-4844-b336-dc852daae5bb\")>,\n",
       " <selenium.webdriver.remote.webelement.WebElement (session=\"62855118c4e3c3bd07ebfc7ee10ddf22\", element=\"e01f2814-8259-4060-9de8-c3afd918e77a\")>,\n",
       " <selenium.webdriver.remote.webelement.WebElement (session=\"62855118c4e3c3bd07ebfc7ee10ddf22\", element=\"75df7545-e83a-4a27-8330-022d3e39dbd8\")>,\n",
       " <selenium.webdriver.remote.webelement.WebElement (session=\"62855118c4e3c3bd07ebfc7ee10ddf22\", element=\"c1ad0a46-be05-4b68-87e3-40488a7b01b5\")>,\n",
       " <selenium.webdriver.remote.webelement.WebElement (session=\"62855118c4e3c3bd07ebfc7ee10ddf22\", element=\"ad54cf4c-3604-48c4-982b-93446144aa58\")>,\n",
       " <selenium.webdriver.remote.webelement.WebElement (session=\"62855118c4e3c3bd07ebfc7ee10ddf22\", element=\"f401ce86-b840-4719-85d3-ad6734fb65f1\")>,\n",
       " <selenium.webdriver.remote.webelement.WebElement (session=\"62855118c4e3c3bd07ebfc7ee10ddf22\", element=\"be24a5c2-22f9-4e20-9772-d43fc6f28513\")>,\n",
       " <selenium.webdriver.remote.webelement.WebElement (session=\"62855118c4e3c3bd07ebfc7ee10ddf22\", element=\"374c7e34-d726-4745-979c-4b23d081355e\")>,\n",
       " <selenium.webdriver.remote.webelement.WebElement (session=\"62855118c4e3c3bd07ebfc7ee10ddf22\", element=\"a7aaab26-faec-4a1e-96e5-9d7f5df744da\")>,\n",
       " <selenium.webdriver.remote.webelement.WebElement (session=\"62855118c4e3c3bd07ebfc7ee10ddf22\", element=\"7832fe81-03c1-4aa7-a55c-3a12cd76edfc\")>,\n",
       " <selenium.webdriver.remote.webelement.WebElement (session=\"62855118c4e3c3bd07ebfc7ee10ddf22\", element=\"fcd4b74f-e957-40ca-a5aa-d9fdfb673a35\")>,\n",
       " <selenium.webdriver.remote.webelement.WebElement (session=\"62855118c4e3c3bd07ebfc7ee10ddf22\", element=\"29be4235-a34e-4125-b55f-55c2a2df9226\")>,\n",
       " <selenium.webdriver.remote.webelement.WebElement (session=\"62855118c4e3c3bd07ebfc7ee10ddf22\", element=\"0ab26887-e030-49b1-a502-60044e9c1b7a\")>,\n",
       " <selenium.webdriver.remote.webelement.WebElement (session=\"62855118c4e3c3bd07ebfc7ee10ddf22\", element=\"451054eb-994b-4b35-a218-05e9611f57dc\")>,\n",
       " <selenium.webdriver.remote.webelement.WebElement (session=\"62855118c4e3c3bd07ebfc7ee10ddf22\", element=\"897d6c84-9481-4ec4-8ccc-135050415679\")>,\n",
       " <selenium.webdriver.remote.webelement.WebElement (session=\"62855118c4e3c3bd07ebfc7ee10ddf22\", element=\"e2a2204c-56a8-4db6-a6be-1620ca05e567\")>,\n",
       " <selenium.webdriver.remote.webelement.WebElement (session=\"62855118c4e3c3bd07ebfc7ee10ddf22\", element=\"471cf1a6-e7ee-4bc1-9887-ced82d0dea7c\")>,\n",
       " <selenium.webdriver.remote.webelement.WebElement (session=\"62855118c4e3c3bd07ebfc7ee10ddf22\", element=\"28794289-e570-4b4c-9c95-56406a1e5125\")>,\n",
       " <selenium.webdriver.remote.webelement.WebElement (session=\"62855118c4e3c3bd07ebfc7ee10ddf22\", element=\"1a0f638a-fed2-4630-9442-ad2744f8335f\")>,\n",
       " <selenium.webdriver.remote.webelement.WebElement (session=\"62855118c4e3c3bd07ebfc7ee10ddf22\", element=\"72630266-d673-43b2-baf2-0765cdd15b58\")>,\n",
       " <selenium.webdriver.remote.webelement.WebElement (session=\"62855118c4e3c3bd07ebfc7ee10ddf22\", element=\"7f277af8-e61f-4aad-88ea-9ff9bea17148\")>,\n",
       " <selenium.webdriver.remote.webelement.WebElement (session=\"62855118c4e3c3bd07ebfc7ee10ddf22\", element=\"151d1a5e-fd33-49f2-8aba-30519a029ede\")>,\n",
       " <selenium.webdriver.remote.webelement.WebElement (session=\"62855118c4e3c3bd07ebfc7ee10ddf22\", element=\"8eb11002-3599-4ffe-a588-f01df31fb96a\")>,\n",
       " <selenium.webdriver.remote.webelement.WebElement (session=\"62855118c4e3c3bd07ebfc7ee10ddf22\", element=\"67a3ff94-d1b6-468c-8b76-3a551929afeb\")>]"
      ]
     },
     "execution_count": 55,
     "metadata": {},
     "output_type": "execute_result"
    }
   ],
   "source": [
    "product_discription_tags=driver.find_elements_by_xpath(\"//h4[@class='product-product']\")\n",
    "product_discription_tags"
   ]
  },
  {
   "cell_type": "code",
   "execution_count": 56,
   "metadata": {},
   "outputs": [
    {
     "data": {
      "text/plain": [
       "['Men AIR ZOOM Running Shoes',\n",
       " 'Unisex LEBRON XVIII Basketball',\n",
       " 'Men Sneakers',\n",
       " 'Men Sneakers',\n",
       " 'LEBRON XVIII Basketball Shoes',\n",
       " 'Men Driving Shoes',\n",
       " 'Mesh Hybrid Fuego Running',\n",
       " 'Women FREE RN 5.0 Shoes',\n",
       " 'Men Running Shoes',\n",
       " 'Women Liquify Rebel Running',\n",
       " 'Men Velocity Nitro Running',\n",
       " 'Women TriBase Reign 2 Training',\n",
       " 'Men Liberate Nitro Running',\n",
       " 'Men CHALLENGER OG Sneakers',\n",
       " 'Men Perforations Leather Brogues',\n",
       " 'Men Flex Advantage 4.0Upstream',\n",
       " 'HOVR Sonic 3 Running Shoes',\n",
       " 'Women Running Shoes',\n",
       " 'Men Leather Slip-On Shoes',\n",
       " 'Men Leather Slip-On Sneakers',\n",
       " 'Men Football Shoes',\n",
       " 'Unisex Clyde Basketball Shoes',\n",
       " 'Women Air Max Siren Sneakers',\n",
       " 'Women Velocity Nitro Running',\n",
       " 'TREKKING 100 Boots',\n",
       " 'Women Deviate Nitro Running',\n",
       " 'Men Colourblocked Driving Shoes',\n",
       " 'Women HOVR Rise 2 Training',\n",
       " 'Women Eternity Nitro Running',\n",
       " 'Men Solid Leather Formal Slip-Ons',\n",
       " 'Men Leather Derbys',\n",
       " 'Men Leather Slip-On Sneakers',\n",
       " 'Men Solid Leather Formal Slip-Ons',\n",
       " 'Men KD500 Running Shoe',\n",
       " 'Men Solid Leather Formal Slip-Ons',\n",
       " 'Men Solid Leather Formal Slip-Ons',\n",
       " 'Women Liberate Nitro Running',\n",
       " 'Men Running Shoes',\n",
       " 'Men Textured Leather Loafers',\n",
       " 'Men 365 Evoknit Ignite Ct Football',\n",
       " 'Men Leather Loafers',\n",
       " 'Men Formal Derbys',\n",
       " 'Men Textured Leather Monks',\n",
       " 'Women Solid Leather Pumps',\n",
       " 'Men Formal Leather Brogues',\n",
       " 'Men Solid Leather Sneakers',\n",
       " 'Women Running Shoes',\n",
       " 'Men Leather Semiformal Driving',\n",
       " 'GS SC 3Zero IV Basketball',\n",
       " 'Men Solid Leather Formal Derbys']"
      ]
     },
     "execution_count": 56,
     "metadata": {},
     "output_type": "execute_result"
    }
   ],
   "source": [
    "product_discription_list=[]\n",
    "for i in product_discription_tags:\n",
    "    product_discription_list.append(i.text)\n",
    "product_discription_list[:100]"
   ]
  },
  {
   "cell_type": "code",
   "execution_count": 57,
   "metadata": {},
   "outputs": [
    {
     "data": {
      "text/plain": [
       "[<selenium.webdriver.remote.webelement.WebElement (session=\"62855118c4e3c3bd07ebfc7ee10ddf22\", element=\"3eb2c0c7-2c63-483b-87de-df161f0bd571\")>,\n",
       " <selenium.webdriver.remote.webelement.WebElement (session=\"62855118c4e3c3bd07ebfc7ee10ddf22\", element=\"3aec05ac-5471-4d1d-842f-5a6a5c187014\")>,\n",
       " <selenium.webdriver.remote.webelement.WebElement (session=\"62855118c4e3c3bd07ebfc7ee10ddf22\", element=\"b5fda8c7-c9d4-4d82-a2bf-278be1ae45e0\")>,\n",
       " <selenium.webdriver.remote.webelement.WebElement (session=\"62855118c4e3c3bd07ebfc7ee10ddf22\", element=\"8e16c2af-81c1-48c6-9ba6-535fde1bb4bb\")>,\n",
       " <selenium.webdriver.remote.webelement.WebElement (session=\"62855118c4e3c3bd07ebfc7ee10ddf22\", element=\"50395ec8-62f8-442b-902e-d2b6881d7f97\")>,\n",
       " <selenium.webdriver.remote.webelement.WebElement (session=\"62855118c4e3c3bd07ebfc7ee10ddf22\", element=\"26fea453-5ee0-489f-8264-4a9180496845\")>,\n",
       " <selenium.webdriver.remote.webelement.WebElement (session=\"62855118c4e3c3bd07ebfc7ee10ddf22\", element=\"450e7f5d-4b34-4199-89a8-03da510bb284\")>,\n",
       " <selenium.webdriver.remote.webelement.WebElement (session=\"62855118c4e3c3bd07ebfc7ee10ddf22\", element=\"110ee644-07d9-4cbb-9ff7-6e3cd21fb4f3\")>,\n",
       " <selenium.webdriver.remote.webelement.WebElement (session=\"62855118c4e3c3bd07ebfc7ee10ddf22\", element=\"e27acd3e-579c-43ff-a149-956bccc97b2c\")>,\n",
       " <selenium.webdriver.remote.webelement.WebElement (session=\"62855118c4e3c3bd07ebfc7ee10ddf22\", element=\"14c97361-b85b-4ef8-b58f-ec551afe6b16\")>,\n",
       " <selenium.webdriver.remote.webelement.WebElement (session=\"62855118c4e3c3bd07ebfc7ee10ddf22\", element=\"3c1935fc-5223-4933-a46f-f69163b14509\")>,\n",
       " <selenium.webdriver.remote.webelement.WebElement (session=\"62855118c4e3c3bd07ebfc7ee10ddf22\", element=\"f3e8db41-15be-417f-b787-03d444a5533e\")>,\n",
       " <selenium.webdriver.remote.webelement.WebElement (session=\"62855118c4e3c3bd07ebfc7ee10ddf22\", element=\"e5345611-b56a-4815-98b5-f60df4c5fcd2\")>,\n",
       " <selenium.webdriver.remote.webelement.WebElement (session=\"62855118c4e3c3bd07ebfc7ee10ddf22\", element=\"398c7f20-1fbc-404d-8d60-ef2f536ca4ca\")>,\n",
       " <selenium.webdriver.remote.webelement.WebElement (session=\"62855118c4e3c3bd07ebfc7ee10ddf22\", element=\"c235f76e-38ac-44bd-8e1b-5becddd0922f\")>,\n",
       " <selenium.webdriver.remote.webelement.WebElement (session=\"62855118c4e3c3bd07ebfc7ee10ddf22\", element=\"a4cd04fa-a21d-4ed2-b0be-0e241b1da600\")>,\n",
       " <selenium.webdriver.remote.webelement.WebElement (session=\"62855118c4e3c3bd07ebfc7ee10ddf22\", element=\"6b901fbc-5252-433b-b891-d1cb7613ac6d\")>,\n",
       " <selenium.webdriver.remote.webelement.WebElement (session=\"62855118c4e3c3bd07ebfc7ee10ddf22\", element=\"20f32b00-98d2-48c6-af69-71a3e93ecb85\")>,\n",
       " <selenium.webdriver.remote.webelement.WebElement (session=\"62855118c4e3c3bd07ebfc7ee10ddf22\", element=\"14c72b7c-7d13-4b64-b237-e48fb2ec1b9c\")>,\n",
       " <selenium.webdriver.remote.webelement.WebElement (session=\"62855118c4e3c3bd07ebfc7ee10ddf22\", element=\"b352b9ea-c622-4dbd-b600-b2434237044e\")>,\n",
       " <selenium.webdriver.remote.webelement.WebElement (session=\"62855118c4e3c3bd07ebfc7ee10ddf22\", element=\"0fe18312-ff80-427a-94e0-4a5a798e8d85\")>,\n",
       " <selenium.webdriver.remote.webelement.WebElement (session=\"62855118c4e3c3bd07ebfc7ee10ddf22\", element=\"3aeb3a41-917c-4fe4-a4b6-6b10acb96ab4\")>,\n",
       " <selenium.webdriver.remote.webelement.WebElement (session=\"62855118c4e3c3bd07ebfc7ee10ddf22\", element=\"20ba7fd8-eb5d-46db-bd41-f4c0b27fdf6a\")>,\n",
       " <selenium.webdriver.remote.webelement.WebElement (session=\"62855118c4e3c3bd07ebfc7ee10ddf22\", element=\"b18e89f9-693e-498e-9025-26c2be4f3e33\")>,\n",
       " <selenium.webdriver.remote.webelement.WebElement (session=\"62855118c4e3c3bd07ebfc7ee10ddf22\", element=\"475640ca-9ed1-4df3-9744-9e59f9307bf5\")>,\n",
       " <selenium.webdriver.remote.webelement.WebElement (session=\"62855118c4e3c3bd07ebfc7ee10ddf22\", element=\"2afec223-793f-46a4-b4fa-c99d3056cb9e\")>,\n",
       " <selenium.webdriver.remote.webelement.WebElement (session=\"62855118c4e3c3bd07ebfc7ee10ddf22\", element=\"71301fa2-6210-47ea-8eb5-5904b08f1af2\")>,\n",
       " <selenium.webdriver.remote.webelement.WebElement (session=\"62855118c4e3c3bd07ebfc7ee10ddf22\", element=\"85edb25f-7784-4f9a-aab1-1cd0190651d2\")>,\n",
       " <selenium.webdriver.remote.webelement.WebElement (session=\"62855118c4e3c3bd07ebfc7ee10ddf22\", element=\"b17d852a-1fe2-42cc-b204-ac6f19ebfd9a\")>,\n",
       " <selenium.webdriver.remote.webelement.WebElement (session=\"62855118c4e3c3bd07ebfc7ee10ddf22\", element=\"990d5df2-7972-44a4-95fc-08c0acc4ecb5\")>,\n",
       " <selenium.webdriver.remote.webelement.WebElement (session=\"62855118c4e3c3bd07ebfc7ee10ddf22\", element=\"22f87607-c0f2-4948-a786-b1954e397a3d\")>,\n",
       " <selenium.webdriver.remote.webelement.WebElement (session=\"62855118c4e3c3bd07ebfc7ee10ddf22\", element=\"ae7bab70-c4c8-43af-a089-fcd28ae04cdd\")>,\n",
       " <selenium.webdriver.remote.webelement.WebElement (session=\"62855118c4e3c3bd07ebfc7ee10ddf22\", element=\"b4b1a1c4-8718-4548-8737-a92ee597a866\")>,\n",
       " <selenium.webdriver.remote.webelement.WebElement (session=\"62855118c4e3c3bd07ebfc7ee10ddf22\", element=\"fa1a1b62-e691-41fe-81e2-ad8c57e1b3d6\")>,\n",
       " <selenium.webdriver.remote.webelement.WebElement (session=\"62855118c4e3c3bd07ebfc7ee10ddf22\", element=\"7231cc68-f0fc-4e01-ab7a-06c5373be980\")>,\n",
       " <selenium.webdriver.remote.webelement.WebElement (session=\"62855118c4e3c3bd07ebfc7ee10ddf22\", element=\"47d91369-9a8e-48c9-a23a-9903fb9d5bc4\")>,\n",
       " <selenium.webdriver.remote.webelement.WebElement (session=\"62855118c4e3c3bd07ebfc7ee10ddf22\", element=\"64eeaad1-586b-4aa5-9772-60502f5e28cd\")>,\n",
       " <selenium.webdriver.remote.webelement.WebElement (session=\"62855118c4e3c3bd07ebfc7ee10ddf22\", element=\"f066741c-2ad2-48ec-b4f9-536ee83d40df\")>,\n",
       " <selenium.webdriver.remote.webelement.WebElement (session=\"62855118c4e3c3bd07ebfc7ee10ddf22\", element=\"c30642e9-9d7f-485d-9005-7bf81a642453\")>,\n",
       " <selenium.webdriver.remote.webelement.WebElement (session=\"62855118c4e3c3bd07ebfc7ee10ddf22\", element=\"8488da08-c503-4d54-b7f8-426a584bf1bf\")>,\n",
       " <selenium.webdriver.remote.webelement.WebElement (session=\"62855118c4e3c3bd07ebfc7ee10ddf22\", element=\"fdf99129-4829-43a8-80a5-71ab3ba0e1f1\")>,\n",
       " <selenium.webdriver.remote.webelement.WebElement (session=\"62855118c4e3c3bd07ebfc7ee10ddf22\", element=\"a8969d95-14b5-4dec-9d50-818eb3a636b6\")>,\n",
       " <selenium.webdriver.remote.webelement.WebElement (session=\"62855118c4e3c3bd07ebfc7ee10ddf22\", element=\"f39d8755-0f26-4219-a663-63ffd9e42e70\")>,\n",
       " <selenium.webdriver.remote.webelement.WebElement (session=\"62855118c4e3c3bd07ebfc7ee10ddf22\", element=\"96663ff0-91a7-467f-a26c-3b850eda51cb\")>,\n",
       " <selenium.webdriver.remote.webelement.WebElement (session=\"62855118c4e3c3bd07ebfc7ee10ddf22\", element=\"df61986c-5754-4922-b865-304213abdf4a\")>,\n",
       " <selenium.webdriver.remote.webelement.WebElement (session=\"62855118c4e3c3bd07ebfc7ee10ddf22\", element=\"76a03293-82e0-4585-a667-50cac277bbcb\")>,\n",
       " <selenium.webdriver.remote.webelement.WebElement (session=\"62855118c4e3c3bd07ebfc7ee10ddf22\", element=\"7b2f0a50-6c7e-4e2c-a2a3-09855c06c56b\")>,\n",
       " <selenium.webdriver.remote.webelement.WebElement (session=\"62855118c4e3c3bd07ebfc7ee10ddf22\", element=\"4a137c25-58b3-4b3d-8d3c-09a1aee597e6\")>,\n",
       " <selenium.webdriver.remote.webelement.WebElement (session=\"62855118c4e3c3bd07ebfc7ee10ddf22\", element=\"e4f65636-8cfb-49df-b449-6d248589a5f2\")>,\n",
       " <selenium.webdriver.remote.webelement.WebElement (session=\"62855118c4e3c3bd07ebfc7ee10ddf22\", element=\"47af1b09-9b48-4e9a-aee7-bf55bc9356c4\")>]"
      ]
     },
     "execution_count": 57,
     "metadata": {},
     "output_type": "execute_result"
    }
   ],
   "source": [
    "price_tags=driver.find_elements_by_xpath(\"//div[@class='product-price']\")\n",
    "price_tags"
   ]
  },
  {
   "cell_type": "code",
   "execution_count": 58,
   "metadata": {},
   "outputs": [
    {
     "data": {
      "text/plain": [
       "['₹449',\n",
       " '₹349',\n",
       " '₹499',\n",
       " '₹748',\n",
       " '₹399',\n",
       " '₹379',\n",
       " '₹495',\n",
       " '₹426',\n",
       " '₹242',\n",
       " '₹378',\n",
       " '₹449',\n",
       " '₹475',\n",
       " '₹599',\n",
       " '₹499',\n",
       " '₹273',\n",
       " '₹399',\n",
       " '₹279',\n",
       " '₹298',\n",
       " '₹499',\n",
       " '₹425',\n",
       " '₹398',\n",
       " '₹350',\n",
       " '₹398',\n",
       " '₹499',\n",
       " '₹449',\n",
       " '₹683',\n",
       " '₹698',\n",
       " '₹499',\n",
       " '₹199',\n",
       " '₹199',\n",
       " '₹449',\n",
       " '₹474',\n",
       " '₹419',\n",
       " '₹449',\n",
       " '₹471',\n",
       " '₹399',\n",
       " '₹499',\n",
       " '₹283',\n",
       " '₹240',\n",
       " '₹410']"
      ]
     },
     "execution_count": 58,
     "metadata": {},
     "output_type": "execute_result"
    }
   ],
   "source": [
    "prize_list=[]\n",
    "for i in prize_tags:\n",
    "    prize_list.append(i.text)\n",
    "prize_list[:100]"
   ]
  },
  {
   "cell_type": "markdown",
   "metadata": {},
   "source": [
    "## Q10: Go to webpage https://www.amazon.in/"
   ]
  },
  {
   "cell_type": "code",
   "execution_count": 61,
   "metadata": {},
   "outputs": [],
   "source": [
    "#lets first connect to web driver\n",
    "driver=webdriver.Chrome(\"chromedriver.exe\")"
   ]
  },
  {
   "cell_type": "code",
   "execution_count": 62,
   "metadata": {},
   "outputs": [],
   "source": [
    "url='https://www.amazon.in/'\n",
    "driver.get(url)"
   ]
  },
  {
   "cell_type": "code",
   "execution_count": 70,
   "metadata": {},
   "outputs": [
    {
     "data": {
      "text/plain": [
       "<selenium.webdriver.remote.webelement.WebElement (session=\"facdf4b8f4cd49b044fff4b33fd8d16c\", element=\"11423e9b-ee61-4de3-9ff6-261e8cc3e869\")>"
      ]
     },
     "execution_count": 70,
     "metadata": {},
     "output_type": "execute_result"
    }
   ],
   "source": [
    "search_laptop=driver.find_element_by_id(\"twotabsearchtextbox\")\n",
    "search_laptop\n"
   ]
  },
  {
   "cell_type": "code",
   "execution_count": 71,
   "metadata": {},
   "outputs": [],
   "source": [
    "search_laptop.send_keys(\"laptops\")"
   ]
  },
  {
   "cell_type": "code",
   "execution_count": 72,
   "metadata": {},
   "outputs": [],
   "source": [
    "search_btn=driver.find_element_by_xpath(\"//input[@id='nav-search-submit-button']\")\n",
    "search_btn.click()"
   ]
  },
  {
   "cell_type": "code",
   "execution_count": 74,
   "metadata": {},
   "outputs": [],
   "source": [
    "CPU_filter1=driver.find_element_by_xpath('/html/body/div[1]/div[2]/div[1]/div/div[2]/div/div[3]/span/div[1]/span/div/div/div[6]/ul[1]/li[26]/span/a/span')\n",
    "CPU_filter1.click()"
   ]
  },
  {
   "cell_type": "code",
   "execution_count": 75,
   "metadata": {},
   "outputs": [],
   "source": [
    "CPU_filter2=driver.find_element_by_xpath('//html/body/div[1]/div[2]/div[1]/div/div[2]/div/div[3]/span/div[1]/span/div/div/div[6]/ul[1]/li[28]/span/a/span')\n",
    "CPU_filter2.click()"
   ]
  },
  {
   "cell_type": "code",
   "execution_count": 76,
   "metadata": {},
   "outputs": [
    {
     "data": {
      "text/plain": [
       "[<selenium.webdriver.remote.webelement.WebElement (session=\"facdf4b8f4cd49b044fff4b33fd8d16c\", element=\"38fa3f44-0ccf-41b9-aaea-44cd86db7e55\")>,\n",
       " <selenium.webdriver.remote.webelement.WebElement (session=\"facdf4b8f4cd49b044fff4b33fd8d16c\", element=\"1be88f59-1b7e-4adc-9bd5-d86eeb47df74\")>,\n",
       " <selenium.webdriver.remote.webelement.WebElement (session=\"facdf4b8f4cd49b044fff4b33fd8d16c\", element=\"2a9bd208-b038-4775-89be-f0cfe80fe4a8\")>,\n",
       " <selenium.webdriver.remote.webelement.WebElement (session=\"facdf4b8f4cd49b044fff4b33fd8d16c\", element=\"f199f68f-4057-469d-b9b7-78e84f66bcff\")>,\n",
       " <selenium.webdriver.remote.webelement.WebElement (session=\"facdf4b8f4cd49b044fff4b33fd8d16c\", element=\"3239360a-5081-4c14-b270-3fef6fee3b03\")>,\n",
       " <selenium.webdriver.remote.webelement.WebElement (session=\"facdf4b8f4cd49b044fff4b33fd8d16c\", element=\"9077d000-8735-4cc6-ab88-90e1a777d73d\")>,\n",
       " <selenium.webdriver.remote.webelement.WebElement (session=\"facdf4b8f4cd49b044fff4b33fd8d16c\", element=\"b4bd9ed1-2912-468b-859a-9c262d36f8ca\")>,\n",
       " <selenium.webdriver.remote.webelement.WebElement (session=\"facdf4b8f4cd49b044fff4b33fd8d16c\", element=\"13044f42-be28-46a5-9c05-2e152251a4fc\")>,\n",
       " <selenium.webdriver.remote.webelement.WebElement (session=\"facdf4b8f4cd49b044fff4b33fd8d16c\", element=\"8e222cd8-22fd-4b27-8c6d-350083468d1b\")>,\n",
       " <selenium.webdriver.remote.webelement.WebElement (session=\"facdf4b8f4cd49b044fff4b33fd8d16c\", element=\"e44b415d-d815-43ab-8bc3-a52d27384e37\")>,\n",
       " <selenium.webdriver.remote.webelement.WebElement (session=\"facdf4b8f4cd49b044fff4b33fd8d16c\", element=\"ff290fab-49d3-4e0a-8af4-547392e4afd2\")>,\n",
       " <selenium.webdriver.remote.webelement.WebElement (session=\"facdf4b8f4cd49b044fff4b33fd8d16c\", element=\"dc474155-2c2c-49eb-81e4-68da71a35a99\")>,\n",
       " <selenium.webdriver.remote.webelement.WebElement (session=\"facdf4b8f4cd49b044fff4b33fd8d16c\", element=\"ad7c5351-a394-41fb-85fb-ccd9f1b809bb\")>,\n",
       " <selenium.webdriver.remote.webelement.WebElement (session=\"facdf4b8f4cd49b044fff4b33fd8d16c\", element=\"fc994fa9-2d16-484b-9dfb-c4359fa4459f\")>,\n",
       " <selenium.webdriver.remote.webelement.WebElement (session=\"facdf4b8f4cd49b044fff4b33fd8d16c\", element=\"f0c0c4a1-2dab-43ac-91d9-413aa0b3422f\")>,\n",
       " <selenium.webdriver.remote.webelement.WebElement (session=\"facdf4b8f4cd49b044fff4b33fd8d16c\", element=\"fe1ff3b1-8428-4199-b50d-2c633bde2e01\")>,\n",
       " <selenium.webdriver.remote.webelement.WebElement (session=\"facdf4b8f4cd49b044fff4b33fd8d16c\", element=\"ec9716e5-c82d-431e-ba9f-099b7294b7c2\")>,\n",
       " <selenium.webdriver.remote.webelement.WebElement (session=\"facdf4b8f4cd49b044fff4b33fd8d16c\", element=\"81e77e32-ce63-48d8-9c91-d46b20fd0627\")>,\n",
       " <selenium.webdriver.remote.webelement.WebElement (session=\"facdf4b8f4cd49b044fff4b33fd8d16c\", element=\"07a9c326-b000-448f-9853-a2f50e043453\")>,\n",
       " <selenium.webdriver.remote.webelement.WebElement (session=\"facdf4b8f4cd49b044fff4b33fd8d16c\", element=\"db538141-807d-47f8-badb-9414aa0fb843\")>,\n",
       " <selenium.webdriver.remote.webelement.WebElement (session=\"facdf4b8f4cd49b044fff4b33fd8d16c\", element=\"90108fc4-c1c4-4c88-a6d3-c0d024578075\")>,\n",
       " <selenium.webdriver.remote.webelement.WebElement (session=\"facdf4b8f4cd49b044fff4b33fd8d16c\", element=\"de53a63e-225d-4870-a0be-012668f3c23e\")>,\n",
       " <selenium.webdriver.remote.webelement.WebElement (session=\"facdf4b8f4cd49b044fff4b33fd8d16c\", element=\"eb9c3e5c-bbad-4815-b9d8-d1626c878dff\")>,\n",
       " <selenium.webdriver.remote.webelement.WebElement (session=\"facdf4b8f4cd49b044fff4b33fd8d16c\", element=\"457383b6-1c42-4c37-b726-31864191396c\")>,\n",
       " <selenium.webdriver.remote.webelement.WebElement (session=\"facdf4b8f4cd49b044fff4b33fd8d16c\", element=\"e7216e08-5c93-4178-b3a0-1c9b1fd8a10c\")>,\n",
       " <selenium.webdriver.remote.webelement.WebElement (session=\"facdf4b8f4cd49b044fff4b33fd8d16c\", element=\"14dba242-3eca-4586-be69-bfe681a690df\")>,\n",
       " <selenium.webdriver.remote.webelement.WebElement (session=\"facdf4b8f4cd49b044fff4b33fd8d16c\", element=\"def9406a-963c-4fa2-ba3b-b8ff1f2be151\")>]"
      ]
     },
     "execution_count": 76,
     "metadata": {},
     "output_type": "execute_result"
    }
   ],
   "source": [
    "title_tags=driver.find_elements_by_xpath(\"//h2[@class='a-size-mini a-spacing-none a-color-base s-line-clamp-2']\")\n",
    "title_tags"
   ]
  },
  {
   "cell_type": "code",
   "execution_count": 92,
   "metadata": {},
   "outputs": [
    {
     "data": {
      "text/plain": [
       "['Mi Notebook Horizon Edition 14 Intel Core i7-10510U 10th Gen 14-inch (35.56 cms) Thin and Light Laptop(8GB/512GB SSD/Windows 10/Nvidia MX350 2GB Graphics/Grey/1.35Kg), XMA1904-AF+Webcam',\n",
       " 'HP Pavilion x360 (2021) 14\" (35.56cms) FHD Touchscreen Laptop, 11th Gen Core i7, 8 GB RAM, 512GB SSD, 2-in-1 Convertible, Windows 10, MS Office, Finger Print Reader (14-dw1040TU)',\n",
       " 'HP Pavilion (2021) Thin & Light 11th Gen Core i7 Laptop, 16 GB RAM, 1TB SSD, Iris Xe Graphics, 14\" (35.56cms) FHD Screen, Windows 10, MS Office, Backlit Keyboard (14-dv0058TU)',\n",
       " 'HP Pavilion Gaming 10th Gen Intel Core i7 Processor 15.6-inch FHD Gaming Laptop (16GB/512GB SSD + 32GB Intel Optane/Windows 10/NVIDIA 1650Ti 4GB/Shadow Black), 15-dk1509TX',\n",
       " 'Mi Notebook Horizon Edition 14 Intel Core i7-10510U 10th Gen 14-inch (35.56 cms) Thin and Light Laptop(8GB/512GB SSD/Windows 10/Nvidia MX350 2GB Graphics/Grey/1.35Kg), XMA1904-AF+Webcam',\n",
       " 'Lenovo IdeaPad Flex 5 11th Gen Intel Core i7 14-inch FHD IPS 2-in-1 Touchscreen Laptop (16GB/512GB SSD/Win 10/Office 2019/Lenovo Digital Pen Stylus/Fingerprint Reader/Graphite Grey/1.5Kg), 82HS0092IN',\n",
       " 'Dell 14 (2021) i7-1165G7 2in1 Touch Screen Laptop, 16Gb RAM, 512Gb SSD, 14” (35.56 cms) FHD Display, Win 10 + MSO, Backlit KB + FPR + Active Pen, Silver Metal Color (Inspiron 5410, D560469WIN9S)',\n",
       " 'ASUS VivoBook S S14 Intel Core i7-1165G7 11th Gen 14-inch FHD Thin and Light Laptop (8GB RAM/512GB SSD + 32GB Optane Memory/Windows 10/Office 2019/Iris X Graphics ;Dreamy White;1.4 Kg), S433EA-AM702TS',\n",
       " 'DELL Alienware  m15(R3) 15.6-inch FHD Gaming Laptop (10th Gen i7-10750H / 16 GB / 1TB SSD / Nvidia RTX 2060 6GB / Win 10 + MS Office / Lunar Light) D569917WIN9',\n",
       " '(Renewed) Dell Intel Core i7 7th Gen12.5 Inch(31.75 cms) (1920 x 1080)FHD TOUCHSCREEN Laptop (16GB RAM/512GB SSD/Windows 10 Pro/MS Office/Intel Integrated HD Graphics /1.18Kg,Black) Latitude E7280']"
      ]
     },
     "execution_count": 92,
     "metadata": {},
     "output_type": "execute_result"
    }
   ],
   "source": [
    "title_list=[]\n",
    "for i in title_tags:\n",
    "    title_list.append(i.text)\n",
    "title_list[:10]\n"
   ]
  },
  {
   "cell_type": "code",
   "execution_count": 89,
   "metadata": {},
   "outputs": [
    {
     "data": {
      "text/plain": [
       "['Mi Notebook Horizon Edition 14 Intel Core i7-10510U 10th Gen 14-inch (35.56 cms) Thin and Light Laptop(8GB/512GB SSD/Windows 10/Nvidia MX350 2GB Graphics/Grey/1.35Kg), XMA1904-AF+Webcam',\n",
       " 'HP Pavilion x360 (2021) 14\" (35.56cms) FHD Touchscreen Laptop, 11th Gen Core i7, 8 GB RAM, 512GB SSD, 2-in-1 Convertible, Windows 10, MS Office, Finger Print Reader (14-dw1040TU)',\n",
       " 'HP Pavilion (2021) Thin & Light 11th Gen Core i7 Laptop, 16 GB RAM, 1TB SSD, Iris Xe Graphics, 14\" (35.56cms) FHD Screen, Windows 10, MS Office, Backlit Keyboard (14-dv0058TU)',\n",
       " 'HP Pavilion Gaming 10th Gen Intel Core i7 Processor 15.6-inch FHD Gaming Laptop (16GB/512GB SSD + 32GB Intel Optane/Windows 10/NVIDIA 1650Ti 4GB/Shadow Black), 15-dk1509TX',\n",
       " 'Mi Notebook Horizon Edition 14 Intel Core i7-10510U 10th Gen 14-inch (35.56 cms) Thin and Light Laptop(8GB/512GB SSD/Windows 10/Nvidia MX350 2GB Graphics/Grey/1.35Kg), XMA1904-AF+Webcam',\n",
       " 'Lenovo IdeaPad Flex 5 11th Gen Intel Core i7 14-inch FHD IPS 2-in-1 Touchscreen Laptop (16GB/512GB SSD/Win 10/Office 2019/Lenovo Digital Pen Stylus/Fingerprint Reader/Graphite Grey/1.5Kg), 82HS0092IN',\n",
       " 'Dell 14 (2021) i7-1165G7 2in1 Touch Screen Laptop, 16Gb RAM, 512Gb SSD, 14” (35.56 cms) FHD Display, Win 10 + MSO, Backlit KB + FPR + Active Pen, Silver Metal Color (Inspiron 5410, D560469WIN9S)',\n",
       " 'ASUS VivoBook S S14 Intel Core i7-1165G7 11th Gen 14-inch FHD Thin and Light Laptop (8GB RAM/512GB SSD + 32GB Optane Memory/Windows 10/Office 2019/Iris X Graphics ;Dreamy White;1.4 Kg), S433EA-AM702TS',\n",
       " 'DELL Alienware  m15(R3) 15.6-inch FHD Gaming Laptop (10th Gen i7-10750H / 16 GB / 1TB SSD / Nvidia RTX 2060 6GB / Win 10 + MS Office / Lunar Light) D569917WIN9',\n",
       " '(Renewed) Dell Intel Core i7 7th Gen12.5 Inch(31.75 cms) (1920 x 1080)FHD TOUCHSCREEN Laptop (16GB RAM/512GB SSD/Windows 10 Pro/MS Office/Intel Integrated HD Graphics /1.18Kg,Black) Latitude E7280']"
      ]
     },
     "execution_count": 89,
     "metadata": {},
     "output_type": "execute_result"
    }
   ],
   "source": [
    "title_list[:10]"
   ]
  },
  {
   "cell_type": "code",
   "execution_count": 91,
   "metadata": {},
   "outputs": [
    {
     "data": {
      "text/plain": [
       "10"
      ]
     },
     "execution_count": 91,
     "metadata": {},
     "output_type": "execute_result"
    }
   ],
   "source": [
    "len(title_list[:10])"
   ]
  },
  {
   "cell_type": "code",
   "execution_count": 114,
   "metadata": {},
   "outputs": [
    {
     "data": {
      "text/plain": [
       "[<selenium.webdriver.remote.webelement.WebElement (session=\"facdf4b8f4cd49b044fff4b33fd8d16c\", element=\"bf76afd6-764e-4bae-898d-d7bed3169ec8\")>,\n",
       " <selenium.webdriver.remote.webelement.WebElement (session=\"facdf4b8f4cd49b044fff4b33fd8d16c\", element=\"abbd595a-33a3-408d-ac0d-031ecc65e4a5\")>,\n",
       " <selenium.webdriver.remote.webelement.WebElement (session=\"facdf4b8f4cd49b044fff4b33fd8d16c\", element=\"ef44b526-d09c-4d6d-9f7c-20b29c5f5533\")>,\n",
       " <selenium.webdriver.remote.webelement.WebElement (session=\"facdf4b8f4cd49b044fff4b33fd8d16c\", element=\"9f39f7e8-97ab-4dc6-a31c-d275d945bc9f\")>,\n",
       " <selenium.webdriver.remote.webelement.WebElement (session=\"facdf4b8f4cd49b044fff4b33fd8d16c\", element=\"de0d4da1-dc93-4019-a6a2-13f6d924d9c3\")>,\n",
       " <selenium.webdriver.remote.webelement.WebElement (session=\"facdf4b8f4cd49b044fff4b33fd8d16c\", element=\"f3128a9a-2402-4f37-9a01-998292b7858d\")>,\n",
       " <selenium.webdriver.remote.webelement.WebElement (session=\"facdf4b8f4cd49b044fff4b33fd8d16c\", element=\"e04d85de-59c6-4bd7-ac18-58b1b8962b65\")>,\n",
       " <selenium.webdriver.remote.webelement.WebElement (session=\"facdf4b8f4cd49b044fff4b33fd8d16c\", element=\"8c1c591c-13f4-4404-a908-c3d17f0de84a\")>,\n",
       " <selenium.webdriver.remote.webelement.WebElement (session=\"facdf4b8f4cd49b044fff4b33fd8d16c\", element=\"ae41c999-dc8c-4648-b10b-10275830cae8\")>,\n",
       " <selenium.webdriver.remote.webelement.WebElement (session=\"facdf4b8f4cd49b044fff4b33fd8d16c\", element=\"33718d83-dd66-4cc7-a94f-98af42c4306b\")>,\n",
       " <selenium.webdriver.remote.webelement.WebElement (session=\"facdf4b8f4cd49b044fff4b33fd8d16c\", element=\"da3eb409-8c8a-42af-a699-aed8a564a942\")>,\n",
       " <selenium.webdriver.remote.webelement.WebElement (session=\"facdf4b8f4cd49b044fff4b33fd8d16c\", element=\"7652f619-2a11-416d-b131-84983c77dd7d\")>,\n",
       " <selenium.webdriver.remote.webelement.WebElement (session=\"facdf4b8f4cd49b044fff4b33fd8d16c\", element=\"b873d90b-3cdc-4e42-bcf9-9b2c04bde17b\")>,\n",
       " <selenium.webdriver.remote.webelement.WebElement (session=\"facdf4b8f4cd49b044fff4b33fd8d16c\", element=\"601e383e-9650-4ec2-a1f2-7d63db49dd69\")>,\n",
       " <selenium.webdriver.remote.webelement.WebElement (session=\"facdf4b8f4cd49b044fff4b33fd8d16c\", element=\"a45cba66-773a-4bd1-9130-45a8a5f62ce3\")>,\n",
       " <selenium.webdriver.remote.webelement.WebElement (session=\"facdf4b8f4cd49b044fff4b33fd8d16c\", element=\"8e10f867-01bb-4a3d-aa68-6d33650e0cab\")>,\n",
       " <selenium.webdriver.remote.webelement.WebElement (session=\"facdf4b8f4cd49b044fff4b33fd8d16c\", element=\"c7b654f2-cf9f-47a9-b8ba-53ca73e29430\")>,\n",
       " <selenium.webdriver.remote.webelement.WebElement (session=\"facdf4b8f4cd49b044fff4b33fd8d16c\", element=\"dd684ba7-d235-42ba-95ab-43ec91f368e6\")>,\n",
       " <selenium.webdriver.remote.webelement.WebElement (session=\"facdf4b8f4cd49b044fff4b33fd8d16c\", element=\"1f8befa3-0c5e-4151-bc36-520acf6aa206\")>,\n",
       " <selenium.webdriver.remote.webelement.WebElement (session=\"facdf4b8f4cd49b044fff4b33fd8d16c\", element=\"0e003caa-12a9-4d34-bdf7-fef1364221a6\")>,\n",
       " <selenium.webdriver.remote.webelement.WebElement (session=\"facdf4b8f4cd49b044fff4b33fd8d16c\", element=\"03b250b6-2e58-4458-b385-8c4eb863c0b2\")>,\n",
       " <selenium.webdriver.remote.webelement.WebElement (session=\"facdf4b8f4cd49b044fff4b33fd8d16c\", element=\"2b950d6e-f935-4a19-8031-07a0a021248b\")>,\n",
       " <selenium.webdriver.remote.webelement.WebElement (session=\"facdf4b8f4cd49b044fff4b33fd8d16c\", element=\"43366eb0-e783-4b42-af4b-e69b0b7d7af0\")>,\n",
       " <selenium.webdriver.remote.webelement.WebElement (session=\"facdf4b8f4cd49b044fff4b33fd8d16c\", element=\"59bb984f-c390-48bd-9958-2b969ddeb227\")>,\n",
       " <selenium.webdriver.remote.webelement.WebElement (session=\"facdf4b8f4cd49b044fff4b33fd8d16c\", element=\"1415a648-a56c-40c7-9c38-2d1aef5a8cec\")>,\n",
       " <selenium.webdriver.remote.webelement.WebElement (session=\"facdf4b8f4cd49b044fff4b33fd8d16c\", element=\"29fce4de-e356-459d-89e2-b95008e42c73\")>,\n",
       " <selenium.webdriver.remote.webelement.WebElement (session=\"facdf4b8f4cd49b044fff4b33fd8d16c\", element=\"e72806ea-bd60-493c-9208-e73909bb8ec6\")>]"
      ]
     },
     "execution_count": 114,
     "metadata": {},
     "output_type": "execute_result"
    }
   ],
   "source": [
    "price_tags=driver.find_elements_by_xpath(\"//span[@class='a-price-whole']\")\n",
    "price_tags"
   ]
  },
  {
   "cell_type": "code",
   "execution_count": 115,
   "metadata": {},
   "outputs": [
    {
     "data": {
      "text/plain": [
       "['59,999',\n",
       " '78,993',\n",
       " '84,990',\n",
       " '86,990',\n",
       " '59,999',\n",
       " '83,990',\n",
       " '94,900',\n",
       " '76,990',\n",
       " '1,79,990',\n",
       " '61,999']"
      ]
     },
     "execution_count": 115,
     "metadata": {},
     "output_type": "execute_result"
    }
   ],
   "source": [
    "price_list=[]\n",
    "for i in price_tags:\n",
    "    price_list.append(i.text)\n",
    "price_list[:10]"
   ]
  },
  {
   "cell_type": "code",
   "execution_count": null,
   "metadata": {},
   "outputs": [],
   "source": []
  }
 ],
 "metadata": {
  "kernelspec": {
   "display_name": "Python 3",
   "language": "python",
   "name": "python3"
  },
  "language_info": {
   "codemirror_mode": {
    "name": "ipython",
    "version": 3
   },
   "file_extension": ".py",
   "mimetype": "text/x-python",
   "name": "python",
   "nbconvert_exporter": "python",
   "pygments_lexer": "ipython3",
   "version": "3.8.5"
  }
 },
 "nbformat": 4,
 "nbformat_minor": 4
}
